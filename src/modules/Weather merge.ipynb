{
 "cells": [
  {
   "cell_type": "code",
   "execution_count": 1,
   "id": "d3640064-b7df-4666-8f46-d6e2faec6958",
   "metadata": {},
   "outputs": [
    {
     "name": "stdout",
     "output_type": "stream",
     "text": [
      "Requirement already satisfied: pandasql in c:\\anaconda\\lib\\site-packages (0.7.3)\n",
      "Requirement already satisfied: numpy in c:\\anaconda\\lib\\site-packages (from pandasql) (1.21.2)\n",
      "Requirement already satisfied: pandas in c:\\anaconda\\lib\\site-packages (from pandasql) (1.3.3)\n",
      "Requirement already satisfied: sqlalchemy in c:\\anaconda\\lib\\site-packages (from pandasql) (1.4.22)\n",
      "Requirement already satisfied: python-dateutil>=2.7.3 in c:\\anaconda\\lib\\site-packages (from pandas->pandasql) (2.8.2)\n",
      "Requirement already satisfied: pytz>=2017.3 in c:\\anaconda\\lib\\site-packages (from pandas->pandasql) (2021.3)\n",
      "Requirement already satisfied: six>=1.5 in c:\\anaconda\\lib\\site-packages (from python-dateutil>=2.7.3->pandas->pandasql) (1.16.0)\n",
      "Requirement already satisfied: greenlet!=0.4.17 in c:\\anaconda\\lib\\site-packages (from sqlalchemy->pandasql) (1.1.1)\n"
     ]
    }
   ],
   "source": [
    "!pip install pandasql"
   ]
  },
  {
   "cell_type": "code",
   "execution_count": 2,
   "id": "7f4567c0-9dde-45fe-9e9f-7393a2d201d4",
   "metadata": {},
   "outputs": [],
   "source": [
    "import pandas as pd\n",
    "import numpy as np\n",
    "import datetime as dt\n",
    "import pytz\n",
    "from pandasql import sqldf"
   ]
  },
  {
   "cell_type": "code",
   "execution_count": 3,
   "id": "1119f19b-9179-4cd0-b2b5-2a4f7a55f8bb",
   "metadata": {},
   "outputs": [],
   "source": [
    "def utc_to_local(df, col):\n",
    "    '''\n",
    "    Convert utc time column into local time, used with lambda\n",
    "    Accept:\n",
    "        df: DataFrame\n",
    "        col: str, utc time column name\n",
    "    Return: converted local datetime\n",
    "    '''\n",
    "    df[col] = dt.datetime.strptime(df[col], '%Y-%m-%d %H:%M:%S')\n",
    "    tz = pytz.timezone(df['TimeZone'])\n",
    "    return df[col].replace(tzinfo=pytz.utc).astimezone(tz).replace(tzinfo=None)"
   ]
  },
  {
   "cell_type": "code",
   "execution_count": 4,
   "id": "3db8d0c9-f601-443d-b8a5-958a7f285ad0",
   "metadata": {},
   "outputs": [],
   "source": [
    "def fill_weather_type(df):\n",
    "    '''\n",
    "    Fill weather type for every flight, if no special weather return Clear. Used with df.apply()\n",
    "    Accept:\n",
    "        df: Row of dataframe\n",
    "    Return: Corresponding weather type if exists for the flight. 'Clear' if not exist.\n",
    "    '''\n",
    "    if df['idx'] in df_flight_weather['idx'].values:\n",
    "        return df_flight_weather[df_flight_weather['idx']==df['idx']]['dep_weather_type'].unique()[0]\n",
    "    else:\n",
    "        return 'Clear'"
   ]
  },
  {
   "cell_type": "code",
   "execution_count": 5,
   "id": "19fdd1e5-7d00-4ce9-8fc3-82d334f26a44",
   "metadata": {},
   "outputs": [],
   "source": [
    "def fill_weather_sev(df):\n",
    "    '''\n",
    "    Fill weather severity for every flight, if no special weather return Clear. Used with df.apply()\n",
    "    Accept:\n",
    "        df: Row of dataframe\n",
    "    Return: Corresponding weather severity if exists for the flight. 'Clear' if not exist.\n",
    "    '''\n",
    "    if df['idx'] in df_flight_weather['idx'].values:\n",
    "        return df_flight_weather[df_flight_weather['idx']==df['idx']]['dep_weather_severity'].unique()[-1]\n",
    "    else:\n",
    "        return 'Clear'"
   ]
  },
  {
   "cell_type": "code",
   "execution_count": 6,
   "id": "614975a6-1001-4182-92de-bbadb3790e47",
   "metadata": {},
   "outputs": [],
   "source": [
    "df_flight = pd.read_csv('train_flights_Jan_1w.csv') # Read flight data"
   ]
  },
  {
   "cell_type": "code",
   "execution_count": 7,
   "id": "b5d3bc6e-8d77-494f-b7e4-6f126a3fb567",
   "metadata": {},
   "outputs": [],
   "source": [
    "df_weather = pd.read_csv('WeatherEvents_Aug16_Dec20_Publish.csv') # Read weather data"
   ]
  },
  {
   "cell_type": "code",
   "execution_count": 8,
   "id": "4f02962c-7c66-4423-b917-02d91712ada5",
   "metadata": {},
   "outputs": [],
   "source": [
    "df_weather = df_weather[df_weather['StartTime(UTC)'].str.startswith('2018')|df_weather['StartTime(UTC)'].str.startswith('2019')] # Narrow down weather data to year 2018/19"
   ]
  },
  {
   "cell_type": "code",
   "execution_count": 9,
   "id": "55126d6a-1a7c-425e-b270-ac87b86d18a3",
   "metadata": {},
   "outputs": [],
   "source": [
    "# Convert utc time of weather event into local datetime\n",
    "df_weather['StartTime_local'] = df_weather[['StartTime(UTC)', 'TimeZone']].apply(lambda df: utc_to_local(df, 'StartTime(UTC)'), axis=1)\n",
    "df_weather['EndTime_local'] = df_weather[['EndTime(UTC)', 'TimeZone']].apply(lambda df: utc_to_local(df, 'EndTime(UTC)'), axis=1)\n",
    "\n",
    "# Create CRS depature local datetime \n",
    "df_flight['dep_datetime'] = (df_flight['fl_date']+' '+ df_flight['crs_dep_time'].apply(lambda x: str(x).zfill(4))).apply(lambda x: dt.datetime.strptime(x, '%Y-%m-%d %H%M'))"
   ]
  },
  {
   "cell_type": "code",
   "execution_count": 10,
   "id": "4a1cf76c-adf7-46ee-bc62-eb58380e0230",
   "metadata": {},
   "outputs": [],
   "source": [
    "# Create depature city\n",
    "df_flight['dep_city'] = df_flight['origin_city_name'].str[:-4]"
   ]
  },
  {
   "cell_type": "code",
   "execution_count": 11,
   "id": "c6899e03-99b3-4d47-88e3-1b05e11e9cba",
   "metadata": {},
   "outputs": [],
   "source": [
    "# Create idx for later weather fill check\n",
    "df_flight['idx'] = df_flight.index"
   ]
  },
  {
   "cell_type": "code",
   "execution_count": 12,
   "id": "7cb8d7ee-1d72-408b-8fed-b9153b7523d8",
   "metadata": {},
   "outputs": [],
   "source": [
    "# Use sql to merge flight and weather data on condition\n",
    "pysqldf = lambda q: sqldf(q, globals())"
   ]
  },
  {
   "cell_type": "code",
   "execution_count": 13,
   "id": "7d8cd7d5-61a6-4301-a84b-f67bfca31925",
   "metadata": {},
   "outputs": [],
   "source": [
    "q = \"\"\"\n",
    "    SELECT a.idx, b.Type AS dep_weather_type, b.Severity AS dep_weather_severity\n",
    "    FROM df_flight a\n",
    "    JOIN df_weather b ON a.dep_city = b.City\n",
    "    WHERE a.dep_datetime BETWEEN b.StartTime_local AND b.EndTime_local;\n",
    "\"\"\""
   ]
  },
  {
   "cell_type": "code",
   "execution_count": 14,
   "id": "e76cd50d-2148-400a-85b3-7db7624468ac",
   "metadata": {},
   "outputs": [],
   "source": [
    "df_flight_weather = pysqldf(q)"
   ]
  },
  {
   "cell_type": "code",
   "execution_count": 15,
   "id": "1daa9b1b-cd37-44c6-a429-253c2910b040",
   "metadata": {},
   "outputs": [],
   "source": [
    "# Drop duplicates\n",
    "df_flight_weather.drop_duplicates(inplace=True)"
   ]
  },
  {
   "cell_type": "code",
   "execution_count": 16,
   "id": "6a25cc59-7200-4026-b20a-6c9d61afc19d",
   "metadata": {},
   "outputs": [
    {
     "data": {
      "text/plain": [
       "(224768, 45)"
      ]
     },
     "execution_count": 16,
     "metadata": {},
     "output_type": "execute_result"
    }
   ],
   "source": [
    "df_flight.shape"
   ]
  },
  {
   "cell_type": "code",
   "execution_count": 17,
   "id": "8ef13680-03ea-496d-bff2-81d0d90c68da",
   "metadata": {},
   "outputs": [
    {
     "data": {
      "text/plain": [
       "(36742, 3)"
      ]
     },
     "execution_count": 17,
     "metadata": {},
     "output_type": "execute_result"
    }
   ],
   "source": [
    "df_flight_weather.shape"
   ]
  },
  {
   "cell_type": "code",
   "execution_count": 18,
   "id": "1c7fbf42-9dcf-43ee-a0d8-c9c9c3de5a7a",
   "metadata": {},
   "outputs": [],
   "source": [
    "# Fill weather type and severity to flights\n",
    "df_flight['dep_weather_type'] = df_flight.apply(fill_weather_type, axis=1)\n",
    "df_flight['dep_weather_severity'] = df_flight.apply(fill_weather_sev, axis=1)"
   ]
  },
  {
   "cell_type": "code",
   "execution_count": 19,
   "id": "689d74cb-be81-44ab-bec8-432572d5a345",
   "metadata": {},
   "outputs": [],
   "source": [
    "# Drop intermediate columns\n",
    "df_flight.drop(columns=['dep_datetime', 'dep_city', 'idx'], inplace=True)"
   ]
  },
  {
   "cell_type": "code",
   "execution_count": 20,
   "id": "f1efa2a4-6360-4711-b60b-b8176095c315",
   "metadata": {},
   "outputs": [
    {
     "data": {
      "text/plain": [
       "array(['Clear', 'Rain', 'Fog', 'Precipitation', 'Snow', 'Cold', 'Hail',\n",
       "       'Storm'], dtype=object)"
      ]
     },
     "execution_count": 20,
     "metadata": {},
     "output_type": "execute_result"
    }
   ],
   "source": [
    "df_flight['dep_weather_type'].apply(lambda x: str(x)).unique()"
   ]
  },
  {
   "cell_type": "code",
   "execution_count": 21,
   "id": "a09578f2-8625-447d-9d86-78287c5e5c3e",
   "metadata": {},
   "outputs": [
    {
     "data": {
      "text/plain": [
       "array(['Clear', 'Light', 'Moderate', 'UNK', 'Severe', 'Heavy', 'Other'],\n",
       "      dtype=object)"
      ]
     },
     "execution_count": 21,
     "metadata": {},
     "output_type": "execute_result"
    }
   ],
   "source": [
    "df_flight['dep_weather_severity'].apply(lambda x: str(x)).unique()"
   ]
  },
  {
   "cell_type": "code",
   "execution_count": 22,
   "id": "47e23cae-cee4-48f6-a17d-cac98a54ac39",
   "metadata": {},
   "outputs": [],
   "source": [
    "df_flight.to_csv('train_flights_weather_Jan_1w.csv')"
   ]
  }
 ],
 "metadata": {
  "kernelspec": {
   "display_name": "Python 3",
   "language": "python",
   "name": "python3"
  },
  "language_info": {
   "codemirror_mode": {
    "name": "ipython",
    "version": 3
   },
   "file_extension": ".py",
   "mimetype": "text/x-python",
   "name": "python",
   "nbconvert_exporter": "python",
   "pygments_lexer": "ipython3",
   "version": "3.8.11"
  }
 },
 "nbformat": 4,
 "nbformat_minor": 5
}
