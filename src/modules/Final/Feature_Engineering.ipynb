{
 "cells": [
  {
   "cell_type": "code",
   "execution_count": 1,
   "id": "91357e79-e024-4c4b-a33f-e67bad4f2d93",
   "metadata": {},
   "outputs": [],
   "source": [
    "import pandas as pd\n",
    "import numpy as np"
   ]
  },
  {
   "cell_type": "code",
   "execution_count": 2,
   "id": "464fcfcb-289f-499c-94bb-00d86376bfc5",
   "metadata": {},
   "outputs": [],
   "source": [
    "def round_hour(row, variable):\n",
    "    if int(row[variable + '_min']) > 30:\n",
    "        return int(row[variable +'_hour']) + 1\n",
    "    else:\n",
    "        return int(row[variable +'_hour'])"
   ]
  },
  {
   "cell_type": "code",
   "execution_count": 3,
   "id": "118d7521-8646-4cb8-8bf8-a08be72e14f4",
   "metadata": {},
   "outputs": [],
   "source": [
    "def get_cyclical_time(df, variable):\n",
    "    df[variable]= df[variable].replace([2400],0)\n",
    "    df[variable] = df[variable].astype(int).astype(str).str.zfill(4) \n",
    "    df[variable] = pd.to_datetime(df[variable], format='%H%M')\n",
    "    df[variable +'_hour'] = df[variable].dt.hour\n",
    "    df[variable + '_min'] = df[variable].dt.minute\n",
    "    df[variable +'_hour'] = df.apply(lambda x: round_hour(x, variable), axis=1)\n",
    "    df['sin_' + variable] = np.sin(df[variable +'_hour'])\n",
    "    df['cos_' + variable] = np.cos(df[variable +'_hour'])"
   ]
  },
  {
   "cell_type": "code",
   "execution_count": 4,
   "id": "45d3ab98-e9ce-4db3-889a-e0a62d8a872a",
   "metadata": {},
   "outputs": [],
   "source": [
    "def is_delayed(row):\n",
    "    if row['arr_delay'] <= 15:\n",
    "        return 0\n",
    "    else:\n",
    "        return 1\n",
    "\n",
    "def how_delayed(row):\n",
    "    if row['arr_delay'] <= 15:\n",
    "        return 0\n",
    "    else:\n",
    "        return row['arr_delay']"
   ]
  },
  {
   "cell_type": "code",
   "execution_count": 5,
   "id": "94dc5923-1dd4-46ac-b07f-afad2cf6f783",
   "metadata": {},
   "outputs": [],
   "source": [
    "def feat(df):\n",
    "    df['fl_date'] = pd.to_datetime(df['fl_date'])\n",
    "    df['date']= df['fl_date'].dt.day\n",
    "    df['weekday'] = df['fl_date'].dt.dayofweek\n",
    "    df['sin_weekday'] = np.sin(df['weekday'])\n",
    "    df['cos_weekday'] = np.cos(df['weekday'])"
   ]
  },
  {
   "cell_type": "code",
   "execution_count": 6,
   "id": "d486a9d6-9b1c-42aa-a86a-447e9280cff5",
   "metadata": {},
   "outputs": [],
   "source": [
    "def get_features(path, path2, path3, csv):\n",
    "    df_train = pd.read_csv(path + csv)\n",
    "    df_vali = pd.read_csv(path2 + csv)\n",
    "    df_test = pd.read_csv(path3 + 'cleaned_merged_flights_test.csv')\n",
    "    feat(df_train)\n",
    "    feat(df_vali)\n",
    "    feat(df_test)                        \n",
    "    get_cyclical_time(df_train, 'crs_dep_time')\n",
    "    get_cyclical_time(df_vali, 'crs_dep_time')\n",
    "    get_cyclical_time(df_test, 'crs_dep_time')\n",
    "    get_cyclical_time(df_train, 'dep_time')\n",
    "    get_cyclical_time(df_train, 'crs_arr_time')\n",
    "    get_cyclical_time(df_vali, 'crs_arr_time')\n",
    "    get_cyclical_time(df_test, 'crs_arr_time')\n",
    "    get_cyclical_time(df_train, 'arr_time')\n",
    "    df_train['delayed'] = df_train.apply(lambda x: is_delayed(x), axis=1)\n",
    "    df_train['delay'] = df_train.apply(lambda x: how_delayed(x), axis=1)\n",
    "    # average departure delay and number of fligths per carrier\n",
    "    df_train = df_train.join(df_train.groupby('op_unique_carrier').mean()['dep_delay'], on='op_unique_carrier', rsuffix='A').rename({'dep_delayA': 'DelayD_carrier'}, axis=1)\n",
    "    df_train = df_train.join(df_train.groupby('op_unique_carrier').count()['fl_date'], on='op_unique_carrier', rsuffix='A').rename({'fl_dateA': 'num_flights_carrier'}, axis=1)\n",
    "    df_vali = df_vali.join(df_train.groupby('op_unique_carrier').mean()['dep_delay'], on='op_unique_carrier', rsuffix='A').rename({'dep_delayA': 'DelayD_carrier'}, axis=1)\n",
    "    df_vali = df_vali.join(df_vali.groupby('op_unique_carrier').count()['fl_date'], on='op_unique_carrier', rsuffix='A').rename({'fl_dateA': 'num_flights_carrier'}, axis=1)\n",
    "    df_test = df_test.join(df_train.groupby('op_unique_carrier').mean()['dep_delay'], on='op_unique_carrier', rsuffix='A').rename({'dep_delayA': 'DelayD_carrier'}, axis=1)\n",
    "    df_test = df_test.join(df_test.groupby('op_unique_carrier').count()['fl_date'], on='op_unique_carrier', rsuffix='A').rename({'fl_dateA': 'num_flights_carrier'}, axis=1)\n",
    "    # average departure delay and number of flights per origin\n",
    "    df_train = df_train.join(df_train.groupby('origin').mean()['dep_delay'], on='origin', rsuffix='A').rename({'dep_delayA': 'DelayD_origin'}, axis=1)\n",
    "    df_train = df_train.join(df_train.groupby('origin').count()['fl_date'], on='origin', rsuffix='A').rename({'fl_dateA': 'num_flights_origin'}, axis=1)\n",
    "    df_vali = df_vali.join(df_train.groupby('origin').mean()['dep_delay'], on='origin', rsuffix='A').rename({'dep_delayA': 'DelayD_origin'}, axis=1)\n",
    "    df_vali = df_vali.join(df_vali.groupby('origin').count()['fl_date'], on='origin', rsuffix='A').rename({'fl_dateA': 'num_flights_origin'}, axis=1)\n",
    "    df_test = df_test.join(df_train.groupby('origin').mean()['dep_delay'], on='origin', rsuffix='A').rename({'dep_delayA': 'DelayD_origin'}, axis=1)\n",
    "    df_test = df_test.join(df_test.groupby('origin').count()['fl_date'], on='origin', rsuffix='A').rename({'fl_dateA': 'num_flights_origin'}, axis=1)\n",
    "    # average departure delay and number of flights per destination\n",
    "    df_train = df_train.join(df_train.groupby('dest').mean()['dep_delay'], on='dest', rsuffix='A').rename({'dep_delayA': 'DelayD_dest'}, axis=1)\n",
    "    df_train = df_train.join(df_train.groupby('dest').count()['fl_date'], on='dest', rsuffix='A').rename({'fl_dateA': 'num_flights_dest'}, axis=1)\n",
    "    df_vali = df_vali.join(df_train.groupby('dest').mean()['dep_delay'], on='dest', rsuffix='A').rename({'dep_delayA': 'DelayD_dest'}, axis=1)\n",
    "    df_vali = df_vali.join(df_vali.groupby('dest').count()['fl_date'], on='dest', rsuffix='A').rename({'fl_dateA': 'num_flights_dest'}, axis=1)\n",
    "    df_test = df_test.join(df_train.groupby('dest').mean()['dep_delay'], on='dest', rsuffix='A').rename({'dep_delayA': 'DelayD_dest'}, axis=1)\n",
    "    df_test = df_test.join(df_test.groupby('dest').count()['fl_date'], on='dest', rsuffix='A').rename({'fl_dateA': 'num_flights_dest'}, axis=1)\n",
    "    # average arrival delay per carrier, origin and destination\n",
    "    df_train = df_train.join(df_train.groupby('op_unique_carrier').mean()['arr_delay'], on='op_unique_carrier', rsuffix='A').rename({'arr_delayA': 'DelayA_carrier'}, axis=1)\n",
    "    df_train = df_train.join(df_train.groupby('origin').mean()['arr_delay'], on='origin', rsuffix='A').rename({'arr_delayA': 'DelayA_origin'}, axis=1)\n",
    "    df_train = df_train.join(df_train.groupby('dest').mean()['arr_delay'], on='dest', rsuffix='A').rename({'arr_delayA': 'DelayA_dest'}, axis=1)\n",
    "    df_vali = df_vali.join(df_train.groupby('op_unique_carrier').mean()['arr_delay'], on='op_unique_carrier', rsuffix='A').rename({'arr_delayA': 'DelayA_carrier'}, axis=1)\n",
    "    df_vali = df_vali.join(df_train.groupby('origin').mean()['arr_delay'], on='origin', rsuffix='A').rename({'arr_delayA': 'DelayA_origin'}, axis=1)\n",
    "    df_vali = df_vali.join(df_train.groupby('dest').mean()['arr_delay'], on='dest', rsuffix='A').rename({'arr_delayA': 'DelayA_dest'}, axis=1)\n",
    "    df_test = df_test.join(df_train.groupby('op_unique_carrier').mean()['arr_delay'], on='op_unique_carrier', rsuffix='A').rename({'arr_delayA': 'DelayA_carrier'}, axis=1)\n",
    "    df_test = df_test.join(df_train.groupby('origin').mean()['arr_delay'], on='origin', rsuffix='A').rename({'arr_delayA': 'DelayA_origin'}, axis=1)\n",
    "    df_test = df_test.join(df_train.groupby('dest').mean()['arr_delay'], on='dest', rsuffix='A').rename({'arr_delayA': 'DelayA_dest'}, axis=1)\n",
    "    # average arrival delay and number of flights per hour(Dep)\n",
    "    df_train = df_train.join(df_train.groupby('crs_dep_time_hour').mean()['arr_delay'], on='crs_dep_time_hour', rsuffix='A').rename({'arr_delayA': 'DelayA_hourly'}, axis=1)\n",
    "    df_train = df_train.join(df_train.groupby('crs_dep_time_hour').count()['arr_delay'], on='crs_dep_time_hour', rsuffix='A').rename({'arr_delayA': 'num_flights_hourly'}, axis=1)\n",
    "    df_vali = df_vali.join(df_train.groupby('crs_dep_time_hour').mean()['arr_delay'], on='crs_dep_time_hour', rsuffix='A').rename({'arr_delayA': 'DelayA_hourly'}, axis=1)\n",
    "    df_vali = df_vali.join(df_vali.groupby('crs_dep_time_hour').count()['fl_date'], on='crs_dep_time_hour', rsuffix='A').rename({'fl_dateA': 'num_flights_hourly'}, axis=1)\n",
    "    df_test = df_test.join(df_train.groupby('crs_dep_time_hour').mean()['arr_delay'], on='crs_dep_time_hour', rsuffix='A').rename({'arr_delayA': 'DelayA_hourly'}, axis=1)\n",
    "    df_test = df_test.join(df_test.groupby('crs_dep_time_hour').count()['fl_date'], on='crs_dep_time_hour', rsuffix='A').rename({'fl_dateA': 'num_flights_hourly'}, axis=1)\n",
    "    # average departure delay per hour(Dep)\n",
    "    df_train = df_train.join(df_train.groupby('crs_dep_time_hour').mean()['dep_delay'], on='crs_dep_time_hour', rsuffix='A').rename({'dep_delayA': 'DelayD_hourly'}, axis=1)\n",
    "    df_vali = df_vali.join(df_train.groupby('crs_dep_time_hour').mean()['dep_delay'], on='crs_dep_time_hour', rsuffix='A').rename({'dep_delayA': 'DelayD_hourly'}, axis=1)\n",
    "    df_test = df_test.join(df_train.groupby('crs_dep_time_hour').mean()['dep_delay'], on='crs_dep_time_hour', rsuffix='A').rename({'dep_delayA': 'DelayD_hourly'}, axis=1)\n",
    "    # average arrival delay per hour (per origin and per carrier)\n",
    "    df_train = df_train.join(df_train.groupby(['crs_dep_time_hour', 'origin']).mean()['arr_delay'], on=['crs_dep_time_hour', 'origin'], rsuffix='A').rename({'arr_delayA': 'DelayA_origin_hourly'}, axis=1)\n",
    "    df_train = df_train.join(df_train.groupby(['crs_dep_time_hour', 'op_unique_carrier']).mean()['arr_delay'], on=['crs_dep_time_hour', 'op_unique_carrier'], rsuffix='A').rename({'arr_delayA': 'DelayA_carrier_hourly'}, axis=1)\n",
    "    df_vali = df_vali.join(df_train.groupby(['crs_dep_time_hour', 'origin']).mean()['arr_delay'], on=['crs_dep_time_hour', 'origin'], rsuffix='A').rename({'arr_delayA': 'DelayA_origin_hourly'}, axis=1)\n",
    "    df_vali = df_vali.join(df_train.groupby(['crs_dep_time_hour', 'op_unique_carrier']).mean()['arr_delay'], on=['crs_dep_time_hour', 'op_unique_carrier'], rsuffix='A').rename({'arr_delayA': 'DelayA_carrier_hourly'}, axis=1)\n",
    "    df_test = df_test.join(df_train.groupby(['crs_dep_time_hour', 'origin']).mean()['arr_delay'], on=['crs_dep_time_hour', 'origin'], rsuffix='A').rename({'arr_delayA': 'DelayA_origin_hourly'}, axis=1)\n",
    "    df_test = df_test.join(df_train.groupby(['crs_dep_time_hour', 'op_unique_carrier']).mean()['arr_delay'], on=['crs_dep_time_hour', 'op_unique_carrier'], rsuffix='A').rename({'arr_delayA': 'DelayA_carrier_hourly'}, axis=1)\n",
    "    # average arrival delay per hour (per origin and per carrier)\n",
    "    df_train = df_train.join(df_train.groupby(['crs_dep_time_hour', 'origin']).mean()['dep_delay'], on=['crs_dep_time_hour', 'origin'], rsuffix='A').rename({'dep_delayA': 'DelayD_origin_hourly'}, axis=1)\n",
    "    df_train = df_train.join(df_train.groupby(['crs_dep_time_hour', 'op_unique_carrier']).mean()['dep_delay'], on=['crs_dep_time_hour', 'op_unique_carrier'], rsuffix='A').rename({'dep_delayA': 'DelayD_carrier_hourly'}, axis=1)\n",
    "    df_vali = df_vali.join(df_train.groupby(['crs_dep_time_hour', 'origin']).mean()['dep_delay'], on=['crs_dep_time_hour', 'origin'], rsuffix='A').rename({'dep_delayA': 'DelayD_origin_hourly'}, axis=1)\n",
    "    df_vali = df_vali.join(df_train.groupby(['crs_dep_time_hour', 'op_unique_carrier']).mean()['dep_delay'], on=['crs_dep_time_hour', 'op_unique_carrier'], rsuffix='A').rename({'dep_delayA': 'DelayD_carrier_hourly'}, axis=1)\n",
    "    df_test = df_test.join(df_train.groupby(['crs_dep_time_hour', 'origin']).mean()['dep_delay'], on=['crs_dep_time_hour', 'origin'], rsuffix='A').rename({'dep_delayA': 'DelayD_origin_hourly'}, axis=1)\n",
    "    df_test = df_test.join(df_train.groupby(['crs_dep_time_hour', 'op_unique_carrier']).mean()['dep_delay'], on=['crs_dep_time_hour', 'op_unique_carrier'], rsuffix='A').rename({'dep_delayA': 'DelayD_carrier_hourly'}, axis=1)\n",
    "    df_train.to_csv(f'{path}train_engineered_{csv}', index=None)\n",
    "    df_vali.to_csv(f'{path2}vali_engineered_{csv}', index=None)\n",
    "    df_test.to_csv(f'{path3}test_engineered_{csv}', index=None)"
   ]
  },
  {
   "cell_type": "code",
   "execution_count": 7,
   "id": "b84b4645-7ee3-4155-b106-7b45a30fe882",
   "metadata": {},
   "outputs": [],
   "source": [
    "path = 'final2/Training/'\n",
    "path2 = 'final2/Validation/'\n",
    "path3 = 'final2/Testing/'\n",
    "file1 = 'cleaned_merged_flights_Dec_Jan.csv'\n",
    "file2 = 'cleaned_merged_flights_Dec.csv' \n",
    "file3 = 'cleaned_merged_flights_Jan_1w.csv' \n",
    "file4 = 'cleaned_merged_flights_Jan_2w.csv' \n",
    "file5 = 'cleaned_merged_flights_Jan.csv' \n",
    "files = [file1,file2,file3,file4,file5]"
   ]
  },
  {
   "cell_type": "code",
   "execution_count": 8,
   "id": "0afe6c94-a8fc-4e21-b222-ca163be0e5ef",
   "metadata": {},
   "outputs": [],
   "source": [
    "for i in files:\n",
    "    get_features(path, path2, path3, i)"
   ]
  },
  {
   "cell_type": "code",
   "execution_count": null,
   "id": "daa1cfea-ac8e-41e4-801e-99907b160add",
   "metadata": {},
   "outputs": [],
   "source": []
  },
  {
   "cell_type": "code",
   "execution_count": null,
   "id": "c294c275-77a6-4988-bb8f-778ab1234d7f",
   "metadata": {},
   "outputs": [],
   "source": []
  }
 ],
 "metadata": {
  "kernelspec": {
   "display_name": "Python 3",
   "language": "python",
   "name": "python3"
  },
  "language_info": {
   "codemirror_mode": {
    "name": "ipython",
    "version": 3
   },
   "file_extension": ".py",
   "mimetype": "text/x-python",
   "name": "python",
   "nbconvert_exporter": "python",
   "pygments_lexer": "ipython3",
   "version": "3.8.11"
  }
 },
 "nbformat": 4,
 "nbformat_minor": 5
}
