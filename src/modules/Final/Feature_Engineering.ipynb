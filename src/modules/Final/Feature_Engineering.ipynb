{
 "cells": [
  {
   "cell_type": "code",
   "execution_count": 2,
   "id": "91357e79-e024-4c4b-a33f-e67bad4f2d93",
   "metadata": {},
   "outputs": [],
   "source": [
    "import pandas as pd\n",
    "import numpy as np"
   ]
  },
  {
   "cell_type": "code",
   "execution_count": 3,
   "id": "464fcfcb-289f-499c-94bb-00d86376bfc5",
   "metadata": {},
   "outputs": [],
   "source": [
    "def round_hour(row, variable):\n",
    "    if int(row[variable + '_min']) > 30:\n",
    "        return int(row[variable +'_hour']) + 1\n",
    "    else:\n",
    "        return int(row[variable +'_hour'])"
   ]
  },
  {
   "cell_type": "code",
   "execution_count": 10,
   "id": "118d7521-8646-4cb8-8bf8-a08be72e14f4",
   "metadata": {},
   "outputs": [],
   "source": [
    "def get_cyclical_time(df, variable):\n",
    "    df[variable]= df[variable].replace([2400],0)\n",
    "    df[variable] = df[variable].astype(int).astype(str).str.zfill(4) \n",
    "    df[variable] = pd.to_datetime(df[variable], format='%H%M')\n",
    "    df[variable +'_hour'] = df[variable].dt.hour\n",
    "    df[variable + '_min'] = df[variable].dt.minute\n",
    "    df[variable +'_hour'] = df.apply(lambda x: round_hour(x, variable), axis=1)\n",
    "    df['sin_' + variable] = np.sin(df[variable +'_hour'])\n",
    "    df['cos_' + variable] = np.cos(df[variable +'_hour'])"
   ]
  },
  {
   "cell_type": "code",
   "execution_count": 5,
   "id": "45d3ab98-e9ce-4db3-889a-e0a62d8a872a",
   "metadata": {},
   "outputs": [],
   "source": [
    "def is_delayed(row):\n",
    "    if row['arr_delay'] <= 15:\n",
    "        return 0\n",
    "    else:\n",
    "        return 1\n",
    "\n",
    "def how_delayed(row):\n",
    "    if row['arr_delay'] <= 15:\n",
    "        return 0\n",
    "    else:\n",
    "        return row['arr_delay']"
   ]
  },
  {
   "cell_type": "code",
   "execution_count": 9,
   "id": "d486a9d6-9b1c-42aa-a86a-447e9280cff5",
   "metadata": {},
   "outputs": [],
   "source": [
    "def get_features(path, path2, tvt, csv):\n",
    "    df = pd.read_csv(path + csv)\n",
    "    dftest = pd.read_csv(path2 + csv)\n",
    "    df['fl_date'] = pd.to_datetime(df['fl_date'])\n",
    "    df['date']= df['fl_date'].dt.day\n",
    "    df['weekday'] = df['fl_date'].dt.dayofweek\n",
    "    df['sin_weekday'] = np.sin(df['weekday'])\n",
    "    df['cos_weekday'] = np.cos(df['weekday'])\n",
    "    dftest['fl_date'] = pd.to_datetime(dftest['fl_date'])\n",
    "    dftest['date']= dftest['fl_date'].dt.day\n",
    "    dftest['weekday'] = dftest['fl_date'].dt.dayofweek\n",
    "    dftest['sin_weekday'] = np.sin(dftest['weekday'])\n",
    "    dftest['cos_weekday'] = np.cos(dftest['weekday'])\n",
    "    get_cyclical_time(df, 'crs_dep_time')\n",
    "    get_cyclical_time(dftest, 'crs_dep_time')\n",
    "    get_cyclical_time(df, 'dep_time')\n",
    "    get_cyclical_time(df, 'crs_arr_time')\n",
    "    get_cyclical_time(dftest, 'crs_arr_time')\n",
    "    get_cyclical_time(df, 'arr_time')\n",
    "    df['delayed'] = df.apply(lambda x: is_delayed(x), axis=1)\n",
    "    df['delay'] = df.apply(lambda x: how_delayed(x), axis=1)\n",
    "    # average departure delay and number of fligths per carrier\n",
    "    df = df.join(df.groupby('op_unique_carrier').mean()['dep_delay'], on='op_unique_carrier', rsuffix='A').rename({'dep_delayA': 'DelayD_carrier'}, axis=1)\n",
    "    df = df.join(df.groupby('op_unique_carrier').count()['fl_date'], on='op_unique_carrier', rsuffix='A').rename({'fl_dateA': 'num_flights_carrier'}, axis=1)\n",
    "    dftest = dftest.join(df.groupby('op_unique_carrier').mean()['dep_delay'], on='op_unique_carrier', rsuffix='A').rename({'dep_delayA': 'DelayD_carrier'}, axis=1)\n",
    "    dftest = dftest.join(dftest.groupby('op_unique_carrier').count()['fl_date'], on='op_unique_carrier', rsuffix='A').rename({'fl_dateA': 'num_flights_carrier'}, axis=1)\n",
    "    # average departure delay and number of flights per origin\n",
    "    df = df.join(df.groupby('origin').mean()['dep_delay'], on='origin', rsuffix='A').rename({'dep_delayA': 'DelayD_origin'}, axis=1)\n",
    "    df = df.join(df.groupby('origin').count()['fl_date'], on='origin', rsuffix='A').rename({'fl_dateA': 'num_flights_origin'}, axis=1)\n",
    "    dftest = dftest.join(df.groupby('origin').mean()['dep_delay'], on='origin', rsuffix='A').rename({'dep_delayA': 'DelayD_origin'}, axis=1)\n",
    "    dftest = dftest.join(dftest.groupby('origin').count()['fl_date'], on='origin', rsuffix='A').rename({'fl_dateA': 'num_flights_origin'}, axis=1)\n",
    "    # average departure delay and number of flights per destination\n",
    "    df = df.join(df.groupby('dest').mean()['dep_delay'], on='dest', rsuffix='A').rename({'dep_delayA': 'DelayD_dest'}, axis=1)\n",
    "    df = df.join(df.groupby('dest').count()['fl_date'], on='dest', rsuffix='A').rename({'fl_dateA': 'num_flights_dest'}, axis=1)\n",
    "    dftest = dftest.join(df.groupby('dest').mean()['dep_delay'], on='dest', rsuffix='A').rename({'dep_delayA': 'DelayD_dest'}, axis=1)\n",
    "    dftest = dftest.join(dftest.groupby('dest').count()['fl_date'], on='dest', rsuffix='A').rename({'fl_dateA': 'num_flights_dest'}, axis=1)\n",
    "    # average arrival delay per carrier, origin and destination\n",
    "    df = df.join(df.groupby('op_unique_carrier').mean()['arr_delay'], on='op_unique_carrier', rsuffix='A').rename({'arr_delayA': 'DelayA_carrier'}, axis=1)\n",
    "    df = df.join(df.groupby('origin').mean()['arr_delay'], on='origin', rsuffix='A').rename({'arr_delayA': 'DelayA_origin'}, axis=1)\n",
    "    df = df.join(df.groupby('dest').mean()['arr_delay'], on='dest', rsuffix='A').rename({'arr_delayA': 'DelayA_dest'}, axis=1)\n",
    "    dftest = dftest.join(df.groupby('op_unique_carrier').mean()['arr_delay'], on='op_unique_carrier', rsuffix='A').rename({'arr_delayA': 'DelayA_carrier'}, axis=1)\n",
    "    dftest = dftest.join(df.groupby('origin').mean()['arr_delay'], on='origin', rsuffix='A').rename({'arr_delayA': 'DelayA_origin'}, axis=1)\n",
    "    dftest = dftest.join(df.groupby('dest').mean()['arr_delay'], on='dest', rsuffix='A').rename({'arr_delayA': 'DelayA_dest'}, axis=1)\n",
    "    # average arrival delay and number of flights per hour(Dep)\n",
    "    df = df.join(df.groupby('crs_dep_time_hour').mean()['arr_delay'], on='crs_dep_time_hour', rsuffix='A').rename({'arr_delayA': 'DelayA_hourly'}, axis=1)\n",
    "    df = df.join(df.groupby('crs_dep_time_hour').count()['arr_delay'], on='crs_dep_time_hour', rsuffix='A').rename({'arr_delayA': 'num_flights_hourly'}, axis=1)\n",
    "    dftest = dftest.join(df.groupby('crs_dep_time_hour').mean()['arr_delay'], on='crs_dep_time_hour', rsuffix='A').rename({'arr_delayA': 'DelayA_hourly'}, axis=1)\n",
    "    dftest = dftest.join(dftest.groupby('crs_dep_time_hour').count()['fl_date'], on='crs_dep_time_hour', rsuffix='A').rename({'fl_dateA': 'num_flights_hourly'}, axis=1)\n",
    "    # average departure delay per hour(Dep)\n",
    "    df = df.join(df.groupby('crs_dep_time_hour').mean()['dep_delay'], on='crs_dep_time_hour', rsuffix='A').rename({'dep_delayA': 'DelayD_hourly'}, axis=1)\n",
    "    dftest = dftest.join(df.groupby('crs_dep_time_hour').mean()['dep_delay'], on='crs_dep_time_hour', rsuffix='A').rename({'dep_delayA': 'DelayD_hourly'}, axis=1)\n",
    "    # average arrival delay per hour (per origin and per carrier)\n",
    "    df = df.join(df.groupby(['crs_dep_time_hour', 'origin']).mean()['arr_delay'], on=['crs_dep_time_hour', 'origin'], rsuffix='A').rename({'arr_delayA': 'DelayA_origin_hourly'}, axis=1)\n",
    "    df = df.join(df.groupby(['crs_dep_time_hour', 'op_unique_carrier']).mean()['arr_delay'], on=['crs_dep_time_hour', 'op_unique_carrier'], rsuffix='A').rename({'arr_delayA': 'DelayA_carrier_hourly'}, axis=1)\n",
    "    dftest = dftest.join(df.groupby(['crs_dep_time_hour', 'origin']).mean()['arr_delay'], on=['crs_dep_time_hour', 'origin'], rsuffix='A').rename({'arr_delayA': 'DelayA_origin_hourly'}, axis=1)\n",
    "    dftest = dftest.join(df.groupby(['crs_dep_time_hour', 'op_unique_carrier']).mean()['arr_delay'], on=['crs_dep_time_hour', 'op_unique_carrier'], rsuffix='A').rename({'arr_delayA': 'DelayA_carrier_hourly'}, axis=1)\n",
    "    # average arrival delay per hour (per origin and per carrier)\n",
    "    df = df.join(df.groupby(['crs_dep_time_hour', 'origin']).mean()['dep_delay'], on=['crs_dep_time_hour', 'origin'], rsuffix='A').rename({'dep_delayA': 'DelayD_origin_hourly'}, axis=1)\n",
    "    df = df.join(df.groupby(['crs_dep_time_hour', 'op_unique_carrier']).mean()['dep_delay'], on=['crs_dep_time_hour', 'op_unique_carrier'], rsuffix='A').rename({'dep_delayA': 'DelayD_carrier_hourly'}, axis=1)\n",
    "    dftest = dftest.join(df.groupby(['crs_dep_time_hour', 'origin']).mean()['dep_delay'], on=['crs_dep_time_hour', 'origin'], rsuffix='A').rename({'dep_delayA': 'DelayD_origin_hourly'}, axis=1)\n",
    "    dftest = dftest.join(df.groupby(['crs_dep_time_hour', 'op_unique_carrier']).mean()['dep_delay'], on=['crs_dep_time_hour', 'op_unique_carrier'], rsuffix='A').rename({'dep_delayA': 'DelayD_carrier_hourly'}, axis=1)\n",
    "    df.to_csv(f'{path}engineered_{csv}', index=None)\n",
    "    dftest.to_csv(f'{path}engineered_test{csv}', index=None)"
   ]
  },
  {
   "cell_type": "code",
   "execution_count": 12,
   "id": "b84b4645-7ee3-4155-b106-7b45a30fe882",
   "metadata": {},
   "outputs": [],
   "source": [
    "path = 'Training/'\n",
    "train = 'train_'\n",
    "test = 'test_'\n",
    "file1 = 'finalcleaned_finalraw_flights_Dec_Jan.csv'\n",
    "file2 = 'finalcleaned_finalraw_flights_Dec.csv' \n",
    "file3 = 'finalcleaned_finalraw_flights_Jan_1w.csv' \n",
    "file4 = 'finalcleaned_finalraw_flights_Jan_2w.csv' \n",
    "file5 = 'finalcleaned_finalraw_flights_Jan.csv' \n",
    "files = [file1,file2,file3,file4,file5]"
   ]
  },
  {
   "cell_type": "code",
   "execution_count": 11,
   "id": "0afe6c94-a8fc-4e21-b222-ca163be0e5ef",
   "metadata": {},
   "outputs": [
    {
     "ename": "TypeError",
     "evalue": "get_features() missing 1 required positional argument: 'csv'",
     "output_type": "error",
     "traceback": [
      "\u001b[0;31m---------------------------------------------------------------------------\u001b[0m",
      "\u001b[0;31mTypeError\u001b[0m                                 Traceback (most recent call last)",
      "\u001b[0;32m/tmp/ipykernel_11054/4047350092.py\u001b[0m in \u001b[0;36m<module>\u001b[0;34m\u001b[0m\n\u001b[1;32m      1\u001b[0m \u001b[0;32mfor\u001b[0m \u001b[0mi\u001b[0m \u001b[0;32min\u001b[0m \u001b[0mfiles\u001b[0m\u001b[0;34m:\u001b[0m\u001b[0;34m\u001b[0m\u001b[0;34m\u001b[0m\u001b[0m\n\u001b[0;32m----> 2\u001b[0;31m     \u001b[0mget_features\u001b[0m\u001b[0;34m(\u001b[0m\u001b[0mpath\u001b[0m\u001b[0;34m,\u001b[0m \u001b[0mtrain\u001b[0m\u001b[0;34m,\u001b[0m \u001b[0mi\u001b[0m\u001b[0;34m)\u001b[0m\u001b[0;34m\u001b[0m\u001b[0;34m\u001b[0m\u001b[0m\n\u001b[0m",
      "\u001b[0;31mTypeError\u001b[0m: get_features() missing 1 required positional argument: 'csv'"
     ]
    }
   ],
   "source": [
    "for i in files:\n",
    "    get_features(path, train, i)"
   ]
  },
  {
   "cell_type": "code",
   "execution_count": 15,
   "id": "4d252029-7221-455b-a733-3b04216108ad",
   "metadata": {},
   "outputs": [],
   "source": [
    "path2 = 'Validation/'\n",
    "for i in files:\n",
    "    get_features(path, test, i)"
   ]
  },
  {
   "cell_type": "code",
   "execution_count": 13,
   "id": "7d93547a-faac-41ab-8472-da8895c810df",
   "metadata": {},
   "outputs": [
    {
     "ename": "FileNotFoundError",
     "evalue": "[Errno 2] No such file or directory: 'Training/finalcleaned_finalraw_flights_Jan_1w.csv'",
     "output_type": "error",
     "traceback": [
      "\u001b[0;31m---------------------------------------------------------------------------\u001b[0m",
      "\u001b[0;31mFileNotFoundError\u001b[0m                         Traceback (most recent call last)",
      "\u001b[0;32m/tmp/ipykernel_11054/3733515532.py\u001b[0m in \u001b[0;36m<module>\u001b[0;34m\u001b[0m\n\u001b[1;32m      1\u001b[0m \u001b[0mpath2\u001b[0m \u001b[0;34m=\u001b[0m \u001b[0;34m'Validation/'\u001b[0m\u001b[0;34m\u001b[0m\u001b[0;34m\u001b[0m\u001b[0m\n\u001b[0;32m----> 2\u001b[0;31m \u001b[0mget_features\u001b[0m\u001b[0;34m(\u001b[0m\u001b[0mpath\u001b[0m\u001b[0;34m,\u001b[0m \u001b[0mpath2\u001b[0m\u001b[0;34m,\u001b[0m \u001b[0mtest\u001b[0m\u001b[0;34m,\u001b[0m \u001b[0mfile3\u001b[0m\u001b[0;34m)\u001b[0m\u001b[0;34m\u001b[0m\u001b[0;34m\u001b[0m\u001b[0m\n\u001b[0m",
      "\u001b[0;32m/tmp/ipykernel_11054/3429208419.py\u001b[0m in \u001b[0;36mget_features\u001b[0;34m(path, path2, tvt, csv)\u001b[0m\n\u001b[1;32m      1\u001b[0m \u001b[0;32mdef\u001b[0m \u001b[0mget_features\u001b[0m\u001b[0;34m(\u001b[0m\u001b[0mpath\u001b[0m\u001b[0;34m,\u001b[0m \u001b[0mpath2\u001b[0m\u001b[0;34m,\u001b[0m \u001b[0mtvt\u001b[0m\u001b[0;34m,\u001b[0m \u001b[0mcsv\u001b[0m\u001b[0;34m)\u001b[0m\u001b[0;34m:\u001b[0m\u001b[0;34m\u001b[0m\u001b[0;34m\u001b[0m\u001b[0m\n\u001b[0;32m----> 2\u001b[0;31m     \u001b[0mdf\u001b[0m \u001b[0;34m=\u001b[0m \u001b[0mpd\u001b[0m\u001b[0;34m.\u001b[0m\u001b[0mread_csv\u001b[0m\u001b[0;34m(\u001b[0m\u001b[0mpath\u001b[0m \u001b[0;34m+\u001b[0m \u001b[0mcsv\u001b[0m\u001b[0;34m)\u001b[0m\u001b[0;34m\u001b[0m\u001b[0;34m\u001b[0m\u001b[0m\n\u001b[0m\u001b[1;32m      3\u001b[0m     \u001b[0mdftest\u001b[0m \u001b[0;34m=\u001b[0m \u001b[0mpd\u001b[0m\u001b[0;34m.\u001b[0m\u001b[0mread_csv\u001b[0m\u001b[0;34m(\u001b[0m\u001b[0mpath2\u001b[0m \u001b[0;34m+\u001b[0m \u001b[0mcsv\u001b[0m\u001b[0;34m)\u001b[0m\u001b[0;34m\u001b[0m\u001b[0;34m\u001b[0m\u001b[0m\n\u001b[1;32m      4\u001b[0m     \u001b[0mdf\u001b[0m\u001b[0;34m[\u001b[0m\u001b[0;34m'fl_date'\u001b[0m\u001b[0;34m]\u001b[0m \u001b[0;34m=\u001b[0m \u001b[0mpd\u001b[0m\u001b[0;34m.\u001b[0m\u001b[0mto_datetime\u001b[0m\u001b[0;34m(\u001b[0m\u001b[0mdf\u001b[0m\u001b[0;34m[\u001b[0m\u001b[0;34m'fl_date'\u001b[0m\u001b[0;34m]\u001b[0m\u001b[0;34m)\u001b[0m\u001b[0;34m\u001b[0m\u001b[0;34m\u001b[0m\u001b[0m\n\u001b[1;32m      5\u001b[0m     \u001b[0mdf\u001b[0m\u001b[0;34m[\u001b[0m\u001b[0;34m'date'\u001b[0m\u001b[0;34m]\u001b[0m\u001b[0;34m=\u001b[0m \u001b[0mdf\u001b[0m\u001b[0;34m[\u001b[0m\u001b[0;34m'fl_date'\u001b[0m\u001b[0;34m]\u001b[0m\u001b[0;34m.\u001b[0m\u001b[0mdt\u001b[0m\u001b[0;34m.\u001b[0m\u001b[0mday\u001b[0m\u001b[0;34m\u001b[0m\u001b[0;34m\u001b[0m\u001b[0m\n",
      "\u001b[0;32m~/anaconda3/envs/ML/lib/python3.9/site-packages/pandas/util/_decorators.py\u001b[0m in \u001b[0;36mwrapper\u001b[0;34m(*args, **kwargs)\u001b[0m\n\u001b[1;32m    309\u001b[0m                     \u001b[0mstacklevel\u001b[0m\u001b[0;34m=\u001b[0m\u001b[0mstacklevel\u001b[0m\u001b[0;34m,\u001b[0m\u001b[0;34m\u001b[0m\u001b[0;34m\u001b[0m\u001b[0m\n\u001b[1;32m    310\u001b[0m                 )\n\u001b[0;32m--> 311\u001b[0;31m             \u001b[0;32mreturn\u001b[0m \u001b[0mfunc\u001b[0m\u001b[0;34m(\u001b[0m\u001b[0;34m*\u001b[0m\u001b[0margs\u001b[0m\u001b[0;34m,\u001b[0m \u001b[0;34m**\u001b[0m\u001b[0mkwargs\u001b[0m\u001b[0;34m)\u001b[0m\u001b[0;34m\u001b[0m\u001b[0;34m\u001b[0m\u001b[0m\n\u001b[0m\u001b[1;32m    312\u001b[0m \u001b[0;34m\u001b[0m\u001b[0m\n\u001b[1;32m    313\u001b[0m         \u001b[0;32mreturn\u001b[0m \u001b[0mwrapper\u001b[0m\u001b[0;34m\u001b[0m\u001b[0;34m\u001b[0m\u001b[0m\n",
      "\u001b[0;32m~/anaconda3/envs/ML/lib/python3.9/site-packages/pandas/io/parsers/readers.py\u001b[0m in \u001b[0;36mread_csv\u001b[0;34m(filepath_or_buffer, sep, delimiter, header, names, index_col, usecols, squeeze, prefix, mangle_dupe_cols, dtype, engine, converters, true_values, false_values, skipinitialspace, skiprows, skipfooter, nrows, na_values, keep_default_na, na_filter, verbose, skip_blank_lines, parse_dates, infer_datetime_format, keep_date_col, date_parser, dayfirst, cache_dates, iterator, chunksize, compression, thousands, decimal, lineterminator, quotechar, quoting, doublequote, escapechar, comment, encoding, encoding_errors, dialect, error_bad_lines, warn_bad_lines, on_bad_lines, delim_whitespace, low_memory, memory_map, float_precision, storage_options)\u001b[0m\n\u001b[1;32m    584\u001b[0m     \u001b[0mkwds\u001b[0m\u001b[0;34m.\u001b[0m\u001b[0mupdate\u001b[0m\u001b[0;34m(\u001b[0m\u001b[0mkwds_defaults\u001b[0m\u001b[0;34m)\u001b[0m\u001b[0;34m\u001b[0m\u001b[0;34m\u001b[0m\u001b[0m\n\u001b[1;32m    585\u001b[0m \u001b[0;34m\u001b[0m\u001b[0m\n\u001b[0;32m--> 586\u001b[0;31m     \u001b[0;32mreturn\u001b[0m \u001b[0m_read\u001b[0m\u001b[0;34m(\u001b[0m\u001b[0mfilepath_or_buffer\u001b[0m\u001b[0;34m,\u001b[0m \u001b[0mkwds\u001b[0m\u001b[0;34m)\u001b[0m\u001b[0;34m\u001b[0m\u001b[0;34m\u001b[0m\u001b[0m\n\u001b[0m\u001b[1;32m    587\u001b[0m \u001b[0;34m\u001b[0m\u001b[0m\n\u001b[1;32m    588\u001b[0m \u001b[0;34m\u001b[0m\u001b[0m\n",
      "\u001b[0;32m~/anaconda3/envs/ML/lib/python3.9/site-packages/pandas/io/parsers/readers.py\u001b[0m in \u001b[0;36m_read\u001b[0;34m(filepath_or_buffer, kwds)\u001b[0m\n\u001b[1;32m    480\u001b[0m \u001b[0;34m\u001b[0m\u001b[0m\n\u001b[1;32m    481\u001b[0m     \u001b[0;31m# Create the parser.\u001b[0m\u001b[0;34m\u001b[0m\u001b[0;34m\u001b[0m\u001b[0m\n\u001b[0;32m--> 482\u001b[0;31m     \u001b[0mparser\u001b[0m \u001b[0;34m=\u001b[0m \u001b[0mTextFileReader\u001b[0m\u001b[0;34m(\u001b[0m\u001b[0mfilepath_or_buffer\u001b[0m\u001b[0;34m,\u001b[0m \u001b[0;34m**\u001b[0m\u001b[0mkwds\u001b[0m\u001b[0;34m)\u001b[0m\u001b[0;34m\u001b[0m\u001b[0;34m\u001b[0m\u001b[0m\n\u001b[0m\u001b[1;32m    483\u001b[0m \u001b[0;34m\u001b[0m\u001b[0m\n\u001b[1;32m    484\u001b[0m     \u001b[0;32mif\u001b[0m \u001b[0mchunksize\u001b[0m \u001b[0;32mor\u001b[0m \u001b[0miterator\u001b[0m\u001b[0;34m:\u001b[0m\u001b[0;34m\u001b[0m\u001b[0;34m\u001b[0m\u001b[0m\n",
      "\u001b[0;32m~/anaconda3/envs/ML/lib/python3.9/site-packages/pandas/io/parsers/readers.py\u001b[0m in \u001b[0;36m__init__\u001b[0;34m(self, f, engine, **kwds)\u001b[0m\n\u001b[1;32m    809\u001b[0m             \u001b[0mself\u001b[0m\u001b[0;34m.\u001b[0m\u001b[0moptions\u001b[0m\u001b[0;34m[\u001b[0m\u001b[0;34m\"has_index_names\"\u001b[0m\u001b[0;34m]\u001b[0m \u001b[0;34m=\u001b[0m \u001b[0mkwds\u001b[0m\u001b[0;34m[\u001b[0m\u001b[0;34m\"has_index_names\"\u001b[0m\u001b[0;34m]\u001b[0m\u001b[0;34m\u001b[0m\u001b[0;34m\u001b[0m\u001b[0m\n\u001b[1;32m    810\u001b[0m \u001b[0;34m\u001b[0m\u001b[0m\n\u001b[0;32m--> 811\u001b[0;31m         \u001b[0mself\u001b[0m\u001b[0;34m.\u001b[0m\u001b[0m_engine\u001b[0m \u001b[0;34m=\u001b[0m \u001b[0mself\u001b[0m\u001b[0;34m.\u001b[0m\u001b[0m_make_engine\u001b[0m\u001b[0;34m(\u001b[0m\u001b[0mself\u001b[0m\u001b[0;34m.\u001b[0m\u001b[0mengine\u001b[0m\u001b[0;34m)\u001b[0m\u001b[0;34m\u001b[0m\u001b[0;34m\u001b[0m\u001b[0m\n\u001b[0m\u001b[1;32m    812\u001b[0m \u001b[0;34m\u001b[0m\u001b[0m\n\u001b[1;32m    813\u001b[0m     \u001b[0;32mdef\u001b[0m \u001b[0mclose\u001b[0m\u001b[0;34m(\u001b[0m\u001b[0mself\u001b[0m\u001b[0;34m)\u001b[0m\u001b[0;34m:\u001b[0m\u001b[0;34m\u001b[0m\u001b[0;34m\u001b[0m\u001b[0m\n",
      "\u001b[0;32m~/anaconda3/envs/ML/lib/python3.9/site-packages/pandas/io/parsers/readers.py\u001b[0m in \u001b[0;36m_make_engine\u001b[0;34m(self, engine)\u001b[0m\n\u001b[1;32m   1038\u001b[0m             )\n\u001b[1;32m   1039\u001b[0m         \u001b[0;31m# error: Too many arguments for \"ParserBase\"\u001b[0m\u001b[0;34m\u001b[0m\u001b[0;34m\u001b[0m\u001b[0m\n\u001b[0;32m-> 1040\u001b[0;31m         \u001b[0;32mreturn\u001b[0m \u001b[0mmapping\u001b[0m\u001b[0;34m[\u001b[0m\u001b[0mengine\u001b[0m\u001b[0;34m]\u001b[0m\u001b[0;34m(\u001b[0m\u001b[0mself\u001b[0m\u001b[0;34m.\u001b[0m\u001b[0mf\u001b[0m\u001b[0;34m,\u001b[0m \u001b[0;34m**\u001b[0m\u001b[0mself\u001b[0m\u001b[0;34m.\u001b[0m\u001b[0moptions\u001b[0m\u001b[0;34m)\u001b[0m  \u001b[0;31m# type: ignore[call-arg]\u001b[0m\u001b[0;34m\u001b[0m\u001b[0;34m\u001b[0m\u001b[0m\n\u001b[0m\u001b[1;32m   1041\u001b[0m \u001b[0;34m\u001b[0m\u001b[0m\n\u001b[1;32m   1042\u001b[0m     \u001b[0;32mdef\u001b[0m \u001b[0m_failover_to_python\u001b[0m\u001b[0;34m(\u001b[0m\u001b[0mself\u001b[0m\u001b[0;34m)\u001b[0m\u001b[0;34m:\u001b[0m\u001b[0;34m\u001b[0m\u001b[0;34m\u001b[0m\u001b[0m\n",
      "\u001b[0;32m~/anaconda3/envs/ML/lib/python3.9/site-packages/pandas/io/parsers/c_parser_wrapper.py\u001b[0m in \u001b[0;36m__init__\u001b[0;34m(self, src, **kwds)\u001b[0m\n\u001b[1;32m     49\u001b[0m \u001b[0;34m\u001b[0m\u001b[0m\n\u001b[1;32m     50\u001b[0m         \u001b[0;31m# open handles\u001b[0m\u001b[0;34m\u001b[0m\u001b[0;34m\u001b[0m\u001b[0m\n\u001b[0;32m---> 51\u001b[0;31m         \u001b[0mself\u001b[0m\u001b[0;34m.\u001b[0m\u001b[0m_open_handles\u001b[0m\u001b[0;34m(\u001b[0m\u001b[0msrc\u001b[0m\u001b[0;34m,\u001b[0m \u001b[0mkwds\u001b[0m\u001b[0;34m)\u001b[0m\u001b[0;34m\u001b[0m\u001b[0;34m\u001b[0m\u001b[0m\n\u001b[0m\u001b[1;32m     52\u001b[0m         \u001b[0;32massert\u001b[0m \u001b[0mself\u001b[0m\u001b[0;34m.\u001b[0m\u001b[0mhandles\u001b[0m \u001b[0;32mis\u001b[0m \u001b[0;32mnot\u001b[0m \u001b[0;32mNone\u001b[0m\u001b[0;34m\u001b[0m\u001b[0;34m\u001b[0m\u001b[0m\n\u001b[1;32m     53\u001b[0m \u001b[0;34m\u001b[0m\u001b[0m\n",
      "\u001b[0;32m~/anaconda3/envs/ML/lib/python3.9/site-packages/pandas/io/parsers/base_parser.py\u001b[0m in \u001b[0;36m_open_handles\u001b[0;34m(self, src, kwds)\u001b[0m\n\u001b[1;32m    220\u001b[0m         \u001b[0mLet\u001b[0m \u001b[0mthe\u001b[0m \u001b[0mreaders\u001b[0m \u001b[0mopen\u001b[0m \u001b[0mIOHandles\u001b[0m \u001b[0mafter\u001b[0m \u001b[0mthey\u001b[0m \u001b[0mare\u001b[0m \u001b[0mdone\u001b[0m \u001b[0;32mwith\u001b[0m \u001b[0mtheir\u001b[0m \u001b[0mpotential\u001b[0m \u001b[0mraises\u001b[0m\u001b[0;34m.\u001b[0m\u001b[0;34m\u001b[0m\u001b[0;34m\u001b[0m\u001b[0m\n\u001b[1;32m    221\u001b[0m         \"\"\"\n\u001b[0;32m--> 222\u001b[0;31m         self.handles = get_handle(\n\u001b[0m\u001b[1;32m    223\u001b[0m             \u001b[0msrc\u001b[0m\u001b[0;34m,\u001b[0m\u001b[0;34m\u001b[0m\u001b[0;34m\u001b[0m\u001b[0m\n\u001b[1;32m    224\u001b[0m             \u001b[0;34m\"r\"\u001b[0m\u001b[0;34m,\u001b[0m\u001b[0;34m\u001b[0m\u001b[0;34m\u001b[0m\u001b[0m\n",
      "\u001b[0;32m~/anaconda3/envs/ML/lib/python3.9/site-packages/pandas/io/common.py\u001b[0m in \u001b[0;36mget_handle\u001b[0;34m(path_or_buf, mode, encoding, compression, memory_map, is_text, errors, storage_options)\u001b[0m\n\u001b[1;32m    700\u001b[0m         \u001b[0;32mif\u001b[0m \u001b[0mioargs\u001b[0m\u001b[0;34m.\u001b[0m\u001b[0mencoding\u001b[0m \u001b[0;32mand\u001b[0m \u001b[0;34m\"b\"\u001b[0m \u001b[0;32mnot\u001b[0m \u001b[0;32min\u001b[0m \u001b[0mioargs\u001b[0m\u001b[0;34m.\u001b[0m\u001b[0mmode\u001b[0m\u001b[0;34m:\u001b[0m\u001b[0;34m\u001b[0m\u001b[0;34m\u001b[0m\u001b[0m\n\u001b[1;32m    701\u001b[0m             \u001b[0;31m# Encoding\u001b[0m\u001b[0;34m\u001b[0m\u001b[0;34m\u001b[0m\u001b[0m\n\u001b[0;32m--> 702\u001b[0;31m             handle = open(\n\u001b[0m\u001b[1;32m    703\u001b[0m                 \u001b[0mhandle\u001b[0m\u001b[0;34m,\u001b[0m\u001b[0;34m\u001b[0m\u001b[0;34m\u001b[0m\u001b[0m\n\u001b[1;32m    704\u001b[0m                 \u001b[0mioargs\u001b[0m\u001b[0;34m.\u001b[0m\u001b[0mmode\u001b[0m\u001b[0;34m,\u001b[0m\u001b[0;34m\u001b[0m\u001b[0;34m\u001b[0m\u001b[0m\n",
      "\u001b[0;31mFileNotFoundError\u001b[0m: [Errno 2] No such file or directory: 'Training/finalcleaned_finalraw_flights_Jan_1w.csv'"
     ]
    }
   ],
   "source": [
    "path2 = 'Validation/'\n",
    "get_features(path, path2, test, file3)"
   ]
  },
  {
   "cell_type": "code",
   "execution_count": null,
   "id": "daa1cfea-ac8e-41e4-801e-99907b160add",
   "metadata": {},
   "outputs": [],
   "source": []
  },
  {
   "cell_type": "code",
   "execution_count": null,
   "id": "c294c275-77a6-4988-bb8f-778ab1234d7f",
   "metadata": {},
   "outputs": [],
   "source": []
  }
 ],
 "metadata": {
  "kernelspec": {
   "display_name": "Python 3 (ipykernel)",
   "language": "python",
   "name": "python3"
  },
  "language_info": {
   "codemirror_mode": {
    "name": "ipython",
    "version": 3
   },
   "file_extension": ".py",
   "mimetype": "text/x-python",
   "name": "python",
   "nbconvert_exporter": "python",
   "pygments_lexer": "ipython3",
   "version": "3.9.7"
  }
 },
 "nbformat": 4,
 "nbformat_minor": 5
}
