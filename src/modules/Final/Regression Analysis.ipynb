{
 "cells": [
  {
   "cell_type": "code",
   "execution_count": 116,
   "id": "4f58c652-3f63-4037-862e-821fe138a4d7",
   "metadata": {},
   "outputs": [],
   "source": [
    "import pandas as pd\n",
    "import numpy as np\n",
    "%matplotlib inline\n",
    "import matplotlib.pyplot as plt\n",
    "import pickle"
   ]
  },
  {
   "cell_type": "code",
   "execution_count": 117,
   "id": "7c80781d-3900-4754-9482-97d45f8c3fbd",
   "metadata": {},
   "outputs": [],
   "source": [
    "time_path = '_Jan_1w'\n",
    "\n",
    "train_path = 'final2/Training/train_engineered_cleaned_merged_flights'\n",
    "vali_path = 'final2/Validation/vali_engineered_cleaned_merged_flights'\n",
    "test_path = 'final2/Testing/test_engineered_cleaned_merged_flights'"
   ]
  },
  {
   "cell_type": "code",
   "execution_count": 118,
   "id": "df4048c6-e43d-49f7-b5fa-d95c858fd6d6",
   "metadata": {},
   "outputs": [],
   "source": [
    "df_train = pd.read_csv(train_path + time_path + '.csv')\n",
    "df_vali = pd.read_csv(vali_path + time_path + '.csv')\n",
    "df_test = pd.read_csv(test_path + time_path + '.csv')"
   ]
  },
  {
   "cell_type": "code",
   "execution_count": 119,
   "id": "7ef0855c-d970-4b82-8518-b15bbdccf782",
   "metadata": {},
   "outputs": [],
   "source": [
    "df_vali.rename(columns={'dep_delay': 'DelayD_carrier'}, inplace=True)\n",
    "df_test.rename(columns={'dep_delay': 'DelayD_carrier', 'arr_delay': 'DelayA_carrier'}, inplace=True)"
   ]
  },
  {
   "cell_type": "code",
   "execution_count": 120,
   "id": "a81affb4-728d-493d-b593-0dfa5376a14c",
   "metadata": {},
   "outputs": [],
   "source": [
    "df_vali['delay'] = pd.Series([x if (x > 15) else 0 for x in df_vali['arr_delay']])\n",
    "df_vali['delayed'] = pd.Series([0 if (x <= 0) else 1 for x in df_vali['arr_delay']])"
   ]
  },
  {
   "cell_type": "code",
   "execution_count": 121,
   "id": "9fcb00ac-4c6d-4478-b744-abc91bcb1295",
   "metadata": {},
   "outputs": [
    {
     "data": {
      "text/plain": [
       "Index([], dtype='object')"
      ]
     },
     "execution_count": 121,
     "metadata": {},
     "output_type": "execute_result"
    }
   ],
   "source": [
    "df_train.columns[df_train.isnull().any()]"
   ]
  },
  {
   "cell_type": "code",
   "execution_count": 122,
   "id": "8a1b86f1-a16b-4140-b35e-0972c560b0f9",
   "metadata": {},
   "outputs": [
    {
     "data": {
      "text/plain": [
       "Index(['DelayA_origin_hourly', 'DelayA_carrier_hourly', 'DelayD_origin_hourly',\n",
       "       'DelayD_carrier_hourly'],\n",
       "      dtype='object')"
      ]
     },
     "execution_count": 122,
     "metadata": {},
     "output_type": "execute_result"
    }
   ],
   "source": [
    "df_vali.columns[df_vali.isnull().any()]"
   ]
  },
  {
   "cell_type": "code",
   "execution_count": 123,
   "id": "a023bc7f-dbe0-4cca-ad66-65a48597ff1e",
   "metadata": {},
   "outputs": [
    {
     "data": {
      "text/plain": [
       "Index(['DelayD_origin', 'DelayD_dest', 'DelayA_origin', 'DelayA_dest',\n",
       "       'DelayA_origin_hourly', 'DelayA_carrier_hourly', 'DelayD_origin_hourly',\n",
       "       'DelayD_carrier_hourly'],\n",
       "      dtype='object')"
      ]
     },
     "execution_count": 123,
     "metadata": {},
     "output_type": "execute_result"
    }
   ],
   "source": [
    "df_test.columns[df_test.isnull().any()]"
   ]
  },
  {
   "cell_type": "code",
   "execution_count": 124,
   "id": "1d3e7c40-10eb-4d8f-a305-f51d65aa3a80",
   "metadata": {},
   "outputs": [
    {
     "data": {
      "text/plain": [
       "(96233, 79)"
      ]
     },
     "execution_count": 124,
     "metadata": {},
     "output_type": "execute_result"
    }
   ],
   "source": [
    "df_vali.shape"
   ]
  },
  {
   "cell_type": "code",
   "execution_count": 125,
   "id": "17fdf020-ca89-4d3d-8a58-eaaf7c8cdef0",
   "metadata": {},
   "outputs": [
    {
     "data": {
      "text/plain": [
       "(96119, 79)"
      ]
     },
     "execution_count": 125,
     "metadata": {},
     "output_type": "execute_result"
    }
   ],
   "source": [
    "df_vali.dropna(axis=0, inplace=True)\n",
    "df_vali.shape"
   ]
  },
  {
   "cell_type": "markdown",
   "id": "9af13468-2507-4d1e-b3ef-58536c1f3218",
   "metadata": {
    "tags": []
   },
   "source": [
    "## Coloumn Drop"
   ]
  },
  {
   "cell_type": "code",
   "execution_count": 126,
   "id": "39cb80cc-22df-4226-a3e7-95c82e9ae051",
   "metadata": {},
   "outputs": [],
   "source": [
    "train_vali_diff = df_train.columns.difference(df_vali.columns).to_list()\n",
    "vali_train_diff = df_vali.columns.difference(df_train.columns).to_list()"
   ]
  },
  {
   "cell_type": "code",
   "execution_count": 127,
   "id": "39c33e55-3758-407d-9b04-2a78f8ccddc9",
   "metadata": {},
   "outputs": [
    {
     "data": {
      "text/plain": [
       "['arr_time',\n",
       " 'arr_time_hour',\n",
       " 'arr_time_min',\n",
       " 'cos_arr_time',\n",
       " 'cos_dep_time',\n",
       " 'dep_delay',\n",
       " 'dep_time',\n",
       " 'dep_time_hour',\n",
       " 'dep_time_min',\n",
       " 'late_aircraft_delay',\n",
       " 'sin_arr_time',\n",
       " 'sin_dep_time',\n",
       " 'weather_delay']"
      ]
     },
     "execution_count": 127,
     "metadata": {},
     "output_type": "execute_result"
    }
   ],
   "source": [
    "train_vali_diff"
   ]
  },
  {
   "cell_type": "code",
   "execution_count": 128,
   "id": "9924bcd8-5d44-403c-9299-39f2a4db3325",
   "metadata": {},
   "outputs": [
    {
     "data": {
      "text/plain": [
       "[]"
      ]
     },
     "execution_count": 128,
     "metadata": {},
     "output_type": "execute_result"
    }
   ],
   "source": [
    "vali_train_diff"
   ]
  },
  {
   "cell_type": "code",
   "execution_count": 129,
   "id": "dbc58f83-32f9-4f17-9f0d-58a11e9e0fdc",
   "metadata": {},
   "outputs": [],
   "source": [
    "df_train = df_train.drop(train_vali_diff, axis=1)"
   ]
  },
  {
   "cell_type": "code",
   "execution_count": 130,
   "id": "96e4b159-980c-40be-b581-754826a90b9d",
   "metadata": {},
   "outputs": [],
   "source": [
    "vali_test_diff = df_vali.columns.difference(df_test.columns).to_list()\n",
    "test_vali_diff = df_test.columns.difference(df_vali.columns).to_list()"
   ]
  },
  {
   "cell_type": "code",
   "execution_count": 131,
   "id": "f7675cff-3a71-4170-aead-163c85f6ec35",
   "metadata": {},
   "outputs": [
    {
     "data": {
      "text/plain": [
       "['arr_delay',\n",
       " 'delay',\n",
       " 'delayed',\n",
       " 'man_Aerospatiale/alenia',\n",
       " 'man_Air Tractor Inc',\n",
       " 'man_Avions De Transport Regional',\n",
       " 'man_Benham John',\n",
       " 'man_Cessna',\n",
       " 'man_Cirrus Design Corp',\n",
       " 'man_Dassault',\n",
       " 'man_De Havilland Canada',\n",
       " 'man_Diamond Aircraft Ind Gmbh',\n",
       " 'man_Ela Aviacion',\n",
       " 'man_Gulfstream Aerospace',\n",
       " 'man_Mooney Aircraft Corp.',\n",
       " 'man_Pilatus',\n",
       " 'man_Quest Aircraft Company Llc',\n",
       " 'man_Robinson Helicopter Co',\n",
       " 'man_Saab',\n",
       " 'man_Socata',\n",
       " 'man_Tremble Jason M']"
      ]
     },
     "execution_count": 131,
     "metadata": {},
     "output_type": "execute_result"
    }
   ],
   "source": [
    "vali_test_diff"
   ]
  },
  {
   "cell_type": "code",
   "execution_count": 132,
   "id": "99349aed-66bf-4871-a76b-798eb17b21ba",
   "metadata": {},
   "outputs": [
    {
     "data": {
      "text/plain": [
       "['man_C Series Aircraft Ltd Ptnrsp']"
      ]
     },
     "execution_count": 132,
     "metadata": {},
     "output_type": "execute_result"
    }
   ],
   "source": [
    "test_vali_diff"
   ]
  },
  {
   "cell_type": "code",
   "execution_count": 133,
   "id": "f754fe12-4dda-4adc-be94-a71fe4169744",
   "metadata": {},
   "outputs": [],
   "source": [
    "df_test.drop('man_C Series Aircraft Ltd Ptnrsp', inplace=True, axis=1)\n",
    "df_train.drop(vali_test_diff[3:], inplace=True, axis=1)\n",
    "df_vali.drop(vali_test_diff[3:], inplace=True, axis=1)"
   ]
  },
  {
   "cell_type": "code",
   "execution_count": 134,
   "id": "ebc78128-9add-466f-9b82-7d17c495bd34",
   "metadata": {},
   "outputs": [
    {
     "name": "stdout",
     "output_type": "stream",
     "text": [
      "[]\n",
      "[]\n",
      "['arr_delay', 'delay', 'delayed']\n",
      "[]\n"
     ]
    }
   ],
   "source": [
    "for diff in [df_train.columns.difference(df_vali.columns).to_list(), \n",
    "             df_vali.columns.difference(df_train.columns).to_list(),\n",
    "             df_vali.columns.difference(df_test.columns).to_list(),\n",
    "             df_test.columns.difference(df_vali.columns).to_list()]:\n",
    "    print(diff)"
   ]
  },
  {
   "cell_type": "code",
   "execution_count": 135,
   "id": "49bfe471-d7cc-4bf7-8e57-56fa9b9156e8",
   "metadata": {},
   "outputs": [
    {
     "data": {
      "text/plain": [
       "Index(['fl_date', 'op_unique_carrier', 'origin', 'dest', 'crs_dep_time',\n",
       "       'crs_arr_time', 'arr_delay', 'distance', 'numflights', 'numstrikes',\n",
       "       'strikeprob', 'percentflights', 'region_N', 'region_O', 'region_S',\n",
       "       'region_W', 'man_Airbus', 'man_American Champion Aircraft',\n",
       "       'man_Bell Helicopter Textron Canada', 'man_Boeing', 'man_Bombardier',\n",
       "       'man_Canadair', 'man_Eads/alenia Atr', 'man_Embraer', 'man_Grumman',\n",
       "       'man_Mcdonnell Douglas', 'man_Piper', 'aircraft_age',\n",
       "       'type_large_airport', 'type_medium_airport', 'type_small_airport',\n",
       "       'date', 'weekday', 'sin_weekday', 'cos_weekday', 'crs_dep_time_hour',\n",
       "       'crs_dep_time_min', 'sin_crs_dep_time', 'cos_crs_dep_time',\n",
       "       'crs_arr_time_hour', 'crs_arr_time_min', 'sin_crs_arr_time',\n",
       "       'cos_crs_arr_time', 'delayed', 'delay', 'DelayD_carrier',\n",
       "       'num_flights_carrier', 'DelayD_origin', 'num_flights_origin',\n",
       "       'DelayD_dest', 'num_flights_dest', 'DelayA_carrier', 'DelayA_origin',\n",
       "       'DelayA_dest', 'DelayA_hourly', 'num_flights_hourly', 'DelayD_hourly',\n",
       "       'DelayA_origin_hourly', 'DelayA_carrier_hourly', 'DelayD_origin_hourly',\n",
       "       'DelayD_carrier_hourly'],\n",
       "      dtype='object')"
      ]
     },
     "execution_count": 135,
     "metadata": {},
     "output_type": "execute_result"
    }
   ],
   "source": [
    "df_train.columns"
   ]
  },
  {
   "cell_type": "code",
   "execution_count": 136,
   "id": "49a73747-b450-4327-8fb0-ebe03454f228",
   "metadata": {},
   "outputs": [
    {
     "data": {
      "text/html": [
       "<div>\n",
       "<style scoped>\n",
       "    .dataframe tbody tr th:only-of-type {\n",
       "        vertical-align: middle;\n",
       "    }\n",
       "\n",
       "    .dataframe tbody tr th {\n",
       "        vertical-align: top;\n",
       "    }\n",
       "\n",
       "    .dataframe thead th {\n",
       "        text-align: right;\n",
       "    }\n",
       "</style>\n",
       "<table border=\"1\" class=\"dataframe\">\n",
       "  <thead>\n",
       "    <tr style=\"text-align: right;\">\n",
       "      <th></th>\n",
       "      <th>min</th>\n",
       "      <th>max</th>\n",
       "    </tr>\n",
       "  </thead>\n",
       "  <tbody>\n",
       "    <tr>\n",
       "      <th>arr_delay</th>\n",
       "      <td>-8.200000e+02</td>\n",
       "      <td>1778.000000</td>\n",
       "    </tr>\n",
       "    <tr>\n",
       "      <th>distance</th>\n",
       "      <td>3.100000e+01</td>\n",
       "      <td>4983.000000</td>\n",
       "    </tr>\n",
       "    <tr>\n",
       "      <th>numflights</th>\n",
       "      <td>2.000000e+00</td>\n",
       "      <td>790253.000000</td>\n",
       "    </tr>\n",
       "    <tr>\n",
       "      <th>numstrikes</th>\n",
       "      <td>0.000000e+00</td>\n",
       "      <td>3799.000000</td>\n",
       "    </tr>\n",
       "    <tr>\n",
       "      <th>strikeprob</th>\n",
       "      <td>0.000000e+00</td>\n",
       "      <td>0.086329</td>\n",
       "    </tr>\n",
       "    <tr>\n",
       "      <th>percentflights</th>\n",
       "      <td>1.250634e-07</td>\n",
       "      <td>0.049416</td>\n",
       "    </tr>\n",
       "    <tr>\n",
       "      <th>aircraft_age</th>\n",
       "      <td>1.000000e+00</td>\n",
       "      <td>40.000000</td>\n",
       "    </tr>\n",
       "    <tr>\n",
       "      <th>date</th>\n",
       "      <td>1.000000e+00</td>\n",
       "      <td>8.000000</td>\n",
       "    </tr>\n",
       "    <tr>\n",
       "      <th>weekday</th>\n",
       "      <td>0.000000e+00</td>\n",
       "      <td>6.000000</td>\n",
       "    </tr>\n",
       "    <tr>\n",
       "      <th>sin_weekday</th>\n",
       "      <td>-9.589243e-01</td>\n",
       "      <td>0.909297</td>\n",
       "    </tr>\n",
       "    <tr>\n",
       "      <th>cos_weekday</th>\n",
       "      <td>-9.899925e-01</td>\n",
       "      <td>1.000000</td>\n",
       "    </tr>\n",
       "    <tr>\n",
       "      <th>crs_dep_time_hour</th>\n",
       "      <td>0.000000e+00</td>\n",
       "      <td>24.000000</td>\n",
       "    </tr>\n",
       "    <tr>\n",
       "      <th>crs_dep_time_min</th>\n",
       "      <td>0.000000e+00</td>\n",
       "      <td>59.000000</td>\n",
       "    </tr>\n",
       "    <tr>\n",
       "      <th>sin_crs_dep_time</th>\n",
       "      <td>-9.999902e-01</td>\n",
       "      <td>0.990607</td>\n",
       "    </tr>\n",
       "    <tr>\n",
       "      <th>cos_crs_dep_time</th>\n",
       "      <td>-9.999608e-01</td>\n",
       "      <td>1.000000</td>\n",
       "    </tr>\n",
       "    <tr>\n",
       "      <th>crs_arr_time_hour</th>\n",
       "      <td>0.000000e+00</td>\n",
       "      <td>24.000000</td>\n",
       "    </tr>\n",
       "    <tr>\n",
       "      <th>crs_arr_time_min</th>\n",
       "      <td>0.000000e+00</td>\n",
       "      <td>59.000000</td>\n",
       "    </tr>\n",
       "    <tr>\n",
       "      <th>sin_crs_arr_time</th>\n",
       "      <td>-9.999902e-01</td>\n",
       "      <td>0.990607</td>\n",
       "    </tr>\n",
       "    <tr>\n",
       "      <th>cos_crs_arr_time</th>\n",
       "      <td>-9.999608e-01</td>\n",
       "      <td>1.000000</td>\n",
       "    </tr>\n",
       "    <tr>\n",
       "      <th>DelayD_carrier</th>\n",
       "      <td>-5.338710e+00</td>\n",
       "      <td>33.164773</td>\n",
       "    </tr>\n",
       "    <tr>\n",
       "      <th>num_flights_carrier</th>\n",
       "      <td>6.200000e+01</td>\n",
       "      <td>40353.000000</td>\n",
       "    </tr>\n",
       "    <tr>\n",
       "      <th>DelayD_origin</th>\n",
       "      <td>-1.500000e+01</td>\n",
       "      <td>148.090909</td>\n",
       "    </tr>\n",
       "    <tr>\n",
       "      <th>num_flights_origin</th>\n",
       "      <td>2.000000e+00</td>\n",
       "      <td>11081.000000</td>\n",
       "    </tr>\n",
       "    <tr>\n",
       "      <th>DelayD_dest</th>\n",
       "      <td>-9.300000e+00</td>\n",
       "      <td>109.681818</td>\n",
       "    </tr>\n",
       "    <tr>\n",
       "      <th>num_flights_dest</th>\n",
       "      <td>2.000000e+00</td>\n",
       "      <td>11173.000000</td>\n",
       "    </tr>\n",
       "    <tr>\n",
       "      <th>DelayA_carrier</th>\n",
       "      <td>-4.758065e+00</td>\n",
       "      <td>28.619673</td>\n",
       "    </tr>\n",
       "    <tr>\n",
       "      <th>DelayA_origin</th>\n",
       "      <td>-1.855556e+01</td>\n",
       "      <td>151.363636</td>\n",
       "    </tr>\n",
       "    <tr>\n",
       "      <th>DelayA_dest</th>\n",
       "      <td>-7.311111e+01</td>\n",
       "      <td>113.045455</td>\n",
       "    </tr>\n",
       "    <tr>\n",
       "      <th>DelayA_hourly</th>\n",
       "      <td>-8.378378e-01</td>\n",
       "      <td>41.925926</td>\n",
       "    </tr>\n",
       "    <tr>\n",
       "      <th>num_flights_hourly</th>\n",
       "      <td>6.300000e+01</td>\n",
       "      <td>14507.000000</td>\n",
       "    </tr>\n",
       "    <tr>\n",
       "      <th>DelayD_hourly</th>\n",
       "      <td>4.657671e+00</td>\n",
       "      <td>50.197531</td>\n",
       "    </tr>\n",
       "    <tr>\n",
       "      <th>DelayA_origin_hourly</th>\n",
       "      <td>-5.100000e+01</td>\n",
       "      <td>536.333333</td>\n",
       "    </tr>\n",
       "    <tr>\n",
       "      <th>DelayA_carrier_hourly</th>\n",
       "      <td>-4.900000e+01</td>\n",
       "      <td>109.083333</td>\n",
       "    </tr>\n",
       "    <tr>\n",
       "      <th>DelayD_origin_hourly</th>\n",
       "      <td>-4.400000e+01</td>\n",
       "      <td>546.666667</td>\n",
       "    </tr>\n",
       "    <tr>\n",
       "      <th>DelayD_carrier_hourly</th>\n",
       "      <td>-1.833333e+01</td>\n",
       "      <td>112.333333</td>\n",
       "    </tr>\n",
       "  </tbody>\n",
       "</table>\n",
       "</div>"
      ],
      "text/plain": [
       "                                min            max\n",
       "arr_delay             -8.200000e+02    1778.000000\n",
       "distance               3.100000e+01    4983.000000\n",
       "numflights             2.000000e+00  790253.000000\n",
       "numstrikes             0.000000e+00    3799.000000\n",
       "strikeprob             0.000000e+00       0.086329\n",
       "percentflights         1.250634e-07       0.049416\n",
       "aircraft_age           1.000000e+00      40.000000\n",
       "date                   1.000000e+00       8.000000\n",
       "weekday                0.000000e+00       6.000000\n",
       "sin_weekday           -9.589243e-01       0.909297\n",
       "cos_weekday           -9.899925e-01       1.000000\n",
       "crs_dep_time_hour      0.000000e+00      24.000000\n",
       "crs_dep_time_min       0.000000e+00      59.000000\n",
       "sin_crs_dep_time      -9.999902e-01       0.990607\n",
       "cos_crs_dep_time      -9.999608e-01       1.000000\n",
       "crs_arr_time_hour      0.000000e+00      24.000000\n",
       "crs_arr_time_min       0.000000e+00      59.000000\n",
       "sin_crs_arr_time      -9.999902e-01       0.990607\n",
       "cos_crs_arr_time      -9.999608e-01       1.000000\n",
       "DelayD_carrier        -5.338710e+00      33.164773\n",
       "num_flights_carrier    6.200000e+01   40353.000000\n",
       "DelayD_origin         -1.500000e+01     148.090909\n",
       "num_flights_origin     2.000000e+00   11081.000000\n",
       "DelayD_dest           -9.300000e+00     109.681818\n",
       "num_flights_dest       2.000000e+00   11173.000000\n",
       "DelayA_carrier        -4.758065e+00      28.619673\n",
       "DelayA_origin         -1.855556e+01     151.363636\n",
       "DelayA_dest           -7.311111e+01     113.045455\n",
       "DelayA_hourly         -8.378378e-01      41.925926\n",
       "num_flights_hourly     6.300000e+01   14507.000000\n",
       "DelayD_hourly          4.657671e+00      50.197531\n",
       "DelayA_origin_hourly  -5.100000e+01     536.333333\n",
       "DelayA_carrier_hourly -4.900000e+01     109.083333\n",
       "DelayD_origin_hourly  -4.400000e+01     546.666667\n",
       "DelayD_carrier_hourly -1.833333e+01     112.333333"
      ]
     },
     "execution_count": 136,
     "metadata": {},
     "output_type": "execute_result"
    }
   ],
   "source": [
    "df_train[['arr_delay', 'distance', 'numflights', 'numstrikes',\n",
    "       'strikeprob', 'percentflights', 'aircraft_age',\n",
    "       'date', 'weekday', 'sin_weekday', 'cos_weekday', 'crs_dep_time_hour',\n",
    "       'crs_dep_time_min', 'sin_crs_dep_time', 'cos_crs_dep_time',\n",
    "       'crs_arr_time_hour', 'crs_arr_time_min', 'sin_crs_arr_time',\n",
    "       'cos_crs_arr_time', 'DelayD_carrier', 'num_flights_carrier',\n",
    "       'DelayD_origin', 'num_flights_origin', 'DelayD_dest',\n",
    "       'num_flights_dest', 'DelayA_carrier', 'DelayA_origin', 'DelayA_dest',\n",
    "       'DelayA_hourly', 'num_flights_hourly', 'DelayD_hourly',\n",
    "       'DelayA_origin_hourly', 'DelayA_carrier_hourly', 'DelayD_origin_hourly',\n",
    "       'DelayD_carrier_hourly']].describe().loc[['min','max']].T"
   ]
  },
  {
   "cell_type": "code",
   "execution_count": 137,
   "id": "ec108243-48e5-4c4a-94fd-5b57be33fcd8",
   "metadata": {},
   "outputs": [],
   "source": [
    "exclude_cols = ['fl_date', 'op_unique_carrier', 'origin', 'dest', 'crs_dep_time', 'crs_arr_time']"
   ]
  },
  {
   "cell_type": "code",
   "execution_count": 138,
   "id": "aef21fb9-bdfb-4ef2-a69c-b5dd4cc352c9",
   "metadata": {},
   "outputs": [],
   "source": [
    "df_train.drop(exclude_cols, inplace=True, axis=1)\n",
    "df_vali.drop(exclude_cols, inplace=True, axis=1)\n",
    "df_test.drop(exclude_cols, inplace=True, axis=1)"
   ]
  },
  {
   "cell_type": "code",
   "execution_count": 139,
   "id": "23ddef60-949b-46b3-9010-89838094d0a5",
   "metadata": {},
   "outputs": [
    {
     "data": {
      "text/plain": [
       "Index(['arr_delay', 'distance', 'numflights', 'numstrikes', 'strikeprob',\n",
       "       'percentflights', 'region_N', 'region_O', 'region_S', 'region_W',\n",
       "       'man_Airbus', 'man_American Champion Aircraft',\n",
       "       'man_Bell Helicopter Textron Canada', 'man_Boeing', 'man_Bombardier',\n",
       "       'man_Canadair', 'man_Eads/alenia Atr', 'man_Embraer', 'man_Grumman',\n",
       "       'man_Mcdonnell Douglas', 'man_Piper', 'aircraft_age',\n",
       "       'type_large_airport', 'type_medium_airport', 'type_small_airport',\n",
       "       'date', 'weekday', 'sin_weekday', 'cos_weekday', 'crs_dep_time_hour',\n",
       "       'crs_dep_time_min', 'sin_crs_dep_time', 'cos_crs_dep_time',\n",
       "       'crs_arr_time_hour', 'crs_arr_time_min', 'sin_crs_arr_time',\n",
       "       'cos_crs_arr_time', 'delayed', 'delay', 'DelayD_carrier',\n",
       "       'num_flights_carrier', 'DelayD_origin', 'num_flights_origin',\n",
       "       'DelayD_dest', 'num_flights_dest', 'DelayA_carrier', 'DelayA_origin',\n",
       "       'DelayA_dest', 'DelayA_hourly', 'num_flights_hourly', 'DelayD_hourly',\n",
       "       'DelayA_origin_hourly', 'DelayA_carrier_hourly', 'DelayD_origin_hourly',\n",
       "       'DelayD_carrier_hourly'],\n",
       "      dtype='object')"
      ]
     },
     "execution_count": 139,
     "metadata": {},
     "output_type": "execute_result"
    }
   ],
   "source": [
    "df_train.columns"
   ]
  },
  {
   "cell_type": "markdown",
   "id": "712427aa-e11f-4a99-ad50-c4c53143059a",
   "metadata": {
    "tags": []
   },
   "source": [
    "## Standardize data"
   ]
  },
  {
   "cell_type": "code",
   "execution_count": 140,
   "id": "defb4089-ed83-4682-b3e5-8ba39204e231",
   "metadata": {},
   "outputs": [],
   "source": [
    "from sklearn.preprocessing import StandardScaler"
   ]
  },
  {
   "cell_type": "code",
   "execution_count": 141,
   "id": "c206c994-f328-4fb3-a5c8-a7b0f58977cb",
   "metadata": {},
   "outputs": [],
   "source": [
    "# num_cols_with_weekday = [ 'distance', 'numflights', 'numstrikes', 'strikeprob',\n",
    "#        'percentflights', 'aircraft_age',\n",
    "#        'date', 'weekday', 'sin_weekday', 'cos_weekday', 'crs_dep_time_hour',\n",
    "#        'crs_dep_time_min', 'sin_crs_dep_time', 'cos_crs_dep_time',\n",
    "#        'crs_arr_time_hour', 'crs_arr_time_min', 'sin_crs_arr_time',\n",
    "#        'cos_crs_arr_time', 'DelayD_carrier', 'num_flights_carrier',\n",
    "#        'DelayD_origin', 'num_flights_origin', 'DelayD_dest',\n",
    "#        'num_flights_dest', 'DelayA_carrier', 'DelayA_origin', 'DelayA_dest',\n",
    "#        'DelayA_hourly', 'num_flights_hourly', 'DelayD_hourly',\n",
    "#        'DelayA_origin_hourly', 'DelayA_carrier_hourly', 'DelayD_origin_hourly',\n",
    "#        'DelayD_carrier_hourly']"
   ]
  },
  {
   "cell_type": "code",
   "execution_count": 142,
   "id": "578d941b-e91c-4fb1-9437-5ab4303f7d6c",
   "metadata": {},
   "outputs": [],
   "source": [
    "def standardize(X):\n",
    "    num_cols = [ 'distance', 'numflights', 'numstrikes', 'strikeprob',\n",
    "       'percentflights', 'aircraft_age',\n",
    "       'date', 'sin_weekday', 'cos_weekday', 'crs_dep_time_hour',\n",
    "       'crs_dep_time_min', 'sin_crs_dep_time', 'cos_crs_dep_time',\n",
    "       'crs_arr_time_hour', 'crs_arr_time_min', 'sin_crs_arr_time',\n",
    "       'cos_crs_arr_time', 'DelayD_carrier', 'num_flights_carrier',\n",
    "       'DelayD_origin', 'num_flights_origin', 'DelayD_dest',\n",
    "       'num_flights_dest', 'DelayA_carrier', 'DelayA_origin', 'DelayA_dest',\n",
    "       'DelayA_hourly', 'num_flights_hourly', 'DelayD_hourly',\n",
    "       'DelayA_origin_hourly', 'DelayA_carrier_hourly', 'DelayD_origin_hourly',\n",
    "       'DelayD_carrier_hourly']\n",
    "    std_scaler = StandardScaler()\n",
    "    X[num_cols] = std_scaler.fit_transform(X[num_cols])\n",
    "    \n",
    "    return X"
   ]
  },
  {
   "cell_type": "code",
   "execution_count": null,
   "id": "d8fabd0f-89ec-4565-8c6e-5d6a59e2ba19",
   "metadata": {},
   "outputs": [],
   "source": []
  },
  {
   "cell_type": "markdown",
   "id": "db137852-eed3-4f8b-b6b5-e9b9d48acb54",
   "metadata": {
    "tags": []
   },
   "source": [
    "## Drop high correlated features"
   ]
  },
  {
   "cell_type": "code",
   "execution_count": 143,
   "id": "9442965c-1710-442e-9aea-53c14ccffba1",
   "metadata": {},
   "outputs": [],
   "source": [
    "def drop_colinearity(X_train, X_vali):\n",
    "    # create correlation matrix\n",
    "\n",
    "    X_traincorr = X_train.corr().abs()\n",
    "\n",
    "    # iterate thru and find pairs with correlation > 0.5\n",
    "\n",
    "    trainindices = np.where(X_traincorr > 0.5) \n",
    "    trainindices = [(X_traincorr.index[x], X_traincorr.columns[y]) \n",
    "    for x, y in zip(*trainindices)\n",
    "        if x != y and x < y]\n",
    "\n",
    "    # drop pairs found in last step\n",
    "\n",
    "    for idx in trainindices: #each pair\n",
    "        try:\n",
    "            X_train.drop(idx[1], axis = 1, inplace=True)\n",
    "            X_vali.drop(idx[1], axis = 1, inplace=True)\n",
    "        except KeyError:\n",
    "            pass\n",
    "\n",
    "    return X_train, X_vali"
   ]
  },
  {
   "cell_type": "markdown",
   "id": "eee4465f-815d-4ab9-9a07-7a34a8eb8cb7",
   "metadata": {
    "tags": []
   },
   "source": [
    "## Feature Selection"
   ]
  },
  {
   "cell_type": "code",
   "execution_count": 144,
   "id": "9c3754d4-8099-41f7-bef9-603213684902",
   "metadata": {},
   "outputs": [],
   "source": [
    "from sklearn.feature_selection import f_regression, SelectKBest"
   ]
  },
  {
   "cell_type": "code",
   "execution_count": 145,
   "id": "eaf5daa9-eaa7-42d5-a12d-4030b3d33d2c",
   "metadata": {},
   "outputs": [],
   "source": [
    "def select_top10(X, y):\n",
    "    '''\n",
    "    Input: X, y\n",
    "    Return: top 10 best features of X using selectKBest and 10 feature names\n",
    "    '''\n",
    "    select10 = SelectKBest(f_regression, k=10)\n",
    "    select10.fit(X, y)\n",
    "    col_names = X.columns[select10.get_support()]\n",
    "    print(f'top 10 best features are:\\n {col_names}')\n",
    "    X_top_10 = pd.DataFrame(select10.transform(X), columns=col_names)\n",
    "    \n",
    "    return X_top_10, col_names"
   ]
  },
  {
   "cell_type": "markdown",
   "id": "e5f4bbe8-6892-415a-b804-beb7f11dbe4a",
   "metadata": {
    "tags": []
   },
   "source": [
    "## Creating data"
   ]
  },
  {
   "cell_type": "code",
   "execution_count": 146,
   "id": "bb5dfce3-1775-4568-a95b-45043d810aa4",
   "metadata": {},
   "outputs": [],
   "source": [
    "# Drop outliers\n",
    "cols_tr = [col for col in df_train.columns if df_train[col].std() != 0]\n",
    "cols_va = [col for col in df_vali.columns if df_vali[col].std() != 0]\n",
    "df_train[cols_tr] = df_train[cols_tr].mask((df_train[cols_tr]  - df_train[cols_tr].mean()).abs() > 3 * df_train[cols_tr].std())\n",
    "df_vali[cols_va] = df_vali[cols_va].mask((df_vali[cols_va]  - df_vali[cols_va].mean()).abs() > 3 * df_vali[cols_va].std())\n",
    "df_train.dropna(inplace=True)\n",
    "df_vali.dropna(inplace=True)"
   ]
  },
  {
   "cell_type": "code",
   "execution_count": 147,
   "id": "89d5fe8c-ad05-43aa-8e5a-dedb1e417c18",
   "metadata": {},
   "outputs": [],
   "source": [
    "# For prediction 'arr_delay'\n",
    "y_train = df_train['arr_delay']\n",
    "X_train = df_train.drop(['arr_delay', 'delay', 'delayed'], axis=1)\n",
    "y_vali = df_vali['arr_delay']\n",
    "X_vali = df_vali.drop(['arr_delay', 'delay', 'delayed'], axis=1)"
   ]
  },
  {
   "cell_type": "code",
   "execution_count": 148,
   "id": "c83b333d-6332-4934-b2fb-5fee8b0ca1ca",
   "metadata": {},
   "outputs": [],
   "source": [
    "# For predicting 'delay'\n",
    "# y_train = df_train['delay']\n",
    "# X_train = df_train.drop(['arr_delay', 'delay', 'delayed'], axis=1)\n",
    "# y_vali = df_vali['delay']\n",
    "# X_vali = df_vali.drop(['arr_delay', 'delay', 'delayed'], axis=1)"
   ]
  },
  {
   "cell_type": "code",
   "execution_count": 149,
   "id": "49eb4ab7-a69c-49cf-8aa7-cc2ee6161807",
   "metadata": {},
   "outputs": [],
   "source": [
    "# Drop 'weekday'\n",
    "X_train.drop('weekday', inplace=True, axis=1)\n",
    "X_vali.drop('weekday', inplace=True, axis=1)"
   ]
  },
  {
   "cell_type": "code",
   "execution_count": 150,
   "id": "7c2c0820-f962-46c6-b410-be9275bf1737",
   "metadata": {},
   "outputs": [
    {
     "name": "stdout",
     "output_type": "stream",
     "text": [
      "top 10 best features are:\n",
      " Index(['distance', 'numflights', 'date', 'sin_weekday', 'cos_weekday',\n",
      "       'crs_dep_time_hour', 'DelayD_carrier', 'DelayD_origin', 'DelayD_dest',\n",
      "       'num_flights_dest'],\n",
      "      dtype='object')\n"
     ]
    },
    {
     "name": "stderr",
     "output_type": "stream",
     "text": [
      "C:\\Anaconda\\lib\\site-packages\\sklearn\\feature_selection\\_univariate_selection.py:302: RuntimeWarning: invalid value encountered in true_divide\n",
      "  corr /= X_norms\n"
     ]
    }
   ],
   "source": [
    "X_train_std = standardize(X_train)\n",
    "X_vali_std = standardize(X_vali)\n",
    "\n",
    "X_train_std, X_vali_std = drop_colinearity(X_train_std, X_vali_std)\n",
    "\n",
    "X_train_std_10, top10_features = select_top10(X_train_std, y_train)\n",
    "X_vali_std_10 = X_vali_std[top10_features]"
   ]
  },
  {
   "cell_type": "code",
   "execution_count": null,
   "id": "ab5013ce-955d-42cb-984c-60d66dad5c15",
   "metadata": {},
   "outputs": [],
   "source": []
  },
  {
   "cell_type": "code",
   "execution_count": 35,
   "id": "278037c6-e8a6-4f2f-8a26-bdc7d1fa7e03",
   "metadata": {},
   "outputs": [],
   "source": [
    "from sklearn.model_selection import GridSearchCV\n",
    "from sklearn.metrics import mean_absolute_error, mean_squared_error, r2_score"
   ]
  },
  {
   "cell_type": "markdown",
   "id": "b2a0ab87-375c-4030-b24c-18678b3a2cc9",
   "metadata": {
    "jp-MarkdownHeadingCollapsed": true,
    "tags": []
   },
   "source": [
    "## Linear Regression"
   ]
  },
  {
   "cell_type": "code",
   "execution_count": 36,
   "id": "64e0ef5c-7c33-4701-97f4-969dc1ea8086",
   "metadata": {},
   "outputs": [],
   "source": [
    "from sklearn.linear_model import LinearRegression"
   ]
  },
  {
   "cell_type": "code",
   "execution_count": 234,
   "id": "79e8da7c-93f2-47b9-b4de-d3307d8ca9d0",
   "metadata": {},
   "outputs": [],
   "source": [
    "lr_reg = LinearRegression()"
   ]
  },
  {
   "cell_type": "code",
   "execution_count": 235,
   "id": "ede41691-993e-4f31-b769-40cc471cb749",
   "metadata": {},
   "outputs": [
    {
     "data": {
      "text/plain": [
       "LinearRegression()"
      ]
     },
     "execution_count": 235,
     "metadata": {},
     "output_type": "execute_result"
    }
   ],
   "source": [
    "lr_reg.fit(X_train_std_10, y_train)"
   ]
  },
  {
   "cell_type": "code",
   "execution_count": 236,
   "id": "2474954d-f1be-42bc-8523-94db17210a86",
   "metadata": {},
   "outputs": [],
   "source": [
    "filename = 'linear_regression'\n",
    "pickle.dump(lr_reg, open(filename + time_path + '.sav', 'wb'))"
   ]
  },
  {
   "cell_type": "code",
   "execution_count": 237,
   "id": "b8d5c056-22fd-4e92-8f19-7301d1cf83ea",
   "metadata": {},
   "outputs": [],
   "source": [
    "y_pred_lr = lr_reg.predict(X_vali_std_10)"
   ]
  },
  {
   "cell_type": "code",
   "execution_count": 238,
   "id": "55d1d609-0d08-405b-96db-24a6a193541f",
   "metadata": {},
   "outputs": [
    {
     "name": "stdout",
     "output_type": "stream",
     "text": [
      "MAE: 19.145747761966067\n",
      "RMSE: 28.401320198919926\n",
      "R2 score: 0.0314140756717356\n"
     ]
    }
   ],
   "source": [
    "print(f'MAE: {mean_absolute_error(y_vali, y_pred_lr)}')\n",
    "print(f'RMSE: {mean_squared_error(y_vali, y_pred_lr, squared=False)}')\n",
    "print(f'R2 score: {r2_score(y_vali, y_pred_lr)}')"
   ]
  },
  {
   "cell_type": "code",
   "execution_count": null,
   "id": "4ed8d5ec-8fc3-40f7-b736-94db7d070429",
   "metadata": {},
   "outputs": [],
   "source": []
  },
  {
   "cell_type": "markdown",
   "id": "d6df8445-4795-4daf-826b-0f382d10db01",
   "metadata": {
    "jp-MarkdownHeadingCollapsed": true,
    "tags": []
   },
   "source": [
    "## Ridge Regression"
   ]
  },
  {
   "cell_type": "code",
   "execution_count": 338,
   "id": "cfae6207-fd68-4e3c-8b61-e0357405eecc",
   "metadata": {},
   "outputs": [],
   "source": [
    "from sklearn.linear_model import Ridge"
   ]
  },
  {
   "cell_type": "code",
   "execution_count": 328,
   "id": "64eba55e-da01-4a8f-924b-ba0873ba2f0c",
   "metadata": {},
   "outputs": [],
   "source": [
    "params = {\n",
    "    'alpha': np.arange(525, 526, 0.01)\n",
    "}"
   ]
  },
  {
   "cell_type": "code",
   "execution_count": 329,
   "id": "0cfdb950-0434-424f-93db-317816c7ed1d",
   "metadata": {},
   "outputs": [],
   "source": [
    "ridge_reg = Ridge()\n",
    "ridge_gridsearch = GridSearchCV(ridge_reg, param_grid=params_ridge, cv=10)"
   ]
  },
  {
   "cell_type": "code",
   "execution_count": 330,
   "id": "23409c05-42a5-4792-bc5f-7f4b7dc6ce6c",
   "metadata": {
    "scrolled": true,
    "tags": []
   },
   "outputs": [
    {
     "data": {
      "text/plain": [
       "GridSearchCV(cv=10, estimator=Ridge(),\n",
       "             param_grid={'alpha': array([525.  , 525.01, 525.02, 525.03, 525.04, 525.05, 525.06, 525.07,\n",
       "       525.08, 525.09, 525.1 , 525.11, 525.12, 525.13, 525.14, 525.15,\n",
       "       525.16, 525.17, 525.18, 525.19, 525.2 , 525.21, 525.22, 525.23,\n",
       "       525.24, 525.25, 525.26, 525.27, 525.28, 525.29, 525.3 , 525.31,\n",
       "       525.32, 525.33, 525.34, 525.35, 525.36, 525.37, 525.38, 525.39,\n",
       "       525.4 , 525.4...\n",
       "       525.48, 525.49, 525.5 , 525.51, 525.52, 525.53, 525.54, 525.55,\n",
       "       525.56, 525.57, 525.58, 525.59, 525.6 , 525.61, 525.62, 525.63,\n",
       "       525.64, 525.65, 525.66, 525.67, 525.68, 525.69, 525.7 , 525.71,\n",
       "       525.72, 525.73, 525.74, 525.75, 525.76, 525.77, 525.78, 525.79,\n",
       "       525.8 , 525.81, 525.82, 525.83, 525.84, 525.85, 525.86, 525.87,\n",
       "       525.88, 525.89, 525.9 , 525.91, 525.92, 525.93, 525.94, 525.95,\n",
       "       525.96, 525.97, 525.98, 525.99])})"
      ]
     },
     "execution_count": 330,
     "metadata": {},
     "output_type": "execute_result"
    }
   ],
   "source": [
    "ridge_gridsearch.fit(X_train_std_10, y_train)"
   ]
  },
  {
   "cell_type": "code",
   "execution_count": 331,
   "id": "9c095014-9dff-4a89-b469-9b95984c779b",
   "metadata": {},
   "outputs": [
    {
     "data": {
      "text/plain": [
       "{'alpha': 525.9899999999991}"
      ]
     },
     "execution_count": 331,
     "metadata": {},
     "output_type": "execute_result"
    }
   ],
   "source": [
    "ridge_gridsearch.best_params_"
   ]
  },
  {
   "cell_type": "code",
   "execution_count": 332,
   "id": "6ea06960-d03b-456b-9ff3-454a07fb0da3",
   "metadata": {},
   "outputs": [],
   "source": [
    "filename = 'ridge_regression'\n",
    "pickle.dump(ridge_gridsearch, open(filename + time_path + '.sav', 'wb'))"
   ]
  },
  {
   "cell_type": "code",
   "execution_count": 333,
   "id": "dabb672f-f670-4f59-8aa4-9b64b872574c",
   "metadata": {},
   "outputs": [],
   "source": [
    "y_pred_ridge = ridge_gridsearch.predict(X_vali_std_10)"
   ]
  },
  {
   "cell_type": "markdown",
   "id": "128f2a00-793d-420b-9b96-1b15542d4fb5",
   "metadata": {},
   "source": [
    "#### Performace evaluation"
   ]
  },
  {
   "cell_type": "code",
   "execution_count": 334,
   "id": "917573bc-df04-43bc-884f-33ee8a4cccb5",
   "metadata": {},
   "outputs": [
    {
     "name": "stdout",
     "output_type": "stream",
     "text": [
      "MAE: 19.145380389086384\n",
      "RMSE: 28.401372179171233\n",
      "R2 score: 0.03141053024599605\n"
     ]
    }
   ],
   "source": [
    "print(f'MAE: {mean_absolute_error(y_vali, y_pred_ridge)}')\n",
    "print(f'RMSE: {mean_squared_error(y_vali, y_pred_ridge, squared=False)}')\n",
    "print(f'R2 score: {r2_score(y_vali, y_pred_ridge)}')"
   ]
  },
  {
   "cell_type": "markdown",
   "id": "c3fb5807-80f3-4190-a680-aad90cbe508f",
   "metadata": {
    "jp-MarkdownHeadingCollapsed": true,
    "tags": []
   },
   "source": [
    "## Lasso Regression"
   ]
  },
  {
   "cell_type": "code",
   "execution_count": 239,
   "id": "edfd6572-fe2e-4df7-8ac4-38d68531bac5",
   "metadata": {},
   "outputs": [],
   "source": [
    "from sklearn.linear_model import Lasso"
   ]
  },
  {
   "cell_type": "code",
   "execution_count": 240,
   "id": "c21641d3-ec7b-485d-8afb-74f6b8d11bff",
   "metadata": {},
   "outputs": [],
   "source": [
    "las_reg = Lasso()"
   ]
  },
  {
   "cell_type": "code",
   "execution_count": 241,
   "id": "d55c2d85-d12a-4b86-aaf4-150aa8127605",
   "metadata": {},
   "outputs": [],
   "source": [
    "params = {\n",
    "    'alpha': [0.5, 1, 10, 100]\n",
    "}"
   ]
  },
  {
   "cell_type": "code",
   "execution_count": 242,
   "id": "14464d26-0c70-4f38-a16e-06969c99b32e",
   "metadata": {},
   "outputs": [],
   "source": [
    "las_gridsearch = GridSearchCV(las_reg, param_grid=params, cv=10)"
   ]
  },
  {
   "cell_type": "code",
   "execution_count": 243,
   "id": "099483ed-b8ba-4bb3-9508-c3952a499185",
   "metadata": {},
   "outputs": [
    {
     "data": {
      "text/plain": [
       "GridSearchCV(cv=10, estimator=Lasso(), param_grid={'alpha': [0.5, 1, 10, 100]})"
      ]
     },
     "execution_count": 243,
     "metadata": {},
     "output_type": "execute_result"
    }
   ],
   "source": [
    "las_gridsearch.fit(X_train_std_10, y_train)"
   ]
  },
  {
   "cell_type": "code",
   "execution_count": 244,
   "id": "36a3498f-1cb9-48f6-8438-8b0f890076d0",
   "metadata": {},
   "outputs": [
    {
     "data": {
      "text/plain": [
       "{'alpha': 0.5}"
      ]
     },
     "execution_count": 244,
     "metadata": {},
     "output_type": "execute_result"
    }
   ],
   "source": [
    "las_gridsearch.best_params_"
   ]
  },
  {
   "cell_type": "code",
   "execution_count": 247,
   "id": "63b6ecb0-b8aa-4cf0-b6ab-0c2492a45100",
   "metadata": {},
   "outputs": [],
   "source": [
    "filename = 'lasso_regression'\n",
    "pickle.dump(las_gridsearch, open(filename + time_path + '.sav', 'wb'))"
   ]
  },
  {
   "cell_type": "code",
   "execution_count": 245,
   "id": "a1fe55a6-c7d8-4ce2-8543-9e70df49f274",
   "metadata": {},
   "outputs": [],
   "source": [
    "y_pred_las = las_gridsearch.predict(X_vali_std_10)"
   ]
  },
  {
   "cell_type": "code",
   "execution_count": 246,
   "id": "fcd79d19-5028-43b5-9e50-e7b09d64b2d9",
   "metadata": {},
   "outputs": [
    {
     "name": "stdout",
     "output_type": "stream",
     "text": [
      "MAE: 19.133227413860066\n",
      "RMSE: 28.43861424683089\n",
      "R2 score: 0.028868686513075614\n"
     ]
    }
   ],
   "source": [
    "print(f'MAE: {mean_absolute_error(y_vali, y_pred_las)}')\n",
    "print(f'RMSE: {mean_squared_error(y_vali, y_pred_las, squared=False)}')\n",
    "print(f'R2 score: {r2_score(y_vali, y_pred_las)}')"
   ]
  },
  {
   "cell_type": "code",
   "execution_count": null,
   "id": "2bcbd0c1-74c6-4a04-bd7f-74fbf0137f5f",
   "metadata": {},
   "outputs": [],
   "source": []
  },
  {
   "cell_type": "markdown",
   "id": "1f86dc3f-ae4a-4ece-867f-f948cff623b6",
   "metadata": {
    "jp-MarkdownHeadingCollapsed": true,
    "tags": []
   },
   "source": [
    "## Polynomial Regression/Transformation with linear regression"
   ]
  },
  {
   "cell_type": "code",
   "execution_count": 248,
   "id": "cfa3b228-6ec6-4c13-9f2d-d83cfcd96bc7",
   "metadata": {},
   "outputs": [],
   "source": [
    "from sklearn.preprocessing import PolynomialFeatures"
   ]
  },
  {
   "cell_type": "code",
   "execution_count": 305,
   "id": "c61aeec7-b8a0-4890-ab33-25ada21aa64a",
   "metadata": {},
   "outputs": [],
   "source": [
    "X_train_std_4_poly = PolynomialFeatures().fit_transform(X_train_std_10.iloc[:, :4])\n",
    "X_vali_std_4_poly = PolynomialFeatures().fit_transform(X_vali_std_10.iloc[:, :4])"
   ]
  },
  {
   "cell_type": "code",
   "execution_count": 306,
   "id": "2449885f-7e77-44e6-aa4b-715bc8560aee",
   "metadata": {},
   "outputs": [],
   "source": [
    "polylr_reg = LinearRegression()"
   ]
  },
  {
   "cell_type": "code",
   "execution_count": 307,
   "id": "e42ad63c-20ec-44c4-87e1-388a6261261c",
   "metadata": {},
   "outputs": [
    {
     "data": {
      "text/plain": [
       "LinearRegression()"
      ]
     },
     "execution_count": 307,
     "metadata": {},
     "output_type": "execute_result"
    }
   ],
   "source": [
    "polylr_reg.fit(X_train_std_4_poly, y_train)"
   ]
  },
  {
   "cell_type": "code",
   "execution_count": 308,
   "id": "6dec1d97-1e25-456b-8ec5-6d5fbafb36f6",
   "metadata": {},
   "outputs": [],
   "source": [
    "filename = 'poly_linear_regression'\n",
    "pickle.dump(polylr_reg, open(filename + time_path + '.sav', 'wb'))"
   ]
  },
  {
   "cell_type": "code",
   "execution_count": 309,
   "id": "cb323e85-c404-4b5f-b273-8ad2ae6f8d41",
   "metadata": {},
   "outputs": [],
   "source": [
    "y_pred_polylr = polylr_reg.predict(X_vali_std_4_poly)"
   ]
  },
  {
   "cell_type": "code",
   "execution_count": 310,
   "id": "9dd05193-dd07-4e7b-afd0-d23e71c6f60d",
   "metadata": {},
   "outputs": [
    {
     "name": "stdout",
     "output_type": "stream",
     "text": [
      "MAE: 19.292154860597506\n",
      "RMSE: 28.626224510623114\n",
      "R2 score: 0.01601326604758413\n"
     ]
    }
   ],
   "source": [
    "print(f'MAE: {mean_absolute_error(y_vali, y_pred_polylr)}')\n",
    "print(f'RMSE: {mean_squared_error(y_vali, y_pred_polylr, squared=False)}')\n",
    "print(f'R2 score: {r2_score(y_vali, y_pred_polylr)}')"
   ]
  },
  {
   "cell_type": "code",
   "execution_count": null,
   "id": "de9987e1-f3ba-49c2-b839-0e01073772bf",
   "metadata": {},
   "outputs": [],
   "source": []
  },
  {
   "cell_type": "markdown",
   "id": "2325a24a-0b2b-4c64-bcc0-068bc8d40d2e",
   "metadata": {
    "jp-MarkdownHeadingCollapsed": true,
    "tags": []
   },
   "source": [
    "## LinearSVR"
   ]
  },
  {
   "cell_type": "code",
   "execution_count": 311,
   "id": "f7fe6780-469a-4a4c-844b-8a9af976b213",
   "metadata": {},
   "outputs": [],
   "source": [
    "from sklearn import svm"
   ]
  },
  {
   "cell_type": "code",
   "execution_count": 322,
   "id": "5af819a7-edee-436a-ae07-f117e0b56110",
   "metadata": {},
   "outputs": [],
   "source": [
    "lrsvr = svm.LinearSVR()"
   ]
  },
  {
   "cell_type": "code",
   "execution_count": 323,
   "id": "78d8ca8d-4dae-4711-afef-f8f8146cb455",
   "metadata": {},
   "outputs": [
    {
     "data": {
      "text/plain": [
       "LinearSVR()"
      ]
     },
     "execution_count": 323,
     "metadata": {},
     "output_type": "execute_result"
    }
   ],
   "source": [
    "lrsvr.fit(X_train_std_10, y_train)"
   ]
  },
  {
   "cell_type": "code",
   "execution_count": 326,
   "id": "ecaa6fba-e7be-496b-95dd-237d0d8040b8",
   "metadata": {},
   "outputs": [],
   "source": [
    "filename = 'linearSVR_regression'\n",
    "pickle.dump(lrsvr, open(filename + time_path + '.sav', 'wb'))"
   ]
  },
  {
   "cell_type": "code",
   "execution_count": 324,
   "id": "a17eaa30-6c26-43f2-8fb5-6b0274cba812",
   "metadata": {},
   "outputs": [],
   "source": [
    "y_pred_lrsvr = lrsvr.predict(X_vali_std_10)"
   ]
  },
  {
   "cell_type": "code",
   "execution_count": 345,
   "id": "4363a291-9b11-42fe-808c-b65f622686ed",
   "metadata": {},
   "outputs": [
    {
     "name": "stdout",
     "output_type": "stream",
     "text": [
      "MAE: 18.09992208224646\n",
      "RMSE: 29.29129052885769\n",
      "R2 score: -0.03023929396636471\n"
     ]
    }
   ],
   "source": [
    "print(f'MAE: {mean_absolute_error(y_vali, y_pred_lrsvr)}')\n",
    "print(f'RMSE: {mean_squared_error(y_vali, y_pred_lrsvr, squared=False)}')\n",
    "print(f'R2 score: {r2_score(y_vali, y_pred_lrsvr)}')"
   ]
  },
  {
   "cell_type": "markdown",
   "id": "b3757ae4-79f8-4a0f-8b79-1defa5081f4e",
   "metadata": {
    "jp-MarkdownHeadingCollapsed": true,
    "tags": []
   },
   "source": [
    "## SGD Regression"
   ]
  },
  {
   "cell_type": "code",
   "execution_count": 149,
   "id": "04325ca4-700e-4636-addc-2f5ce0171600",
   "metadata": {},
   "outputs": [],
   "source": [
    "from sklearn.linear_model import SGDRegressor"
   ]
  },
  {
   "cell_type": "code",
   "execution_count": 153,
   "id": "99318433-f795-4d42-835b-b66ebec1cd03",
   "metadata": {},
   "outputs": [],
   "source": [
    "sgd_reg = SGDRegressor(learning_rate='optimal')"
   ]
  },
  {
   "cell_type": "code",
   "execution_count": 192,
   "id": "aeaaa237-5e7f-4893-a038-cf5c9d6837ed",
   "metadata": {},
   "outputs": [],
   "source": [
    "params =  {\n",
    "    'loss': ['squared_loss', 'huber', 'epsilon_insensitive', 'squared_epsilon_insensitive'],\n",
    "    'alpha': [0.05, 0.1, 0.15],\n",
    "    'max_iter': [800, 1000, 1500],\n",
    "    'epsilon': [0.05, 0.1, 0.15]\n",
    "}"
   ]
  },
  {
   "cell_type": "code",
   "execution_count": 193,
   "id": "ddd6700e-d8df-46e0-b18b-0a7d132b85f6",
   "metadata": {},
   "outputs": [],
   "source": [
    "sgd_gridsearch = GridSearchCV(sgd_reg, param_grid=params, cv=10)"
   ]
  },
  {
   "cell_type": "code",
   "execution_count": 194,
   "id": "9a25cc63-4bec-47a6-966b-18afa611ff1e",
   "metadata": {},
   "outputs": [
    {
     "data": {
      "text/plain": [
       "GridSearchCV(cv=10, estimator=SGDRegressor(learning_rate='optimal'),\n",
       "             param_grid={'alpha': [0.05, 0.1, 0.15],\n",
       "                         'epsilon': [0.05, 0.1, 0.15],\n",
       "                         'loss': ['squared_loss', 'huber',\n",
       "                                  'epsilon_insensitive',\n",
       "                                  'squared_epsilon_insensitive'],\n",
       "                         'max_iter': [800, 1000, 1500]})"
      ]
     },
     "execution_count": 194,
     "metadata": {},
     "output_type": "execute_result"
    }
   ],
   "source": [
    "sgd_gridsearch.fit(X_train_std_10, y_train)"
   ]
  },
  {
   "cell_type": "code",
   "execution_count": 195,
   "id": "89796fbe-8821-46ff-8509-dfa30e7e4f55",
   "metadata": {},
   "outputs": [
    {
     "data": {
      "text/plain": [
       "{'alpha': 0.05,\n",
       " 'epsilon': 0.05,\n",
       " 'loss': 'squared_epsilon_insensitive',\n",
       " 'max_iter': 1500}"
      ]
     },
     "execution_count": 195,
     "metadata": {},
     "output_type": "execute_result"
    }
   ],
   "source": [
    "sgd_gridsearch.best_params_"
   ]
  },
  {
   "cell_type": "code",
   "execution_count": 231,
   "id": "9da9ede0-15ea-4267-9bb1-d301b7f8e75c",
   "metadata": {},
   "outputs": [],
   "source": [
    "filename = 'sgd_regression'\n",
    "pickle.dump(sgd_gridsearch, open(filename + time_path + '.sav', 'wb'))"
   ]
  },
  {
   "cell_type": "code",
   "execution_count": 196,
   "id": "efe2e447-ada9-4754-9021-5130b791ebd5",
   "metadata": {},
   "outputs": [],
   "source": [
    "y_pred_sgd = sgd_gridsearch.predict(X_vali_std_10)"
   ]
  },
  {
   "cell_type": "code",
   "execution_count": 197,
   "id": "ede24af0-c021-4ac0-ac65-9eac2ac28686",
   "metadata": {},
   "outputs": [
    {
     "name": "stdout",
     "output_type": "stream",
     "text": [
      "MAE: 19.150558524368897\n",
      "RMSE: 28.40226558759485\n",
      "R2 score: 0.03134959237325996\n"
     ]
    }
   ],
   "source": [
    "print(f'MAE: {mean_absolute_error(y_vali, y_pred_sgd)}')\n",
    "print(f'RMSE: {mean_squared_error(y_vali, y_pred_sgd, squared=False)}')\n",
    "print(f'R2 score: {r2_score(y_vali, y_pred_sgd)}')"
   ]
  },
  {
   "cell_type": "code",
   "execution_count": null,
   "id": "3ed9bdb8-4236-442a-8f57-b968e9db04bd",
   "metadata": {},
   "outputs": [],
   "source": []
  },
  {
   "cell_type": "markdown",
   "id": "048caaa6-f188-45fa-b7bd-c4927e81317e",
   "metadata": {
    "jp-MarkdownHeadingCollapsed": true,
    "tags": []
   },
   "source": [
    "## XGBoosting"
   ]
  },
  {
   "cell_type": "code",
   "execution_count": 54,
   "id": "98dbf91e-5540-4020-8f44-a942db40109e",
   "metadata": {},
   "outputs": [
    {
     "name": "stdout",
     "output_type": "stream",
     "text": [
      "Requirement already satisfied: xgboost in c:\\anaconda\\lib\\site-packages (1.5.1)\n",
      "Requirement already satisfied: numpy in c:\\anaconda\\lib\\site-packages (from xgboost) (1.21.2)\n",
      "Requirement already satisfied: scipy in c:\\anaconda\\lib\\site-packages (from xgboost) (1.7.1)\n"
     ]
    }
   ],
   "source": [
    "!pip install xgboost"
   ]
  },
  {
   "cell_type": "code",
   "execution_count": 55,
   "id": "d3cbab57-278e-406e-869d-a61848e2be58",
   "metadata": {},
   "outputs": [],
   "source": [
    "import xgboost as xgb\n",
    "from sklearn.metrics import mean_squared_error"
   ]
  },
  {
   "cell_type": "code",
   "execution_count": 183,
   "id": "93bfe0ca-6dc8-4371-b203-e90f0ca0cf93",
   "metadata": {},
   "outputs": [],
   "source": [
    "xg_reg = xgb.XGBRegressor(objective ='reg:squarederror')"
   ]
  },
  {
   "cell_type": "code",
   "execution_count": 184,
   "id": "ad183767-3b8d-4e1d-b591-08a8f4aeb912",
   "metadata": {},
   "outputs": [],
   "source": [
    "# Some of the hyperparameters have already been narrowed down to a smaller range/value.\n",
    "params_xgb = {\n",
    "    'colsample_bytree': [0.3, 0.5],\n",
    "    'learning_rate': [0.17, 0.18, 0.19],\n",
    "    'max_depth': [11],\n",
    "    'alpha': [5],\n",
    "    'n_estimators': [80, 100, 120]\n",
    "}"
   ]
  },
  {
   "cell_type": "code",
   "execution_count": 185,
   "id": "99b8a102-8a1f-4c9e-bdf3-3498c2078cd2",
   "metadata": {},
   "outputs": [],
   "source": [
    "xgb_gridsearch = GridSearchCV(xg_reg, param_grid=params_xgb, cv=10)"
   ]
  },
  {
   "cell_type": "code",
   "execution_count": 186,
   "id": "ae160bd2-759b-4a3d-88f4-02202bcc54c1",
   "metadata": {
    "scrolled": true,
    "tags": []
   },
   "outputs": [
    {
     "data": {
      "text/plain": [
       "GridSearchCV(cv=10,\n",
       "             estimator=XGBRegressor(base_score=None, booster=None,\n",
       "                                    colsample_bylevel=None,\n",
       "                                    colsample_bynode=None,\n",
       "                                    colsample_bytree=None,\n",
       "                                    enable_categorical=False, gamma=None,\n",
       "                                    gpu_id=None, importance_type=None,\n",
       "                                    interaction_constraints=None,\n",
       "                                    learning_rate=None, max_delta_step=None,\n",
       "                                    max_depth=None, min_child_weight=None,\n",
       "                                    missing=nan, monotone_constraints=None,\n",
       "                                    n_estimators=100, n_jobs=None,\n",
       "                                    num_parallel_tree=None, predictor=None,\n",
       "                                    random_state=None, reg_alpha=None,\n",
       "                                    reg_lambda=None, scale_pos_weight=None,\n",
       "                                    subsample=None, tree_method=None,\n",
       "                                    validate_parameters=None, verbosity=None),\n",
       "             param_grid={'alpha': [5], 'colsample_bytree': [0.3, 0.5],\n",
       "                         'learning_rate': [0.17, 0.18, 0.19], 'max_depth': [11],\n",
       "                         'n_estimators': [80, 100, 120]})"
      ]
     },
     "execution_count": 186,
     "metadata": {},
     "output_type": "execute_result"
    }
   ],
   "source": [
    "xgb_gridsearch.fit(X_train_std_10, y_train)"
   ]
  },
  {
   "cell_type": "code",
   "execution_count": 187,
   "id": "b8f7f2ee-3f92-4452-b0ec-60a2ed83a071",
   "metadata": {},
   "outputs": [
    {
     "data": {
      "text/plain": [
       "{'alpha': 5,\n",
       " 'colsample_bytree': 0.5,\n",
       " 'learning_rate': 0.17,\n",
       " 'max_depth': 11,\n",
       " 'n_estimators': 80}"
      ]
     },
     "execution_count": 187,
     "metadata": {},
     "output_type": "execute_result"
    }
   ],
   "source": [
    "xgb_gridsearch.best_params_"
   ]
  },
  {
   "cell_type": "code",
   "execution_count": 230,
   "id": "01b2397c-dd1c-4943-a893-304e719f11ca",
   "metadata": {},
   "outputs": [],
   "source": [
    "filename = 'xgb_regression'\n",
    "pickle.dump(xgb_gridsearch, open(filename + time_path + '.sav', 'wb'))"
   ]
  },
  {
   "cell_type": "code",
   "execution_count": 188,
   "id": "851b42a8-ab76-422d-8d07-b0436bba534c",
   "metadata": {},
   "outputs": [],
   "source": [
    "y_pred_xgb = xgb_gridsearch.predict(X_vali_std_10)"
   ]
  },
  {
   "cell_type": "code",
   "execution_count": 189,
   "id": "d050caee-4b08-4206-84c1-1523df31eafb",
   "metadata": {},
   "outputs": [
    {
     "name": "stdout",
     "output_type": "stream",
     "text": [
      "MAE: 17.600762144812364\n",
      "RMSE: 26.478695264326575\n",
      "R2 score: 0.15811211457172802\n"
     ]
    }
   ],
   "source": [
    "print(f'MAE: {mean_absolute_error(y_vali, y_pred_xgb)}')\n",
    "print(f'RMSE: {mean_squared_error(y_vali, y_pred_xgb, squared=False)}')\n",
    "print(f'R2 score: {r2_score(y_vali, y_pred_xgb)}')"
   ]
  },
  {
   "cell_type": "code",
   "execution_count": 190,
   "id": "28461009-622c-4723-934a-674c755942c9",
   "metadata": {},
   "outputs": [
    {
     "data": {
      "image/png": "[encoded data removed]",
      "text/plain": [
       "<Figure size 432x288 with 1 Axes>"
      ]
     },
     "metadata": {
      "needs_background": "light"
     },
     "output_type": "display_data"
    }
   ],
   "source": [
    "plt.hist(y_vali)\n",
    "plt.hist(y_pred_xgb, color='red')\n",
    "plt.show()"
   ]
  },
  {
   "cell_type": "code",
   "execution_count": null,
   "id": "7044a231-952e-4276-9dbc-1161be54451f",
   "metadata": {},
   "outputs": [],
   "source": []
  },
  {
   "cell_type": "markdown",
   "id": "1668548a-b86c-41ea-817f-6b283b005c0a",
   "metadata": {
    "jp-MarkdownHeadingCollapsed": true,
    "tags": []
   },
   "source": [
    "## Random Forest Regression (long training time ~5hrs)"
   ]
  },
  {
   "cell_type": "code",
   "execution_count": 198,
   "id": "7a7d9b12-4366-4b10-bdcb-95127650f49e",
   "metadata": {},
   "outputs": [],
   "source": [
    "from sklearn.ensemble import RandomForestRegressor"
   ]
  },
  {
   "cell_type": "code",
   "execution_count": 199,
   "id": "1ce3c4f7-0952-42a9-9be2-a41d56814876",
   "metadata": {},
   "outputs": [],
   "source": [
    "rf_reg = RandomForestRegressor()"
   ]
  },
  {
   "cell_type": "code",
   "execution_count": 219,
   "id": "ef8de5f0-5787-4136-b931-7ca32bf022ca",
   "metadata": {},
   "outputs": [],
   "source": [
    "params = {\n",
    "    'n_estimators': [50, 100, 150],\n",
    "    'max_depth': [5, 10, 20],\n",
    "    'max_features': [0.5, 0.8, 'auto'],\n",
    "    'min_samples_leaf': [1, 10, 50]\n",
    "}"
   ]
  },
  {
   "cell_type": "code",
   "execution_count": 220,
   "id": "22810474-e218-4370-9ebf-1a5469f8de48",
   "metadata": {},
   "outputs": [],
   "source": [
    "rf_gridsearch = GridSearchCV(rf_reg, param_grid=params, cv=10)"
   ]
  },
  {
   "cell_type": "code",
   "execution_count": 221,
   "id": "5959d3c5-8d9b-4faf-891e-cd4a119e71b8",
   "metadata": {},
   "outputs": [
    {
     "data": {
      "text/plain": [
       "GridSearchCV(cv=10, estimator=RandomForestRegressor(),\n",
       "             param_grid={'max_depth': [5, 10, 20],\n",
       "                         'max_features': [0.5, 0.8, 'auto'],\n",
       "                         'min_samples_leaf': [1, 10, 50],\n",
       "                         'n_estimators': [50, 100, 150]})"
      ]
     },
     "execution_count": 221,
     "metadata": {},
     "output_type": "execute_result"
    }
   ],
   "source": [
    "rf_gridsearch.fit(X_train_std_10, y_train)"
   ]
  },
  {
   "cell_type": "code",
   "execution_count": 222,
   "id": "9f05134e-cbc7-4d4b-bde0-219b12f0b254",
   "metadata": {},
   "outputs": [
    {
     "data": {
      "text/plain": [
       "{'max_depth': 20,\n",
       " 'max_features': 0.8,\n",
       " 'min_samples_leaf': 10,\n",
       " 'n_estimators': 150}"
      ]
     },
     "execution_count": 222,
     "metadata": {},
     "output_type": "execute_result"
    }
   ],
   "source": [
    "rf_gridsearch.best_params_"
   ]
  },
  {
   "cell_type": "code",
   "execution_count": 232,
   "id": "b0aa4724-a4ea-4137-b6e8-2396723a2978",
   "metadata": {},
   "outputs": [],
   "source": [
    "filename = 'random_forest_regression'\n",
    "pickle.dump(rf_gridsearch, open(filename + time_path + '.sav', 'wb'))"
   ]
  },
  {
   "cell_type": "code",
   "execution_count": 223,
   "id": "c17f166a-3821-418b-9fc1-4c7ccfe493ee",
   "metadata": {},
   "outputs": [],
   "source": [
    "y_pred_rf = rf_gridsearch.predict(X_vali_std_10)"
   ]
  },
  {
   "cell_type": "code",
   "execution_count": 224,
   "id": "272b4ec6-a214-4f6b-8f1a-427b94bdaca3",
   "metadata": {},
   "outputs": [
    {
     "name": "stdout",
     "output_type": "stream",
     "text": [
      "MAE: 17.40117342876584\n",
      "RMSE: 26.260777417356753\n",
      "R2 score: 0.17191245118873877\n"
     ]
    }
   ],
   "source": [
    "print(f'MAE: {mean_absolute_error(y_vali, y_pred_rf)}')\n",
    "print(f'RMSE: {mean_squared_error(y_vali, y_pred_rf, squared=False)}')\n",
    "print(f'R2 score: {r2_score(y_vali, y_pred_rf)}')"
   ]
  },
  {
   "cell_type": "code",
   "execution_count": 226,
   "id": "a3ce9d87-29be-4b27-96dc-60e1334ef960",
   "metadata": {},
   "outputs": [
    {
     "data": {
      "image/png": "[encoded data removed]",
      "text/plain": [
       "<Figure size 432x288 with 1 Axes>"
      ]
     },
     "metadata": {
      "needs_background": "light"
     },
     "output_type": "display_data"
    }
   ],
   "source": [
    "plt.hist(y_vali)\n",
    "plt.hist(y_pred_rf, color='red')\n",
    "plt.show()"
   ]
  },
  {
   "cell_type": "code",
   "execution_count": 227,
   "id": "ed29463f-e269-4159-aba5-78a2f610497b",
   "metadata": {},
   "outputs": [],
   "source": []
  },
  {
   "cell_type": "markdown",
   "id": "ccbb17e5-8ac6-4b7d-9410-88059121c6b6",
   "metadata": {
    "jp-MarkdownHeadingCollapsed": true,
    "tags": []
   },
   "source": [
    "## Performance summary"
   ]
  },
  {
   "cell_type": "code",
   "execution_count": 348,
   "id": "3c6c926e-e77d-45dc-aa2d-569174c7c3e4",
   "metadata": {},
   "outputs": [],
   "source": [
    "models = ['Linear Regression', 'Ridge Regression', 'Lasso Regression', 'Polynomial Regression', 'LinearSVR', 'SGD Regression', 'XGBoost Regression', 'Random Forest Regression']"
   ]
  },
  {
   "cell_type": "code",
   "execution_count": 349,
   "id": "a3a5b6cf-2358-4dc7-b1fa-7563427fed00",
   "metadata": {},
   "outputs": [],
   "source": [
    "y_pred_lst = [y_pred_lr, y_pred_ridge, y_pred_las, y_pred_polylr, y_pred_lrsvr, y_pred_sgd, y_pred_xgb, y_pred_rf]"
   ]
  },
  {
   "cell_type": "code",
   "execution_count": 362,
   "id": "272b7ed3-d948-49cb-89f2-3f535612a7e2",
   "metadata": {},
   "outputs": [],
   "source": [
    "Evaluation_df = pd.DataFrame({'MAE': [float(\"{:.2f}\".format(mean_absolute_error(y_vali, pred))) for pred in y_pred_lst], \n",
    "              'RMSE': [float(\"{:.2f}\".format(mean_squared_error(y_vali, pred, squared=False))) for pred in y_pred_lst], \n",
    "              'R2_Score': [float(\"{:.2f}\".format(r2_score(y_vali, pred))) for pred in y_pred_lst]}, index=models)"
   ]
  },
  {
   "cell_type": "code",
   "execution_count": 363,
   "id": "a36390f1-c43a-40bb-ac5e-da615dfaddec",
   "metadata": {},
   "outputs": [
    {
     "data": {
      "text/html": [
       "<div>\n",
       "<style scoped>\n",
       "    .dataframe tbody tr th:only-of-type {\n",
       "        vertical-align: middle;\n",
       "    }\n",
       "\n",
       "    .dataframe tbody tr th {\n",
       "        vertical-align: top;\n",
       "    }\n",
       "\n",
       "    .dataframe thead th {\n",
       "        text-align: right;\n",
       "    }\n",
       "</style>\n",
       "<table border=\"1\" class=\"dataframe\">\n",
       "  <thead>\n",
       "    <tr style=\"text-align: right;\">\n",
       "      <th></th>\n",
       "      <th>MAE</th>\n",
       "      <th>RMSE</th>\n",
       "      <th>R2_Score</th>\n",
       "    </tr>\n",
       "  </thead>\n",
       "  <tbody>\n",
       "    <tr>\n",
       "      <th>Random Forest Regression</th>\n",
       "      <td>17.40</td>\n",
       "      <td>26.26</td>\n",
       "      <td>0.17</td>\n",
       "    </tr>\n",
       "    <tr>\n",
       "      <th>XGBoost Regression</th>\n",
       "      <td>17.60</td>\n",
       "      <td>26.48</td>\n",
       "      <td>0.16</td>\n",
       "    </tr>\n",
       "    <tr>\n",
       "      <th>Linear Regression</th>\n",
       "      <td>19.15</td>\n",
       "      <td>28.40</td>\n",
       "      <td>0.03</td>\n",
       "    </tr>\n",
       "    <tr>\n",
       "      <th>Ridge Regression</th>\n",
       "      <td>19.15</td>\n",
       "      <td>28.40</td>\n",
       "      <td>0.03</td>\n",
       "    </tr>\n",
       "    <tr>\n",
       "      <th>Lasso Regression</th>\n",
       "      <td>19.13</td>\n",
       "      <td>28.44</td>\n",
       "      <td>0.03</td>\n",
       "    </tr>\n",
       "    <tr>\n",
       "      <th>SGD Regression</th>\n",
       "      <td>19.15</td>\n",
       "      <td>28.40</td>\n",
       "      <td>0.03</td>\n",
       "    </tr>\n",
       "    <tr>\n",
       "      <th>Polynomial Regression</th>\n",
       "      <td>19.29</td>\n",
       "      <td>28.63</td>\n",
       "      <td>0.02</td>\n",
       "    </tr>\n",
       "    <tr>\n",
       "      <th>LinearSVR</th>\n",
       "      <td>18.10</td>\n",
       "      <td>29.29</td>\n",
       "      <td>-0.03</td>\n",
       "    </tr>\n",
       "  </tbody>\n",
       "</table>\n",
       "</div>"
      ],
      "text/plain": [
       "                            MAE   RMSE  R2_Score\n",
       "Random Forest Regression  17.40  26.26      0.17\n",
       "XGBoost Regression        17.60  26.48      0.16\n",
       "Linear Regression         19.15  28.40      0.03\n",
       "Ridge Regression          19.15  28.40      0.03\n",
       "Lasso Regression          19.13  28.44      0.03\n",
       "SGD Regression            19.15  28.40      0.03\n",
       "Polynomial Regression     19.29  28.63      0.02\n",
       "LinearSVR                 18.10  29.29     -0.03"
      ]
     },
     "execution_count": 363,
     "metadata": {},
     "output_type": "execute_result"
    }
   ],
   "source": [
    "Evaluation_df = Evaluation_df.sort_values(by='R2_Score', ascending=False)\n",
    "Evaluation_df"
   ]
  },
  {
   "cell_type": "code",
   "execution_count": 355,
   "id": "2f6d1d92-cf13-41ca-8eaa-cd88a6955f94",
   "metadata": {},
   "outputs": [],
   "source": [
    "Evaluation_df.to_csv('evaluation_summary' + time_path + '.csv')"
   ]
  },
  {
   "cell_type": "code",
   "execution_count": null,
   "id": "b8f38486-e470-4c95-80ea-57bef746a5d9",
   "metadata": {},
   "outputs": [],
   "source": []
  },
  {
   "cell_type": "code",
   "execution_count": 37,
   "id": "40a730e0-7a82-4534-8e26-d79b8dd3ac08",
   "metadata": {},
   "outputs": [],
   "source": [
    "# Load train\n",
    "lr_trained = pickle.load(open('linear_regression'+time_path+'.sav', 'rb'))\n",
    "ridge_trained = pickle.load(open('ridge_regression'+time_path+'.sav', 'rb'))\n",
    "lasso_trained = pickle.load(open('lasso_regression'+time_path+'.sav', 'rb'))\n",
    "poly_trained = pickle.load(open('poly_linear_regression'+time_path+'.sav', 'rb'))\n",
    "lrSVR_trained = pickle.load(open('linearSVR_regression'+time_path+'.sav', 'rb'))\n",
    "sgd_trained = pickle.load(open('sgd_regression'+time_path+'.sav', 'rb'))\n",
    "xgb_trained = pickle.load(open('xgb_regression'+time_path+'.sav', 'rb'))\n",
    "rf_trained = pickle.load(open('random_forest_regression'+time_path+'.sav', 'rb'))"
   ]
  },
  {
   "cell_type": "code",
   "execution_count": 38,
   "id": "a6a86681-10be-43a0-9d0f-e665b6ce7fa9",
   "metadata": {},
   "outputs": [],
   "source": [
    "from sklearn.model_selection import learning_curve"
   ]
  },
  {
   "cell_type": "code",
   "execution_count": 82,
   "id": "fb138df3-f067-442f-ae49-0e37797b4f05",
   "metadata": {
    "tags": []
   },
   "outputs": [
    {
     "data": {
      "image/png": "[encoded data removed]",
      "text/plain": [
       "<Figure size 432x288 with 1 Axes>"
      ]
     },
     "metadata": {
      "needs_background": "light"
     },
     "output_type": "display_data"
    }
   ],
   "source": [
    "# PLotting learning curves for best 2 performed models\n",
    "names = {\n",
    "    xgb_trained: 'XGBoost',\n",
    "    rf_trained: 'Random Forest'\n",
    "}\n",
    "\n",
    "train_sizes = np.concatenate(([0.01], np.linspace(0.1, 1.0, 5)))\n",
    "for i in [xgb_trained, rf_trained]:\n",
    "    (train_sizes,\n",
    "     train_scores,\n",
    "     test_scores) = learning_curve(i.best_estimator_, X_train_std_10, y_train, n_jobs=4, cv=5, train_sizes=train_sizes,\\\n",
    "                                   scoring='neg_root_mean_squared_error')\n",
    "    train_mean = np.mean(abs(train_scores), axis=1)\n",
    "    test_mean = np.mean(abs(test_scores), axis=1)\n",
    "    plt.plot(train_sizes, train_mean, label=f'{names[i]}_train')\n",
    "    plt.plot(train_sizes, test_mean, label=f'{names[i]}_validation')\n",
    "plt.xlabel('train size')\n",
    "plt.ylabel('RMSE')\n",
    "plt.title('Learning curve')\n",
    "plt.legend()\n",
    "plt.show()"
   ]
  },
  {
   "cell_type": "code",
   "execution_count": null,
   "id": "2e8b8f8a-c3c1-4464-a141-fad31d1bd75a",
   "metadata": {},
   "outputs": [],
   "source": []
  },
  {
   "cell_type": "code",
   "execution_count": 73,
   "id": "7694acdb-778c-487b-aee8-000943f61f52",
   "metadata": {},
   "outputs": [
    {
     "data": {
      "image/png": "[encoded data removed]",
      "text/plain": [
       "<Figure size 576x432 with 1 Axes>"
      ]
     },
     "metadata": {
      "needs_background": "light"
     },
     "output_type": "display_data"
    }
   ],
   "source": [
    "# Better plot for random forest regression\n",
    "y_pred_rf = rf_trained.predict(X_vali_std_10)\n",
    "plt.figure(figsize=(8,6))\n",
    "plt.hist(y_vali, label='True arrival delay')\n",
    "plt.hist(y_pred_rf, color='red', alpha=0.5, label='Prediction')\n",
    "plt.xlabel('Arrival delay(min)')\n",
    "plt.ylabel('Counts')\n",
    "plt.legend()\n",
    "plt.show()"
   ]
  },
  {
   "cell_type": "code",
   "execution_count": 83,
   "id": "baf300cc-1f12-4222-88f1-6bd4bd02a0b0",
   "metadata": {},
   "outputs": [
    {
     "data": {
      "image/png": "[encoded data removed]",
      "text/plain": [
       "<Figure size 576x432 with 1 Axes>"
      ]
     },
     "metadata": {
      "needs_background": "light"
     },
     "output_type": "display_data"
    }
   ],
   "source": [
    "# Better plot for XGBoost regression\n",
    "y_pred_xgb = xgb_trained.predict(X_vali_std_10)\n",
    "plt.figure(figsize=(8,6))\n",
    "plt.hist(y_vali, label='True arrival delay')\n",
    "plt.hist(y_pred_xgb, color='red', alpha=0.5, label='Prediction')\n",
    "plt.xlabel('Arrival delay(min)')\n",
    "plt.ylabel('Counts')\n",
    "plt.legend()\n",
    "plt.show()"
   ]
  },
  {
   "cell_type": "code",
   "execution_count": null,
   "id": "34245160-ca2e-4d73-8cb3-07c8857e884c",
   "metadata": {},
   "outputs": [],
   "source": []
  },
  {
   "cell_type": "markdown",
   "id": "ff2b6ee3-6909-45b8-b7c4-115d922f5078",
   "metadata": {
    "jp-MarkdownHeadingCollapsed": true,
    "tags": []
   },
   "source": [
    "## Predicting testing data"
   ]
  },
  {
   "cell_type": "code",
   "execution_count": 84,
   "id": "ccf55d03-a305-43f1-bfc6-ccddc7e71a8b",
   "metadata": {},
   "outputs": [
    {
     "data": {
      "text/plain": [
       "Index(['distance', 'numflights', 'numstrikes', 'strikeprob', 'percentflights',\n",
       "       'region_N', 'region_O', 'region_S', 'region_W', 'man_Airbus',\n",
       "       'man_American Champion Aircraft', 'man_Bell Helicopter Textron Canada',\n",
       "       'man_Boeing', 'man_Bombardier', 'man_Canadair', 'man_Eads/alenia Atr',\n",
       "       'man_Embraer', 'man_Grumman', 'man_Mcdonnell Douglas', 'man_Piper',\n",
       "       'aircraft_age', 'type_large_airport', 'type_medium_airport',\n",
       "       'type_small_airport', 'date', 'weekday', 'sin_weekday', 'cos_weekday',\n",
       "       'crs_dep_time_hour', 'crs_dep_time_min', 'sin_crs_dep_time',\n",
       "       'cos_crs_dep_time', 'crs_arr_time_hour', 'crs_arr_time_min',\n",
       "       'sin_crs_arr_time', 'cos_crs_arr_time', 'DelayD_carrier',\n",
       "       'num_flights_carrier', 'DelayD_origin', 'num_flights_origin',\n",
       "       'DelayD_dest', 'num_flights_dest', 'DelayA_carrier', 'DelayA_origin',\n",
       "       'DelayA_dest', 'DelayA_hourly', 'num_flights_hourly', 'DelayD_hourly',\n",
       "       'DelayA_origin_hourly', 'DelayA_carrier_hourly', 'DelayD_origin_hourly',\n",
       "       'DelayD_carrier_hourly'],\n",
       "      dtype='object')"
      ]
     },
     "execution_count": 84,
     "metadata": {},
     "output_type": "execute_result"
    }
   ],
   "source": [
    "df_test.columns"
   ]
  },
  {
   "cell_type": "code",
   "execution_count": 165,
   "id": "2771d284-a667-47e5-8d60-51604fd33061",
   "metadata": {},
   "outputs": [],
   "source": [
    "X_test = df_test.copy()"
   ]
  },
  {
   "cell_type": "code",
   "execution_count": 172,
   "id": "75dc4ec0-d904-451f-9b4e-0f0960fbfee9",
   "metadata": {},
   "outputs": [],
   "source": [
    "X_test_std = standardize(X_test)\n",
    "\n",
    "X_test_std_10 = X_test_std[top10_features]"
   ]
  },
  {
   "cell_type": "code",
   "execution_count": 173,
   "id": "2e4cdfd9-cd08-4204-9e44-3dbb9c82cb55",
   "metadata": {},
   "outputs": [],
   "source": [
    "X_test_std_10 = X_test_std_10.fillna(X_test_std_10[['DelayD_origin', 'DelayD_dest']].mean())"
   ]
  },
  {
   "cell_type": "code",
   "execution_count": 175,
   "id": "dbb4ed7a-9234-4bfe-828f-e99ada61445f",
   "metadata": {},
   "outputs": [],
   "source": [
    "y_pred_test = rf_trained.predict(X_test_std_10)"
   ]
  },
  {
   "cell_type": "code",
   "execution_count": 182,
   "id": "cf209aa7-9cd7-4549-9e6a-92e21840032d",
   "metadata": {},
   "outputs": [],
   "source": [
    "df_test = df_test.fillna(df_test.mean())"
   ]
  },
  {
   "cell_type": "code",
   "execution_count": 187,
   "id": "b001e084-8411-4a89-b0c6-b630a4974b92",
   "metadata": {},
   "outputs": [],
   "source": [
    "df_test = df_test[top10_features]"
   ]
  },
  {
   "cell_type": "code",
   "execution_count": 188,
   "id": "24b95c5b-dbaa-4148-b1e1-084d08972555",
   "metadata": {},
   "outputs": [
    {
     "name": "stderr",
     "output_type": "stream",
     "text": [
      "<ipython-input-188-4313c3c03a05>:1: SettingWithCopyWarning: \n",
      "A value is trying to be set on a copy of a slice from a DataFrame.\n",
      "Try using .loc[row_indexer,col_indexer] = value instead\n",
      "\n",
      "See the caveats in the documentation: https://pandas.pydata.org/pandas-docs/stable/user_guide/indexing.html#returning-a-view-versus-a-copy\n",
      "  df_test['predicted_delay'] = y_pred_test\n"
     ]
    }
   ],
   "source": [
    "df_test['predicted_delay'] = y_pred_test"
   ]
  },
  {
   "cell_type": "code",
   "execution_count": 191,
   "id": "221a8736-3680-4307-b8e7-3abf003e72e1",
   "metadata": {},
   "outputs": [],
   "source": [
    "df_test.to_csv('submission.csv', index=None)"
   ]
  }
 ],
 "metadata": {
  "kernelspec": {
   "display_name": "Python 3",
   "language": "python",
   "name": "python3"
  },
  "language_info": {
   "codemirror_mode": {
    "name": "ipython",
    "version": 3
   },
   "file_extension": ".py",
   "mimetype": "text/x-python",
   "name": "python",
   "nbconvert_exporter": "python",
   "pygments_lexer": "ipython3",
   "version": "3.8.11"
  }
 },
 "nbformat": 4,
 "nbformat_minor": 5
}
