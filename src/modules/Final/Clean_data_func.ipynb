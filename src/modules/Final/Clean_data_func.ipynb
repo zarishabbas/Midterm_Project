{
 "cells": [
  {
   "cell_type": "code",
   "execution_count": 5,
   "id": "3f75a9ca-6f1d-4186-8bcc-6e5b2f387bd1",
   "metadata": {},
   "outputs": [],
   "source": [
    "import pandas as pd\n",
    "import numpy as np\n",
    "from sklearn.preprocessing import OneHotEncoder"
   ]
  },
  {
   "cell_type": "code",
   "execution_count": 6,
   "id": "0668e187-8834-457e-a19c-cb8fe514eb5d",
   "metadata": {},
   "outputs": [],
   "source": [
    "def clean_data(path, tvt, csv):\n",
    "    df = pd.read_csv(path + csv)\n",
    "    filters = (df['cancelled']==0) & (df['dup']=='N')\n",
    "    # Filter out cancelled flight, duplicate record. Drop 'cancelled', 'dup', 'icao24'\n",
    "    df = df[filters].drop(['cancelled', 'dup', 'icao24'], axis=1)\n",
    "    # Fill null values for 'weather_delay', 'late_aircraft_delay', 'dep_delay' with 0             note: after check, null for dep_delay means airplane departured on time.\n",
    "    df[['dep_delay', 'weather_delay', 'late_aircraft_delay']] = df[['dep_delay', 'weather_delay', 'late_aircraft_delay']].fillna(0.0)\n",
    "    # Drop rows that contain null values in 'arr_time'\n",
    "    df.dropna(subset=['arr_time'], inplace=True)\n",
    "    # Fill null values in 'arr_delay' by substracting 'crs_arr_time' from 'arr_time'\n",
    "    df['arr_delay'] = df['arr_delay'].fillna(df['arr_time'] - df['crs_arr_time'])\n",
    "    # Combine same brand of manufactures\n",
    "    manufactures = {\n",
    "        'Embraer S A': 'Embraer',\n",
    "        'Embraer-empresa Brasileira De': 'Embraer',\n",
    "        'Mcdonnell Douglas Corporation': 'Mcdonnell Douglas',\n",
    "        'Mcdonnell Douglas Aircraft Co': 'Mcdonnell Douglas',\n",
    "        'Airbus Industrie': 'Airbus',\n",
    "        'Boeing Of Canada/dehav Div': 'Boeing',\n",
    "        'Saab-scania': 'Saab',\n",
    "        'Gulfstream Aerospace Corp': 'Gulfstream Aerospace',\n",
    "        'Bombardier Inc': 'Bombardier'\n",
    "    }\n",
    "    df['manufacturername'].replace(manufactures, inplace=True)\n",
    "    # One hot encode the 'manufacturername'\n",
    "    enc = OneHotEncoder(sparse=False, handle_unknown='ignore')\n",
    "    encoded = enc.fit_transform(df['manufacturername'].to_numpy().reshape(-1,1))\n",
    "    ohe_df = pd.DataFrame(encoded, columns=enc.get_feature_names(['man']))\n",
    "    df = pd.concat([df.reset_index(), ohe_df.reset_index()], axis=1).drop(['index', 'manufacturername', 'man_nan'], axis=1)\n",
    "    # Create 'aircraft_age' and fillna with mean value\n",
    "    df['aircraft_age'] = df['fl_date'].str[:4].astype(float) - df['built'].str[:4].astype(float)\n",
    "    df['aircraft_age'] = df['aircraft_age'].fillna(int(df['aircraft_age'].mean()))\n",
    "    df['aircraft_age'] = df['aircraft_age'].astype(int)\n",
    "    df.drop(['built'], axis=1, inplace=True)\n",
    "    df = pd.get_dummies(df, columns=[\"type\"], drop_first=True)\n",
    "    print(f'\\nIs there any null values now: {df.isnull().any().any()}')\n",
    "    df.to_csv(f'{path}finalcleaned_{csv}', index=None)"
   ]
  },
  {
   "cell_type": "code",
   "execution_count": 7,
   "id": "bd596107-082b-4744-a44c-4b45422dcc26",
   "metadata": {},
   "outputs": [],
   "source": [
    "path = 'Training/'\n",
    "train = 'train_'\n",
    "test = 'test_'\n",
    "file1 = 'finalraw_flights_Dec_Jan.csv'\n",
    "file2 = 'finalraw_flights_Dec.csv' \n",
    "file3 = 'finalraw_flights_Jan_1w.csv' \n",
    "file4 = 'finalraw_flights_Jan_2w.csv' \n",
    "file5 = 'finalraw_flights_Jan.csv' \n",
    "files = [file1,file2,file3,file4,file5]"
   ]
  },
  {
   "cell_type": "code",
   "execution_count": 8,
   "id": "94b47392-7307-44f5-a1f6-9d35a735342c",
   "metadata": {},
   "outputs": [
    {
     "name": "stderr",
     "output_type": "stream",
     "text": [
      "/home/zarish/anaconda3/envs/ML/lib/python3.9/site-packages/sklearn/utils/deprecation.py:87: FutureWarning: Function get_feature_names is deprecated; get_feature_names is deprecated in 1.0 and will be removed in 1.2. Please use get_feature_names_out instead.\n",
      "  warnings.warn(msg, category=FutureWarning)\n"
     ]
    },
    {
     "name": "stdout",
     "output_type": "stream",
     "text": [
      "\n",
      "Is there any null values now: False\n"
     ]
    },
    {
     "name": "stderr",
     "output_type": "stream",
     "text": [
      "/home/zarish/anaconda3/envs/ML/lib/python3.9/site-packages/sklearn/utils/deprecation.py:87: FutureWarning: Function get_feature_names is deprecated; get_feature_names is deprecated in 1.0 and will be removed in 1.2. Please use get_feature_names_out instead.\n",
      "  warnings.warn(msg, category=FutureWarning)\n"
     ]
    },
    {
     "name": "stdout",
     "output_type": "stream",
     "text": [
      "\n",
      "Is there any null values now: False\n"
     ]
    },
    {
     "name": "stderr",
     "output_type": "stream",
     "text": [
      "/home/zarish/anaconda3/envs/ML/lib/python3.9/site-packages/sklearn/utils/deprecation.py:87: FutureWarning: Function get_feature_names is deprecated; get_feature_names is deprecated in 1.0 and will be removed in 1.2. Please use get_feature_names_out instead.\n",
      "  warnings.warn(msg, category=FutureWarning)\n"
     ]
    },
    {
     "name": "stdout",
     "output_type": "stream",
     "text": [
      "\n",
      "Is there any null values now: False\n"
     ]
    },
    {
     "name": "stderr",
     "output_type": "stream",
     "text": [
      "/home/zarish/anaconda3/envs/ML/lib/python3.9/site-packages/sklearn/utils/deprecation.py:87: FutureWarning: Function get_feature_names is deprecated; get_feature_names is deprecated in 1.0 and will be removed in 1.2. Please use get_feature_names_out instead.\n",
      "  warnings.warn(msg, category=FutureWarning)\n"
     ]
    },
    {
     "name": "stdout",
     "output_type": "stream",
     "text": [
      "\n",
      "Is there any null values now: False\n"
     ]
    },
    {
     "name": "stderr",
     "output_type": "stream",
     "text": [
      "/home/zarish/anaconda3/envs/ML/lib/python3.9/site-packages/sklearn/utils/deprecation.py:87: FutureWarning: Function get_feature_names is deprecated; get_feature_names is deprecated in 1.0 and will be removed in 1.2. Please use get_feature_names_out instead.\n",
      "  warnings.warn(msg, category=FutureWarning)\n"
     ]
    },
    {
     "name": "stdout",
     "output_type": "stream",
     "text": [
      "\n",
      "Is there any null values now: False\n"
     ]
    }
   ],
   "source": [
    "for i in files:\n",
    "    clean_data(path, train, i)"
   ]
  },
  {
   "cell_type": "code",
   "execution_count": 9,
   "id": "fcb9b4d6-98a7-4061-91d7-9b10191896d5",
   "metadata": {},
   "outputs": [
    {
     "name": "stderr",
     "output_type": "stream",
     "text": [
      "/home/zarish/anaconda3/envs/ML/lib/python3.9/site-packages/sklearn/utils/deprecation.py:87: FutureWarning: Function get_feature_names is deprecated; get_feature_names is deprecated in 1.0 and will be removed in 1.2. Please use get_feature_names_out instead.\n",
      "  warnings.warn(msg, category=FutureWarning)\n"
     ]
    },
    {
     "name": "stdout",
     "output_type": "stream",
     "text": [
      "\n",
      "Is there any null values now: False\n"
     ]
    },
    {
     "name": "stderr",
     "output_type": "stream",
     "text": [
      "/home/zarish/anaconda3/envs/ML/lib/python3.9/site-packages/sklearn/utils/deprecation.py:87: FutureWarning: Function get_feature_names is deprecated; get_feature_names is deprecated in 1.0 and will be removed in 1.2. Please use get_feature_names_out instead.\n",
      "  warnings.warn(msg, category=FutureWarning)\n"
     ]
    },
    {
     "name": "stdout",
     "output_type": "stream",
     "text": [
      "\n",
      "Is there any null values now: False\n"
     ]
    },
    {
     "name": "stderr",
     "output_type": "stream",
     "text": [
      "/home/zarish/anaconda3/envs/ML/lib/python3.9/site-packages/sklearn/utils/deprecation.py:87: FutureWarning: Function get_feature_names is deprecated; get_feature_names is deprecated in 1.0 and will be removed in 1.2. Please use get_feature_names_out instead.\n",
      "  warnings.warn(msg, category=FutureWarning)\n"
     ]
    },
    {
     "name": "stdout",
     "output_type": "stream",
     "text": [
      "\n",
      "Is there any null values now: False\n"
     ]
    },
    {
     "name": "stderr",
     "output_type": "stream",
     "text": [
      "/home/zarish/anaconda3/envs/ML/lib/python3.9/site-packages/sklearn/utils/deprecation.py:87: FutureWarning: Function get_feature_names is deprecated; get_feature_names is deprecated in 1.0 and will be removed in 1.2. Please use get_feature_names_out instead.\n",
      "  warnings.warn(msg, category=FutureWarning)\n"
     ]
    },
    {
     "name": "stdout",
     "output_type": "stream",
     "text": [
      "\n",
      "Is there any null values now: False\n"
     ]
    },
    {
     "name": "stderr",
     "output_type": "stream",
     "text": [
      "/home/zarish/anaconda3/envs/ML/lib/python3.9/site-packages/sklearn/utils/deprecation.py:87: FutureWarning: Function get_feature_names is deprecated; get_feature_names is deprecated in 1.0 and will be removed in 1.2. Please use get_feature_names_out instead.\n",
      "  warnings.warn(msg, category=FutureWarning)\n"
     ]
    },
    {
     "name": "stdout",
     "output_type": "stream",
     "text": [
      "\n",
      "Is there any null values now: False\n"
     ]
    }
   ],
   "source": [
    "path = 'Validation/'\n",
    "for i in files:\n",
    "    clean_data(path, test, i)"
   ]
  },
  {
   "cell_type": "code",
   "execution_count": null,
   "id": "db90e323-9a80-4f5a-8466-a9d02046e04d",
   "metadata": {},
   "outputs": [],
   "source": []
  }
 ],
 "metadata": {
  "kernelspec": {
   "display_name": "Python 3 (ipykernel)",
   "language": "python",
   "name": "python3"
  },
  "language_info": {
   "codemirror_mode": {
    "name": "ipython",
    "version": 3
   },
   "file_extension": ".py",
   "mimetype": "text/x-python",
   "name": "python",
   "nbconvert_exporter": "python",
   "pygments_lexer": "ipython3",
   "version": "3.9.7"
  }
 },
 "nbformat": 4,
 "nbformat_minor": 5
}
