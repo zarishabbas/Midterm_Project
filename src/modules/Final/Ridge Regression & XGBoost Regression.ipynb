{
 "cells": [
  {
   "cell_type": "code",
   "execution_count": 1,
   "id": "4f58c652-3f63-4037-862e-821fe138a4d7",
   "metadata": {},
   "outputs": [],
   "source": [
    "import pandas as pd\n",
    "import numpy as np"
   ]
  },
  {
   "cell_type": "code",
   "execution_count": 2,
   "id": "7c80781d-3900-4754-9482-97d45f8c3fbd",
   "metadata": {},
   "outputs": [],
   "source": [
    "path_train = 'final2/Training/train_engineered_cleaned_merged_flights_Jan_1w.csv'\n",
    "path_vali = 'final2/Validation/vali_engineered_cleaned_merged_flights_Jan_1w.csv'\n",
    "path_test = 'final2/Testing/test_engineered_cleaned_merged_flights_Jan_1w.csv'"
   ]
  },
  {
   "cell_type": "code",
   "execution_count": 3,
   "id": "df4048c6-e43d-49f7-b5fa-d95c858fd6d6",
   "metadata": {},
   "outputs": [],
   "source": [
    "df_train = pd.read_csv(path_train)\n",
    "df_vali = pd.read_csv(path_vali)\n",
    "df_test = pd.read_csv(path_test)"
   ]
  },
  {
   "cell_type": "code",
   "execution_count": 4,
   "id": "7ef0855c-d970-4b82-8518-b15bbdccf782",
   "metadata": {},
   "outputs": [],
   "source": [
    "df_vali.rename(columns={'dep_delay': 'DelayD_carrier'}, inplace=True)\n",
    "df_test.rename(columns={'dep_delay': 'DelayD_carrier', 'arr_delay': 'DelayA_carrier'}, inplace=True)"
   ]
  },
  {
   "cell_type": "code",
   "execution_count": 5,
   "id": "9fcb00ac-4c6d-4478-b744-abc91bcb1295",
   "metadata": {},
   "outputs": [
    {
     "data": {
      "text/plain": [
       "Index([], dtype='object')"
      ]
     },
     "execution_count": 5,
     "metadata": {},
     "output_type": "execute_result"
    }
   ],
   "source": [
    "df_train.columns[df_train.isnull().any()]"
   ]
  },
  {
   "cell_type": "code",
   "execution_count": 6,
   "id": "8a1b86f1-a16b-4140-b35e-0972c560b0f9",
   "metadata": {},
   "outputs": [
    {
     "data": {
      "text/plain": [
       "Index(['DelayA_origin_hourly', 'DelayA_carrier_hourly', 'DelayD_origin_hourly',\n",
       "       'DelayD_carrier_hourly'],\n",
       "      dtype='object')"
      ]
     },
     "execution_count": 6,
     "metadata": {},
     "output_type": "execute_result"
    }
   ],
   "source": [
    "df_vali.columns[df_vali.isnull().any()]"
   ]
  },
  {
   "cell_type": "code",
   "execution_count": 7,
   "id": "a023bc7f-dbe0-4cca-ad66-65a48597ff1e",
   "metadata": {},
   "outputs": [
    {
     "data": {
      "text/plain": [
       "Index(['DelayD_origin', 'DelayD_dest', 'DelayA_origin', 'DelayA_dest',\n",
       "       'DelayA_origin_hourly', 'DelayA_carrier_hourly', 'DelayD_origin_hourly',\n",
       "       'DelayD_carrier_hourly'],\n",
       "      dtype='object')"
      ]
     },
     "execution_count": 7,
     "metadata": {},
     "output_type": "execute_result"
    }
   ],
   "source": [
    "df_test.columns[df_test.isnull().any()]"
   ]
  },
  {
   "cell_type": "code",
   "execution_count": 8,
   "id": "1d3e7c40-10eb-4d8f-a305-f51d65aa3a80",
   "metadata": {},
   "outputs": [
    {
     "data": {
      "text/plain": [
       "(96233, 77)"
      ]
     },
     "execution_count": 8,
     "metadata": {},
     "output_type": "execute_result"
    }
   ],
   "source": [
    "df_vali.shape"
   ]
  },
  {
   "cell_type": "code",
   "execution_count": 9,
   "id": "17fdf020-ca89-4d3d-8a58-eaaf7c8cdef0",
   "metadata": {},
   "outputs": [
    {
     "data": {
      "text/plain": [
       "(96119, 77)"
      ]
     },
     "execution_count": 9,
     "metadata": {},
     "output_type": "execute_result"
    }
   ],
   "source": [
    "df_vali.dropna(axis=0, inplace=True)\n",
    "df_vali.shape"
   ]
  },
  {
   "cell_type": "markdown",
   "id": "9af13468-2507-4d1e-b3ef-58536c1f3218",
   "metadata": {},
   "source": [
    "## Coloumn Drop"
   ]
  },
  {
   "cell_type": "code",
   "execution_count": 10,
   "id": "39cb80cc-22df-4226-a3e7-95c82e9ae051",
   "metadata": {},
   "outputs": [],
   "source": [
    "train_vali_diff = df_train.columns.difference(df_vali.columns).to_list()\n",
    "vali_train_diff = df_vali.columns.difference(df_train.columns).to_list()"
   ]
  },
  {
   "cell_type": "code",
   "execution_count": 11,
   "id": "39c33e55-3758-407d-9b04-2a78f8ccddc9",
   "metadata": {},
   "outputs": [
    {
     "data": {
      "text/plain": [
       "['arr_time',\n",
       " 'arr_time_hour',\n",
       " 'arr_time_min',\n",
       " 'cos_arr_time',\n",
       " 'cos_dep_time',\n",
       " 'delay',\n",
       " 'delayed',\n",
       " 'dep_delay',\n",
       " 'dep_time',\n",
       " 'dep_time_hour',\n",
       " 'dep_time_min',\n",
       " 'late_aircraft_delay',\n",
       " 'sin_arr_time',\n",
       " 'sin_dep_time',\n",
       " 'weather_delay']"
      ]
     },
     "execution_count": 11,
     "metadata": {},
     "output_type": "execute_result"
    }
   ],
   "source": [
    "train_vali_diff"
   ]
  },
  {
   "cell_type": "code",
   "execution_count": 12,
   "id": "9924bcd8-5d44-403c-9299-39f2a4db3325",
   "metadata": {},
   "outputs": [
    {
     "data": {
      "text/plain": [
       "[]"
      ]
     },
     "execution_count": 12,
     "metadata": {},
     "output_type": "execute_result"
    }
   ],
   "source": [
    "vali_train_diff"
   ]
  },
  {
   "cell_type": "code",
   "execution_count": 13,
   "id": "dbc58f83-32f9-4f17-9f0d-58a11e9e0fdc",
   "metadata": {},
   "outputs": [],
   "source": [
    "df_train = df_train.drop(train_vali_diff, axis=1)"
   ]
  },
  {
   "cell_type": "code",
   "execution_count": 14,
   "id": "96e4b159-980c-40be-b581-754826a90b9d",
   "metadata": {},
   "outputs": [],
   "source": [
    "vali_test_diff = df_vali.columns.difference(df_test.columns).to_list()\n",
    "test_vali_diff = df_test.columns.difference(df_vali.columns).to_list()"
   ]
  },
  {
   "cell_type": "code",
   "execution_count": 15,
   "id": "f7675cff-3a71-4170-aead-163c85f6ec35",
   "metadata": {},
   "outputs": [
    {
     "data": {
      "text/plain": [
       "['arr_delay',\n",
       " 'man_Aerospatiale/alenia',\n",
       " 'man_Air Tractor Inc',\n",
       " 'man_Avions De Transport Regional',\n",
       " 'man_Benham John',\n",
       " 'man_Cessna',\n",
       " 'man_Cirrus Design Corp',\n",
       " 'man_Dassault',\n",
       " 'man_De Havilland Canada',\n",
       " 'man_Diamond Aircraft Ind Gmbh',\n",
       " 'man_Ela Aviacion',\n",
       " 'man_Gulfstream Aerospace',\n",
       " 'man_Mooney Aircraft Corp.',\n",
       " 'man_Pilatus',\n",
       " 'man_Quest Aircraft Company Llc',\n",
       " 'man_Robinson Helicopter Co',\n",
       " 'man_Saab',\n",
       " 'man_Socata',\n",
       " 'man_Tremble Jason M']"
      ]
     },
     "execution_count": 15,
     "metadata": {},
     "output_type": "execute_result"
    }
   ],
   "source": [
    "vali_test_diff"
   ]
  },
  {
   "cell_type": "code",
   "execution_count": 16,
   "id": "99349aed-66bf-4871-a76b-798eb17b21ba",
   "metadata": {},
   "outputs": [
    {
     "data": {
      "text/plain": [
       "['man_C Series Aircraft Ltd Ptnrsp']"
      ]
     },
     "execution_count": 16,
     "metadata": {},
     "output_type": "execute_result"
    }
   ],
   "source": [
    "test_vali_diff"
   ]
  },
  {
   "cell_type": "code",
   "execution_count": 17,
   "id": "f754fe12-4dda-4adc-be94-a71fe4169744",
   "metadata": {},
   "outputs": [],
   "source": [
    "df_test.drop('man_C Series Aircraft Ltd Ptnrsp', inplace=True, axis=1)\n",
    "df_train.drop(vali_test_diff[1:], inplace=True, axis=1)\n",
    "df_vali.drop(vali_test_diff[1:], inplace=True, axis=1)"
   ]
  },
  {
   "cell_type": "code",
   "execution_count": 18,
   "id": "ebc78128-9add-466f-9b82-7d17c495bd34",
   "metadata": {},
   "outputs": [
    {
     "name": "stdout",
     "output_type": "stream",
     "text": [
      "[]\n",
      "[]\n",
      "['arr_delay']\n",
      "[]\n"
     ]
    }
   ],
   "source": [
    "for diff in [df_train.columns.difference(df_vali.columns).to_list(), \n",
    "             df_vali.columns.difference(df_train.columns).to_list(),\n",
    "             df_vali.columns.difference(df_test.columns).to_list(),\n",
    "             df_test.columns.difference(df_vali.columns).to_list()]:\n",
    "    print(diff)"
   ]
  },
  {
   "cell_type": "code",
   "execution_count": 19,
   "id": "49bfe471-d7cc-4bf7-8e57-56fa9b9156e8",
   "metadata": {},
   "outputs": [
    {
     "data": {
      "text/plain": [
       "Index(['fl_date', 'op_unique_carrier', 'origin', 'dest', 'crs_dep_time',\n",
       "       'crs_arr_time', 'arr_delay', 'distance', 'numflights', 'numstrikes',\n",
       "       'strikeprob', 'percentflights', 'region_N', 'region_O', 'region_S',\n",
       "       'region_W', 'man_Airbus', 'man_American Champion Aircraft',\n",
       "       'man_Bell Helicopter Textron Canada', 'man_Boeing', 'man_Bombardier',\n",
       "       'man_Canadair', 'man_Eads/alenia Atr', 'man_Embraer', 'man_Grumman',\n",
       "       'man_Mcdonnell Douglas', 'man_Piper', 'aircraft_age',\n",
       "       'type_large_airport', 'type_medium_airport', 'type_small_airport',\n",
       "       'date', 'weekday', 'sin_weekday', 'cos_weekday', 'crs_dep_time_hour',\n",
       "       'crs_dep_time_min', 'sin_crs_dep_time', 'cos_crs_dep_time',\n",
       "       'crs_arr_time_hour', 'crs_arr_time_min', 'sin_crs_arr_time',\n",
       "       'cos_crs_arr_time', 'DelayD_carrier', 'num_flights_carrier',\n",
       "       'DelayD_origin', 'num_flights_origin', 'DelayD_dest',\n",
       "       'num_flights_dest', 'DelayA_carrier', 'DelayA_origin', 'DelayA_dest',\n",
       "       'DelayA_hourly', 'num_flights_hourly', 'DelayD_hourly',\n",
       "       'DelayA_origin_hourly', 'DelayA_carrier_hourly', 'DelayD_origin_hourly',\n",
       "       'DelayD_carrier_hourly'],\n",
       "      dtype='object')"
      ]
     },
     "execution_count": 19,
     "metadata": {},
     "output_type": "execute_result"
    }
   ],
   "source": [
    "df_train.columns"
   ]
  },
  {
   "cell_type": "code",
   "execution_count": 21,
   "id": "49a73747-b450-4327-8fb0-ebe03454f228",
   "metadata": {},
   "outputs": [
    {
     "data": {
      "text/html": [
       "<div>\n",
       "<style scoped>\n",
       "    .dataframe tbody tr th:only-of-type {\n",
       "        vertical-align: middle;\n",
       "    }\n",
       "\n",
       "    .dataframe tbody tr th {\n",
       "        vertical-align: top;\n",
       "    }\n",
       "\n",
       "    .dataframe thead th {\n",
       "        text-align: right;\n",
       "    }\n",
       "</style>\n",
       "<table border=\"1\" class=\"dataframe\">\n",
       "  <thead>\n",
       "    <tr style=\"text-align: right;\">\n",
       "      <th></th>\n",
       "      <th>min</th>\n",
       "      <th>max</th>\n",
       "    </tr>\n",
       "  </thead>\n",
       "  <tbody>\n",
       "    <tr>\n",
       "      <th>arr_delay</th>\n",
       "      <td>-8.200000e+02</td>\n",
       "      <td>1778.000000</td>\n",
       "    </tr>\n",
       "    <tr>\n",
       "      <th>distance</th>\n",
       "      <td>3.100000e+01</td>\n",
       "      <td>4983.000000</td>\n",
       "    </tr>\n",
       "    <tr>\n",
       "      <th>numflights</th>\n",
       "      <td>2.000000e+00</td>\n",
       "      <td>790253.000000</td>\n",
       "    </tr>\n",
       "    <tr>\n",
       "      <th>numstrikes</th>\n",
       "      <td>0.000000e+00</td>\n",
       "      <td>3799.000000</td>\n",
       "    </tr>\n",
       "    <tr>\n",
       "      <th>strikeprob</th>\n",
       "      <td>0.000000e+00</td>\n",
       "      <td>0.086329</td>\n",
       "    </tr>\n",
       "    <tr>\n",
       "      <th>percentflights</th>\n",
       "      <td>1.250634e-07</td>\n",
       "      <td>0.049416</td>\n",
       "    </tr>\n",
       "    <tr>\n",
       "      <th>aircraft_age</th>\n",
       "      <td>1.000000e+00</td>\n",
       "      <td>40.000000</td>\n",
       "    </tr>\n",
       "    <tr>\n",
       "      <th>date</th>\n",
       "      <td>1.000000e+00</td>\n",
       "      <td>8.000000</td>\n",
       "    </tr>\n",
       "    <tr>\n",
       "      <th>weekday</th>\n",
       "      <td>0.000000e+00</td>\n",
       "      <td>6.000000</td>\n",
       "    </tr>\n",
       "    <tr>\n",
       "      <th>sin_weekday</th>\n",
       "      <td>-9.589243e-01</td>\n",
       "      <td>0.909297</td>\n",
       "    </tr>\n",
       "    <tr>\n",
       "      <th>cos_weekday</th>\n",
       "      <td>-9.899925e-01</td>\n",
       "      <td>1.000000</td>\n",
       "    </tr>\n",
       "    <tr>\n",
       "      <th>crs_dep_time_hour</th>\n",
       "      <td>0.000000e+00</td>\n",
       "      <td>24.000000</td>\n",
       "    </tr>\n",
       "    <tr>\n",
       "      <th>crs_dep_time_min</th>\n",
       "      <td>0.000000e+00</td>\n",
       "      <td>59.000000</td>\n",
       "    </tr>\n",
       "    <tr>\n",
       "      <th>sin_crs_dep_time</th>\n",
       "      <td>-9.999902e-01</td>\n",
       "      <td>0.990607</td>\n",
       "    </tr>\n",
       "    <tr>\n",
       "      <th>cos_crs_dep_time</th>\n",
       "      <td>-9.999608e-01</td>\n",
       "      <td>1.000000</td>\n",
       "    </tr>\n",
       "    <tr>\n",
       "      <th>crs_arr_time_hour</th>\n",
       "      <td>0.000000e+00</td>\n",
       "      <td>24.000000</td>\n",
       "    </tr>\n",
       "    <tr>\n",
       "      <th>crs_arr_time_min</th>\n",
       "      <td>0.000000e+00</td>\n",
       "      <td>59.000000</td>\n",
       "    </tr>\n",
       "    <tr>\n",
       "      <th>sin_crs_arr_time</th>\n",
       "      <td>-9.999902e-01</td>\n",
       "      <td>0.990607</td>\n",
       "    </tr>\n",
       "    <tr>\n",
       "      <th>cos_crs_arr_time</th>\n",
       "      <td>-9.999608e-01</td>\n",
       "      <td>1.000000</td>\n",
       "    </tr>\n",
       "    <tr>\n",
       "      <th>DelayD_carrier</th>\n",
       "      <td>-5.338710e+00</td>\n",
       "      <td>33.164773</td>\n",
       "    </tr>\n",
       "    <tr>\n",
       "      <th>num_flights_carrier</th>\n",
       "      <td>6.200000e+01</td>\n",
       "      <td>40353.000000</td>\n",
       "    </tr>\n",
       "    <tr>\n",
       "      <th>DelayD_origin</th>\n",
       "      <td>-1.500000e+01</td>\n",
       "      <td>148.090909</td>\n",
       "    </tr>\n",
       "    <tr>\n",
       "      <th>num_flights_origin</th>\n",
       "      <td>2.000000e+00</td>\n",
       "      <td>11081.000000</td>\n",
       "    </tr>\n",
       "    <tr>\n",
       "      <th>DelayD_dest</th>\n",
       "      <td>-9.300000e+00</td>\n",
       "      <td>109.681818</td>\n",
       "    </tr>\n",
       "    <tr>\n",
       "      <th>num_flights_dest</th>\n",
       "      <td>2.000000e+00</td>\n",
       "      <td>11173.000000</td>\n",
       "    </tr>\n",
       "    <tr>\n",
       "      <th>DelayA_carrier</th>\n",
       "      <td>-4.758065e+00</td>\n",
       "      <td>28.619673</td>\n",
       "    </tr>\n",
       "    <tr>\n",
       "      <th>DelayA_origin</th>\n",
       "      <td>-1.855556e+01</td>\n",
       "      <td>151.363636</td>\n",
       "    </tr>\n",
       "    <tr>\n",
       "      <th>DelayA_dest</th>\n",
       "      <td>-7.311111e+01</td>\n",
       "      <td>113.045455</td>\n",
       "    </tr>\n",
       "    <tr>\n",
       "      <th>DelayA_hourly</th>\n",
       "      <td>-8.378378e-01</td>\n",
       "      <td>41.925926</td>\n",
       "    </tr>\n",
       "    <tr>\n",
       "      <th>num_flights_hourly</th>\n",
       "      <td>6.300000e+01</td>\n",
       "      <td>14507.000000</td>\n",
       "    </tr>\n",
       "    <tr>\n",
       "      <th>DelayD_hourly</th>\n",
       "      <td>4.657671e+00</td>\n",
       "      <td>50.197531</td>\n",
       "    </tr>\n",
       "    <tr>\n",
       "      <th>DelayA_origin_hourly</th>\n",
       "      <td>-5.100000e+01</td>\n",
       "      <td>536.333333</td>\n",
       "    </tr>\n",
       "    <tr>\n",
       "      <th>DelayA_carrier_hourly</th>\n",
       "      <td>-4.900000e+01</td>\n",
       "      <td>109.083333</td>\n",
       "    </tr>\n",
       "    <tr>\n",
       "      <th>DelayD_origin_hourly</th>\n",
       "      <td>-4.400000e+01</td>\n",
       "      <td>546.666667</td>\n",
       "    </tr>\n",
       "    <tr>\n",
       "      <th>DelayD_carrier_hourly</th>\n",
       "      <td>-1.833333e+01</td>\n",
       "      <td>112.333333</td>\n",
       "    </tr>\n",
       "  </tbody>\n",
       "</table>\n",
       "</div>"
      ],
      "text/plain": [
       "                                min            max\n",
       "arr_delay             -8.200000e+02    1778.000000\n",
       "distance               3.100000e+01    4983.000000\n",
       "numflights             2.000000e+00  790253.000000\n",
       "numstrikes             0.000000e+00    3799.000000\n",
       "strikeprob             0.000000e+00       0.086329\n",
       "percentflights         1.250634e-07       0.049416\n",
       "aircraft_age           1.000000e+00      40.000000\n",
       "date                   1.000000e+00       8.000000\n",
       "weekday                0.000000e+00       6.000000\n",
       "sin_weekday           -9.589243e-01       0.909297\n",
       "cos_weekday           -9.899925e-01       1.000000\n",
       "crs_dep_time_hour      0.000000e+00      24.000000\n",
       "crs_dep_time_min       0.000000e+00      59.000000\n",
       "sin_crs_dep_time      -9.999902e-01       0.990607\n",
       "cos_crs_dep_time      -9.999608e-01       1.000000\n",
       "crs_arr_time_hour      0.000000e+00      24.000000\n",
       "crs_arr_time_min       0.000000e+00      59.000000\n",
       "sin_crs_arr_time      -9.999902e-01       0.990607\n",
       "cos_crs_arr_time      -9.999608e-01       1.000000\n",
       "DelayD_carrier        -5.338710e+00      33.164773\n",
       "num_flights_carrier    6.200000e+01   40353.000000\n",
       "DelayD_origin         -1.500000e+01     148.090909\n",
       "num_flights_origin     2.000000e+00   11081.000000\n",
       "DelayD_dest           -9.300000e+00     109.681818\n",
       "num_flights_dest       2.000000e+00   11173.000000\n",
       "DelayA_carrier        -4.758065e+00      28.619673\n",
       "DelayA_origin         -1.855556e+01     151.363636\n",
       "DelayA_dest           -7.311111e+01     113.045455\n",
       "DelayA_hourly         -8.378378e-01      41.925926\n",
       "num_flights_hourly     6.300000e+01   14507.000000\n",
       "DelayD_hourly          4.657671e+00      50.197531\n",
       "DelayA_origin_hourly  -5.100000e+01     536.333333\n",
       "DelayA_carrier_hourly -4.900000e+01     109.083333\n",
       "DelayD_origin_hourly  -4.400000e+01     546.666667\n",
       "DelayD_carrier_hourly -1.833333e+01     112.333333"
      ]
     },
     "execution_count": 21,
     "metadata": {},
     "output_type": "execute_result"
    }
   ],
   "source": [
    "df_train[['arr_delay', 'distance', 'numflights', 'numstrikes',\n",
    "       'strikeprob', 'percentflights', 'aircraft_age',\n",
    "       'date', 'weekday', 'sin_weekday', 'cos_weekday', 'crs_dep_time_hour',\n",
    "       'crs_dep_time_min', 'sin_crs_dep_time', 'cos_crs_dep_time',\n",
    "       'crs_arr_time_hour', 'crs_arr_time_min', 'sin_crs_arr_time',\n",
    "       'cos_crs_arr_time', 'DelayD_carrier', 'num_flights_carrier',\n",
    "       'DelayD_origin', 'num_flights_origin', 'DelayD_dest',\n",
    "       'num_flights_dest', 'DelayA_carrier', 'DelayA_origin', 'DelayA_dest',\n",
    "       'DelayA_hourly', 'num_flights_hourly', 'DelayD_hourly',\n",
    "       'DelayA_origin_hourly', 'DelayA_carrier_hourly', 'DelayD_origin_hourly',\n",
    "       'DelayD_carrier_hourly']].describe().loc[['min','max']].T"
   ]
  },
  {
   "cell_type": "code",
   "execution_count": 22,
   "id": "ec108243-48e5-4c4a-94fd-5b57be33fcd8",
   "metadata": {},
   "outputs": [],
   "source": [
    "exclude_cols = ['fl_date', 'op_unique_carrier', 'origin', 'dest', 'crs_dep_time', 'crs_arr_time']"
   ]
  },
  {
   "cell_type": "code",
   "execution_count": 23,
   "id": "aef21fb9-bdfb-4ef2-a69c-b5dd4cc352c9",
   "metadata": {},
   "outputs": [],
   "source": [
    "df_train.drop(exclude_cols, inplace=True, axis=1)\n",
    "df_vali.drop(exclude_cols, inplace=True, axis=1)\n",
    "df_test.drop(exclude_cols, inplace=True, axis=1)"
   ]
  },
  {
   "cell_type": "code",
   "execution_count": 24,
   "id": "23ddef60-949b-46b3-9010-89838094d0a5",
   "metadata": {},
   "outputs": [
    {
     "data": {
      "text/plain": [
       "Index(['arr_delay', 'distance', 'numflights', 'numstrikes', 'strikeprob',\n",
       "       'percentflights', 'region_N', 'region_O', 'region_S', 'region_W',\n",
       "       'man_Airbus', 'man_American Champion Aircraft',\n",
       "       'man_Bell Helicopter Textron Canada', 'man_Boeing', 'man_Bombardier',\n",
       "       'man_Canadair', 'man_Eads/alenia Atr', 'man_Embraer', 'man_Grumman',\n",
       "       'man_Mcdonnell Douglas', 'man_Piper', 'aircraft_age',\n",
       "       'type_large_airport', 'type_medium_airport', 'type_small_airport',\n",
       "       'date', 'weekday', 'sin_weekday', 'cos_weekday', 'crs_dep_time_hour',\n",
       "       'crs_dep_time_min', 'sin_crs_dep_time', 'cos_crs_dep_time',\n",
       "       'crs_arr_time_hour', 'crs_arr_time_min', 'sin_crs_arr_time',\n",
       "       'cos_crs_arr_time', 'DelayD_carrier', 'num_flights_carrier',\n",
       "       'DelayD_origin', 'num_flights_origin', 'DelayD_dest',\n",
       "       'num_flights_dest', 'DelayA_carrier', 'DelayA_origin', 'DelayA_dest',\n",
       "       'DelayA_hourly', 'num_flights_hourly', 'DelayD_hourly',\n",
       "       'DelayA_origin_hourly', 'DelayA_carrier_hourly', 'DelayD_origin_hourly',\n",
       "       'DelayD_carrier_hourly'],\n",
       "      dtype='object')"
      ]
     },
     "execution_count": 24,
     "metadata": {},
     "output_type": "execute_result"
    }
   ],
   "source": [
    "df_train.columns"
   ]
  },
  {
   "cell_type": "markdown",
   "id": "712427aa-e11f-4a99-ad50-c4c53143059a",
   "metadata": {
    "tags": []
   },
   "source": [
    "## Standardize data"
   ]
  },
  {
   "cell_type": "code",
   "execution_count": 25,
   "id": "defb4089-ed83-4682-b3e5-8ba39204e231",
   "metadata": {},
   "outputs": [],
   "source": [
    "from sklearn.preprocessing import StandardScaler"
   ]
  },
  {
   "cell_type": "code",
   "execution_count": 27,
   "id": "578d941b-e91c-4fb1-9437-5ab4303f7d6c",
   "metadata": {},
   "outputs": [],
   "source": [
    "def standardize(X):\n",
    "    num_cols = [ 'distance', 'numflights', 'numstrikes', 'strikeprob',\n",
    "       'percentflights', 'aircraft_age',\n",
    "       'date', 'weekday', 'sin_weekday', 'cos_weekday', 'crs_dep_time_hour',\n",
    "       'crs_dep_time_min', 'sin_crs_dep_time', 'cos_crs_dep_time',\n",
    "       'crs_arr_time_hour', 'crs_arr_time_min', 'sin_crs_arr_time',\n",
    "       'cos_crs_arr_time', 'DelayD_carrier', 'num_flights_carrier',\n",
    "       'DelayD_origin', 'num_flights_origin', 'DelayD_dest',\n",
    "       'num_flights_dest', 'DelayA_carrier', 'DelayA_origin', 'DelayA_dest',\n",
    "       'DelayA_hourly', 'num_flights_hourly', 'DelayD_hourly',\n",
    "       'DelayA_origin_hourly', 'DelayA_carrier_hourly', 'DelayD_origin_hourly',\n",
    "       'DelayD_carrier_hourly']\n",
    "    std_scaler = StandardScaler()\n",
    "    X[num_cols] = std_scaler.fit_transform(X[num_cols])\n",
    "    \n",
    "    return X"
   ]
  },
  {
   "cell_type": "code",
   "execution_count": 25,
   "id": "2669ca35-db35-401d-a9a9-565c4a04fd0e",
   "metadata": {},
   "outputs": [],
   "source": [
    "# df_train_scale = df_train"
   ]
  },
  {
   "cell_type": "code",
   "execution_count": 26,
   "id": "c7c976f2-a8dc-486e-adf3-f7c01f77ae5f",
   "metadata": {},
   "outputs": [],
   "source": [
    "# from sklearn.preprocessing import MinMaxScaler"
   ]
  },
  {
   "cell_type": "code",
   "execution_count": 27,
   "id": "4c217214-785a-4656-8453-c1b6430f4545",
   "metadata": {},
   "outputs": [],
   "source": [
    "# minmaxcol_posonly = [feature for feature in df_train.columns.to_list() if (df_train[feature]>=0).all()]\n",
    "\n",
    "# minmaxcol_negpos = [feature for feature in df_train.columns.to_list() if feature not in minmaxcol_posonly]"
   ]
  },
  {
   "cell_type": "code",
   "execution_count": 28,
   "id": "e42f055d-744c-45ae-8d0b-e1973bc5ebbb",
   "metadata": {},
   "outputs": [],
   "source": [
    "# pos_scaler = MinMaxScaler()\n",
    "# df_train_scale[minmaxcol_posonly] = pos_scaler.fit_transform(df_train_scale[minmaxcol_posonly])"
   ]
  },
  {
   "cell_type": "code",
   "execution_count": 29,
   "id": "d06e88c6-d8eb-444b-8064-04b9537a2ea5",
   "metadata": {},
   "outputs": [],
   "source": [
    "# negpos_scaler = MinMaxScaler((-1,1))\n",
    "# df_train_scale[minmaxcol_negpos] = negpos_scaler.fit_transform(df_train_scale[minmaxcol_negpos])"
   ]
  },
  {
   "cell_type": "code",
   "execution_count": null,
   "id": "d8fabd0f-89ec-4565-8c6e-5d6a59e2ba19",
   "metadata": {},
   "outputs": [],
   "source": []
  },
  {
   "cell_type": "markdown",
   "id": "db137852-eed3-4f8b-b6b5-e9b9d48acb54",
   "metadata": {},
   "source": [
    "## Drop high correlated features"
   ]
  },
  {
   "cell_type": "code",
   "execution_count": 28,
   "id": "9442965c-1710-442e-9aea-53c14ccffba1",
   "metadata": {},
   "outputs": [],
   "source": [
    "def drop_colinearity(X_train, X_vali):\n",
    "    # create correlation matrix\n",
    "\n",
    "    X_traincorr = X_train.corr().abs()\n",
    "\n",
    "    # iterate thru and find pairs with correlation > 0.5\n",
    "\n",
    "    trainindices = np.where(X_traincorr > 0.5) \n",
    "    trainindices = [(X_traincorr.index[x], X_traincorr.columns[y]) \n",
    "    for x, y in zip(*trainindices)\n",
    "        if x != y and x < y]\n",
    "\n",
    "    # drop pairs found in last step\n",
    "\n",
    "    for idx in trainindices: #each pair\n",
    "        try:\n",
    "            X_train.drop(idx[1], axis = 1, inplace=True)\n",
    "            X_vali.drop(idx[1], axis = 1, inplace=True)\n",
    "        except KeyError:\n",
    "            pass\n",
    "\n",
    "    return X_train, X_vali"
   ]
  },
  {
   "cell_type": "markdown",
   "id": "eee4465f-815d-4ab9-9a07-7a34a8eb8cb7",
   "metadata": {},
   "source": [
    "## Feature Selection"
   ]
  },
  {
   "cell_type": "code",
   "execution_count": 29,
   "id": "9c3754d4-8099-41f7-bef9-603213684902",
   "metadata": {},
   "outputs": [],
   "source": [
    "from sklearn.feature_selection import f_regression, SelectKBest"
   ]
  },
  {
   "cell_type": "code",
   "execution_count": 30,
   "id": "eaf5daa9-eaa7-42d5-a12d-4030b3d33d2c",
   "metadata": {},
   "outputs": [],
   "source": [
    "def select_top10(X, y):\n",
    "    '''\n",
    "    Input: X, y\n",
    "    Return: top 10 best features of X using selectKBest and 10 feature names\n",
    "    '''\n",
    "    select10 = SelectKBest(f_regression, k=10)\n",
    "    select10.fit(X, y)\n",
    "    col_names = X.columns[select10.get_support()]\n",
    "    print(f'top 10 best features are:\\n {col_names}')\n",
    "    X_top_10 = pd.DataFrame(select10.transform(X), columns=col_names)\n",
    "    \n",
    "    return X_top_10, col_names"
   ]
  },
  {
   "cell_type": "markdown",
   "id": "e5f4bbe8-6892-415a-b804-beb7f11dbe4a",
   "metadata": {},
   "source": [
    "## Creating data"
   ]
  },
  {
   "cell_type": "code",
   "execution_count": 31,
   "id": "bb5dfce3-1775-4568-a95b-45043d810aa4",
   "metadata": {},
   "outputs": [],
   "source": [
    "# Drop outliers\n",
    "cols_tr = [col for col in df_train.columns if df_train[col].std() != 0]\n",
    "cols_va = [col for col in df_vali.columns if df_vali[col].std() != 0]\n",
    "df_train[cols_tr] = df_train[cols_tr].mask((df_train[cols_tr]  - df_train[cols_tr].mean()).abs() > 3 * df_train[cols_tr].std())\n",
    "df_vali[cols_va] = df_vali[cols_va].mask((df_vali[cols_va]  - df_vali[cols_va].mean()).abs() > 3 * df_vali[cols_va].std())\n",
    "df_train.dropna(inplace=True)\n",
    "df_vali.dropna(inplace=True)"
   ]
  },
  {
   "cell_type": "code",
   "execution_count": 32,
   "id": "7c2c0820-f962-46c6-b410-be9275bf1737",
   "metadata": {},
   "outputs": [
    {
     "name": "stdout",
     "output_type": "stream",
     "text": [
      "top 10 best features are:\n",
      " Index(['distance', 'numflights', 'date', 'weekday', 'cos_weekday',\n",
      "       'crs_dep_time_hour', 'DelayD_carrier', 'DelayD_origin', 'DelayD_dest',\n",
      "       'num_flights_dest'],\n",
      "      dtype='object')\n"
     ]
    },
    {
     "name": "stderr",
     "output_type": "stream",
     "text": [
      "C:\\Anaconda\\lib\\site-packages\\sklearn\\feature_selection\\_univariate_selection.py:302: RuntimeWarning: invalid value encountered in true_divide\n",
      "  corr /= X_norms\n"
     ]
    }
   ],
   "source": [
    "y_train = df_train['arr_delay']\n",
    "X_train = df_train.drop('arr_delay', axis=1)\n",
    "y_vali = df_vali['arr_delay']\n",
    "X_vali = df_vali.drop('arr_delay', axis=1)\n",
    "\n",
    "X_train_std = standardize(X_train)\n",
    "X_vali_std = standardize(X_vali)\n",
    "\n",
    "X_train_std, X_vali_std = drop_colinearity(X_train_std, X_vali_std)\n",
    "\n",
    "X_train_std_10, top10_features = select_top10(X_train_std, y_train)\n",
    "X_vali_std_10 = X_vali_std[top10_features]"
   ]
  },
  {
   "cell_type": "code",
   "execution_count": null,
   "id": "ab5013ce-955d-42cb-984c-60d66dad5c15",
   "metadata": {},
   "outputs": [],
   "source": []
  },
  {
   "cell_type": "markdown",
   "id": "f441b4e0-2980-4a99-86ae-95d24df85939",
   "metadata": {
    "tags": []
   },
   "source": [
    "## GridSearch"
   ]
  },
  {
   "cell_type": "code",
   "execution_count": 33,
   "id": "278037c6-e8a6-4f2f-8a26-bdc7d1fa7e03",
   "metadata": {},
   "outputs": [],
   "source": [
    "from sklearn.model_selection import GridSearchCV\n",
    "from sklearn.linear_model import Ridge"
   ]
  },
  {
   "cell_type": "markdown",
   "id": "d6df8445-4795-4daf-826b-0f382d10db01",
   "metadata": {},
   "source": [
    "#### Ridge Regression"
   ]
  },
  {
   "cell_type": "code",
   "execution_count": 34,
   "id": "64eba55e-da01-4a8f-924b-ba0873ba2f0c",
   "metadata": {},
   "outputs": [],
   "source": [
    "params_ridge = {\n",
    "    'alpha': np.concatenate([np.linspace(0, 1, 20)[1:], np.arange(3, 30)])\n",
    "}"
   ]
  },
  {
   "cell_type": "code",
   "execution_count": 35,
   "id": "0cfdb950-0434-424f-93db-317816c7ed1d",
   "metadata": {},
   "outputs": [],
   "source": [
    "ridge_reg = Ridge()\n",
    "grid_search = GridSearchCV(ridge_reg, param_grid=params_ridge, cv=10)"
   ]
  },
  {
   "cell_type": "code",
   "execution_count": 36,
   "id": "23409c05-42a5-4792-bc5f-7f4b7dc6ce6c",
   "metadata": {},
   "outputs": [
    {
     "data": {
      "text/plain": [
       "GridSearchCV(cv=10, estimator=Ridge(),\n",
       "             param_grid={'alpha': array([ 0.05263158,  0.10526316,  0.15789474,  0.21052632,  0.26315789,\n",
       "        0.31578947,  0.36842105,  0.42105263,  0.47368421,  0.52631579,\n",
       "        0.57894737,  0.63157895,  0.68421053,  0.73684211,  0.78947368,\n",
       "        0.84210526,  0.89473684,  0.94736842,  1.        ,  3.        ,\n",
       "        4.        ,  5.        ,  6.        ,  7.        ,  8.        ,\n",
       "        9.        , 10.        , 11.        , 12.        , 13.        ,\n",
       "       14.        , 15.        , 16.        , 17.        , 18.        ,\n",
       "       19.        , 20.        , 21.        , 22.        , 23.        ,\n",
       "       24.        , 25.        , 26.        , 27.        , 28.        ,\n",
       "       29.        ])})"
      ]
     },
     "execution_count": 36,
     "metadata": {},
     "output_type": "execute_result"
    }
   ],
   "source": [
    "grid_search.fit(X_train_std_10, y_train)"
   ]
  },
  {
   "cell_type": "code",
   "execution_count": 37,
   "id": "9c095014-9dff-4a89-b469-9b95984c779b",
   "metadata": {},
   "outputs": [
    {
     "data": {
      "text/plain": [
       "{'alpha': 29.0}"
      ]
     },
     "execution_count": 37,
     "metadata": {},
     "output_type": "execute_result"
    }
   ],
   "source": [
    "grid_search.best_params_"
   ]
  },
  {
   "cell_type": "code",
   "execution_count": 38,
   "id": "dabb672f-f670-4f59-8aa4-9b64b872574c",
   "metadata": {},
   "outputs": [],
   "source": [
    "y_pred = grid_search.predict(X_vali_std_10)"
   ]
  },
  {
   "cell_type": "markdown",
   "id": "128f2a00-793d-420b-9b96-1b15542d4fb5",
   "metadata": {},
   "source": [
    "#### Performace evaluation"
   ]
  },
  {
   "cell_type": "code",
   "execution_count": 39,
   "id": "eca09cad-82b3-4dfe-847e-2fb05d6cb30c",
   "metadata": {},
   "outputs": [],
   "source": [
    "from sklearn.metrics import mean_absolute_error, mean_squared_error, r2_score"
   ]
  },
  {
   "cell_type": "code",
   "execution_count": 40,
   "id": "917573bc-df04-43bc-884f-33ee8a4cccb5",
   "metadata": {},
   "outputs": [
    {
     "name": "stdout",
     "output_type": "stream",
     "text": [
      "MAE: 19.2519117073257\n",
      "RMSE: 28.61121705344181\n",
      "R2 score: 0.03140199577451119\n"
     ]
    }
   ],
   "source": [
    "print(f'MAE: {mean_absolute_error(y_vali, y_pred)}')\n",
    "print(f'RMSE: {mean_squared_error(y_vali, y_pred, squared=False)}')\n",
    "print(f'R2 score: {r2_score(y_vali, y_pred)}')"
   ]
  },
  {
   "cell_type": "markdown",
   "id": "048caaa6-f188-45fa-b7bd-c4927e81317e",
   "metadata": {
    "tags": []
   },
   "source": [
    "## XGBoosting"
   ]
  },
  {
   "cell_type": "code",
   "execution_count": 41,
   "id": "98dbf91e-5540-4020-8f44-a942db40109e",
   "metadata": {},
   "outputs": [
    {
     "name": "stdout",
     "output_type": "stream",
     "text": [
      "Requirement already satisfied: xgboost in c:\\anaconda\\lib\\site-packages (1.5.1)\n",
      "Requirement already satisfied: scipy in c:\\anaconda\\lib\\site-packages (from xgboost) (1.7.1)\n",
      "Requirement already satisfied: numpy in c:\\anaconda\\lib\\site-packages (from xgboost) (1.21.2)\n"
     ]
    }
   ],
   "source": [
    "!pip install xgboost"
   ]
  },
  {
   "cell_type": "code",
   "execution_count": 42,
   "id": "d3cbab57-278e-406e-869d-a61848e2be58",
   "metadata": {},
   "outputs": [],
   "source": [
    "import xgboost as xgb\n",
    "from sklearn.metrics import mean_squared_error"
   ]
  },
  {
   "cell_type": "code",
   "execution_count": 43,
   "id": "93bfe0ca-6dc8-4371-b203-e90f0ca0cf93",
   "metadata": {},
   "outputs": [],
   "source": [
    "xg_reg = xgb.XGBRegressor(objective ='reg:squarederror')"
   ]
  },
  {
   "cell_type": "code",
   "execution_count": 44,
   "id": "ad183767-3b8d-4e1d-b591-08a8f4aeb912",
   "metadata": {},
   "outputs": [],
   "source": [
    "params_xgb = {\n",
    "    'colsample_bytree': [0.3],\n",
    "    'learning_rate': [0.1, 0.01, 0.05],\n",
    "    'max_depth': [5, 10, 15],\n",
    "    'alpha': [5, 10, 15],\n",
    "    'n_estimators': [10, 20]\n",
    "}"
   ]
  },
  {
   "cell_type": "code",
   "execution_count": 45,
   "id": "99b8a102-8a1f-4c9e-bdf3-3498c2078cd2",
   "metadata": {},
   "outputs": [],
   "source": [
    "xgb_gridsearch = GridSearchCV(xg_reg, param_grid=params_xgb, cv=10)"
   ]
  },
  {
   "cell_type": "code",
   "execution_count": 46,
   "id": "ae160bd2-759b-4a3d-88f4-02202bcc54c1",
   "metadata": {},
   "outputs": [
    {
     "data": {
      "text/plain": [
       "GridSearchCV(cv=10,\n",
       "             estimator=XGBRegressor(base_score=None, booster=None,\n",
       "                                    colsample_bylevel=None,\n",
       "                                    colsample_bynode=None,\n",
       "                                    colsample_bytree=None,\n",
       "                                    enable_categorical=False, gamma=None,\n",
       "                                    gpu_id=None, importance_type=None,\n",
       "                                    interaction_constraints=None,\n",
       "                                    learning_rate=None, max_delta_step=None,\n",
       "                                    max_depth=None, min_child_weight=None,\n",
       "                                    missing=nan, monotone_constraints=None,\n",
       "                                    n_estimators=100, n_jobs=None,\n",
       "                                    num_parallel_tree=None, predictor=None,\n",
       "                                    random_state=None, reg_alpha=None,\n",
       "                                    reg_lambda=None, scale_pos_weight=None,\n",
       "                                    subsample=None, tree_method=None,\n",
       "                                    validate_parameters=None, verbosity=None),\n",
       "             param_grid={'alpha': [5, 10, 15], 'colsample_bytree': [0.3],\n",
       "                         'learning_rate': [0.1, 0.01, 0.05],\n",
       "                         'max_depth': [5, 10, 15], 'n_estimators': [10, 20]})"
      ]
     },
     "execution_count": 46,
     "metadata": {},
     "output_type": "execute_result"
    }
   ],
   "source": [
    "xgb_gridsearch.fit(X_train_std_10, y_train)"
   ]
  },
  {
   "cell_type": "code",
   "execution_count": 52,
   "id": "851b42a8-ab76-422d-8d07-b0436bba534c",
   "metadata": {},
   "outputs": [],
   "source": [
    "y_pred_xgb = xgb_gridsearch.predict(X_vali_std_10)"
   ]
  },
  {
   "cell_type": "code",
   "execution_count": 53,
   "id": "d050caee-4b08-4206-84c1-1523df31eafb",
   "metadata": {},
   "outputs": [
    {
     "name": "stdout",
     "output_type": "stream",
     "text": [
      "MAE: 18.534593221310878\n",
      "RMSE: 27.856390366394592\n",
      "R2 score: 0.08183531348576112\n"
     ]
    }
   ],
   "source": [
    "print(f'MAE: {mean_absolute_error(y_vali, y_pred_xgb)}')\n",
    "print(f'RMSE: {mean_squared_error(y_vali, y_pred_xgb, squared=False)}')\n",
    "print(f'R2 score: {r2_score(y_vali, y_pred_xgb)}')"
   ]
  }
 ],
 "metadata": {
  "kernelspec": {
   "display_name": "Python 3",
   "language": "python",
   "name": "python3"
  },
  "language_info": {
   "codemirror_mode": {
    "name": "ipython",
    "version": 3
   },
   "file_extension": ".py",
   "mimetype": "text/x-python",
   "name": "python",
   "nbconvert_exporter": "python",
   "pygments_lexer": "ipython3",
   "version": "3.8.11"
  }
 },
 "nbformat": 4,
 "nbformat_minor": 5
}
