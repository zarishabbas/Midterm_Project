{
 "cells": [
  {
   "cell_type": "code",
   "execution_count": 1,
   "id": "777e4f3f-6531-4b50-bb08-9c78ce9818dc",
   "metadata": {},
   "outputs": [],
   "source": [
    "import pandas as pd\n",
    "import numpy as np"
   ]
  },
  {
   "cell_type": "code",
   "execution_count": 2,
   "id": "b3f8b0c2-0132-4e05-9fb3-99b5eec307e4",
   "metadata": {},
   "outputs": [],
   "source": [
    "path = 'final2/Training/'\n",
    "train = 'train_'\n",
    "vali= 'vali_'\n",
    "test = 'test_'\n",
    "file1 = 'flights_Dec_Jan.csv'\n",
    "file2 = 'flights_Dec.csv' \n",
    "file3 = 'flights_Jan_1w.csv' \n",
    "file4 = 'flights_Jan_2w.csv' \n",
    "file5 = 'flights_Jan.csv' \n",
    "files = [file1,file2,file3,file4,file5]"
   ]
  },
  {
   "cell_type": "code",
   "execution_count": 3,
   "id": "8b5a957e-c314-4353-a962-a0f0f125622f",
   "metadata": {},
   "outputs": [],
   "source": [
    "def merge_data(path, tvt, csv):\n",
    "    '''\n",
    "    Input: \n",
    "        path - local path where files are placed\n",
    "        tvt - 'train_' or 'vali_' or 'test_'\n",
    "        csv - intended file name\n",
    "    Returns\n",
    "        data2 in csv format - combined original flights, birds, and aircraft age data\n",
    "    '''\n",
    "    flights = pd.read_csv(path + tvt + csv)\n",
    "    ac = pd.read_csv('aircraft.csv', index_col=0)\n",
    "    astrike = pd.read_csv('airports_strikes.csv', index_col=0)\n",
    "    flights['fl_date'] = pd.to_datetime(flights['fl_date'])\n",
    "    flights['mkt_carrier_fl_num'] = flights.mkt_carrier_fl_num.astype(int)\n",
    "    data2 = flights.merge(ac, how='left', left_on='tail_num', right_on='registration')\n",
    "    data2.drop(['registration'], axis=1, inplace=True)\n",
    "    if tvt == 'train_' or tvt == 'vali_':\n",
    "        data2.drop(['mkt_unique_carrier', 'branded_code_share', 'mkt_carrier',\n",
    "           'mkt_carrier_fl_num', 'tail_num',\n",
    "           'op_carrier_fl_num', 'origin_airport_id', 'dest_airport_id', 'origin_city_name', 'dest_city_name',\n",
    "           'taxi_out', 'wheels_off', 'wheels_on', 'taxi_in', 'cancellation_code', 'diverted',\n",
    "           'crs_elapsed_time', 'actual_elapsed_time', 'air_time', 'flights', 'carrier_delay',\n",
    "           'nas_delay', 'security_delay', 'first_dep_time', 'total_add_gtime',\n",
    "           'longest_add_gtime', 'no_name'], axis=1, inplace=True)\n",
    "    else:\n",
    "        data2.drop(['mkt_unique_carrier', 'branded_code_share', 'mkt_carrier',\n",
    "           'mkt_carrier_fl_num', 'tail_num',\n",
    "           'op_carrier_fl_num', 'origin_airport_id', 'dest_airport_id', 'origin_city_name', 'dest_city_name',\n",
    "           'crs_elapsed_time', 'flights'], axis=1, inplace=True)\n",
    "    data3 = data2.merge(astrike, how='left', left_on='origin', right_on='IATA')\n",
    "    data3.drop(['IATA'], axis=1, inplace=True)\n",
    "    data4 = pd.get_dummies(data3, columns=[\"region\"], drop_first=True)\n",
    "    data4.to_csv(f'{path}merged_{csv}',index=False)"
   ]
  },
  {
   "cell_type": "code",
   "execution_count": 4,
   "id": "f3aa7c09-2274-4d0f-bc77-bde5f946d88b",
   "metadata": {},
   "outputs": [],
   "source": [
    "for i in files:\n",
    "    merge_data(path, train, i)"
   ]
  },
  {
   "cell_type": "code",
   "execution_count": 6,
   "id": "cf1e7eda-dade-4b2b-8831-06493bc6e6a2",
   "metadata": {},
   "outputs": [],
   "source": [
    "path = 'final2/Validation/'\n",
    "for i in files:\n",
    "    merge_data(path, vali, i)"
   ]
  },
  {
   "cell_type": "code",
   "execution_count": 8,
   "id": "6fd08d6f-147b-4132-b8bb-2f1bf01be1c5",
   "metadata": {},
   "outputs": [],
   "source": [
    "path = 'final2/Testing/'\n",
    "merge_data(path, test, 'flights_test.csv')"
   ]
  },
  {
   "cell_type": "code",
   "execution_count": null,
   "id": "56933157-e5a0-443d-a632-0779c53a40ab",
   "metadata": {},
   "outputs": [],
   "source": []
  }
 ],
 "metadata": {
  "kernelspec": {
   "display_name": "Python 3",
   "language": "python",
   "name": "python3"
  },
  "language_info": {
   "codemirror_mode": {
    "name": "ipython",
    "version": 3
   },
   "file_extension": ".py",
   "mimetype": "text/x-python",
   "name": "python",
   "nbconvert_exporter": "python",
   "pygments_lexer": "ipython3",
   "version": "3.8.11"
  }
 },
 "nbformat": 4,
 "nbformat_minor": 5
}
