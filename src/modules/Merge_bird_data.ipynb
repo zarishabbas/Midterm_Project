{
 "cells": [
  {
   "cell_type": "code",
   "execution_count": 1,
   "id": "ab84da44-0f93-432c-9ae3-c40683f46980",
   "metadata": {},
   "outputs": [],
   "source": [
    "import pandas as pd\n",
    "import numpy as np"
   ]
  },
  {
   "cell_type": "code",
   "execution_count": null,
   "id": "4b177acd-0220-44eb-a3a2-cf8d33570b36",
   "metadata": {},
   "outputs": [],
   "source": [
    "birds = pd.read_csv('birdstrike3.csv', index_col=0)\n",
    "flights = pd.read_csv('train_flights_Jan_1w.csv')"
   ]
  },
  {
   "cell_type": "code",
   "execution_count": 9,
   "id": "e1032c14-6fe5-475c-9f9b-92aaa7956566",
   "metadata": {},
   "outputs": [],
   "source": [
    "def merge_data(path, tvt, csv):\n",
    "    flights = pd.read_csv(path + tvt + csv)\n",
    "    birds = pd.read_csv('birdstrike3.csv', index_col=0)\n",
    "    birds['INCIDENT_DATE '] = pd.to_datetime(birds['INCIDENT_DATE '])\n",
    "    flights['fl_date'] = pd.to_datetime(flights['fl_date'])\n",
    "    flights['mkt_carrier_fl_num'] = flights.mkt_carrier_fl_num.astype(int)\n",
    "    birds['FLT'] = birds['FLT'].str.strip().replace(r'[^\\d]+', 0, regex=True)\n",
    "    data = pd.merge(flights, birds,  how='left', left_on=['mkt_carrier_fl_num','fl_date'], right_on = ['FLT','INCIDENT_DATE '])\n",
    "    data.to_csv(f'{path}bird_{csv}',index=False)"
   ]
  },
  {
   "cell_type": "code",
   "execution_count": 4,
   "id": "3658f19e-f15f-4ac3-b118-5603eb282748",
   "metadata": {},
   "outputs": [],
   "source": [
    "path = 'Datasets/Training/'\n",
    "train = 'train_'\n",
    "test = 'test_'\n",
    "file1 = 'flights_Dec_Jan.csv'\n",
    "file2 = 'flights_Dec.csv' \n",
    "file3 = 'flights_Jan_1w.csv' \n",
    "file4 = 'flights_Jan_2w.csv' \n",
    "file5 = 'flights_Jan.csv' \n",
    "files = [file1,file2,file3,file4,file5]"
   ]
  },
  {
   "cell_type": "code",
   "execution_count": 10,
   "id": "3d6f9fe9-de8e-413c-ae37-a3fcdb8a4a5a",
   "metadata": {},
   "outputs": [],
   "source": [
    "for i in files:\n",
    "    merge_data(path, train, i)"
   ]
  },
  {
   "cell_type": "code",
   "execution_count": 12,
   "id": "83fda13b-826f-438c-b0ba-61b99d80334d",
   "metadata": {},
   "outputs": [],
   "source": [
    "path = 'Datasets/Validation/'\n",
    "for i in files:\n",
    "    merge_data(path, test, i)"
   ]
  },
  {
   "cell_type": "code",
   "execution_count": null,
   "id": "467b60ef-5bf9-44e8-b197-0a74c483ebbb",
   "metadata": {},
   "outputs": [],
   "source": []
  }
 ],
 "metadata": {
  "kernelspec": {
   "display_name": "Python 3 (ipykernel)",
   "language": "python",
   "name": "python3"
  },
  "language_info": {
   "codemirror_mode": {
    "name": "ipython",
    "version": 3
   },
   "file_extension": ".py",
   "mimetype": "text/x-python",
   "name": "python",
   "nbconvert_exporter": "python",
   "pygments_lexer": "ipython3",
   "version": "3.8.12"
  }
 },
 "nbformat": 4,
 "nbformat_minor": 5
}
