{
 "cells": [
  {
   "cell_type": "markdown",
   "id": "35cef150-df9d-41da-bc4e-16915a1ca256",
   "metadata": {},
   "source": [
    "# Reading Aircraft DB from Open Sky"
   ]
  },
  {
   "cell_type": "code",
   "execution_count": 1,
   "id": "39f8537f-21fe-4451-a5a8-39bbcfda1c16",
   "metadata": {},
   "outputs": [],
   "source": [
    "import pandas as pd"
   ]
  },
  {
   "cell_type": "code",
   "execution_count": 2,
   "id": "6aded187-7fcd-4fc1-8f37-3198b15da9cd",
   "metadata": {},
   "outputs": [
    {
     "name": "stderr",
     "output_type": "stream",
     "text": [
      "/home/mcoffey/anaconda3/envs/lhl_env/lib/python3.8/site-packages/IPython/core/interactiveshell.py:3172: DtypeWarning: Columns (14) have mixed types.Specify dtype option on import or set low_memory=False.\n",
      "  has_raised = await self.run_ast_nodes(code_ast.body, cell_name,\n"
     ]
    }
   ],
   "source": [
    "# read CSV to DataFrame\n",
    "acdb = pd.read_csv('aircraftDatabase.csv')"
   ]
  },
  {
   "cell_type": "code",
   "execution_count": 3,
   "id": "56f84fd5-1b86-48bb-99d1-5c67168cef95",
   "metadata": {},
   "outputs": [],
   "source": [
    "# read list of target tail numbers from txt file\n",
    "tailno_list = open(\"tailno.txt\").read().splitlines()"
   ]
  },
  {
   "cell_type": "code",
   "execution_count": 4,
   "id": "57489ea5-2a10-4165-b35a-132448b18364",
   "metadata": {},
   "outputs": [],
   "source": [
    "# instantiate collector dataframe\n",
    "aircraft = pd.DataFrame(columns=acdb.columns)"
   ]
  },
  {
   "cell_type": "code",
   "execution_count": 5,
   "id": "29a738d3-39b3-4659-a6f4-3f619ed0ed6e",
   "metadata": {},
   "outputs": [],
   "source": [
    "# iterate through target tail numbers, adding valid rows to collector dataframe\n",
    "for tailno in tailno_list:\n",
    "    aircraft = pd.concat([aircraft, acdb[acdb.registration == tailno]], ignore_index=True)"
   ]
  },
  {
   "cell_type": "code",
   "execution_count": 6,
   "id": "c9982303-e57f-49c5-8a3c-2bb0b5959bae",
   "metadata": {},
   "outputs": [
    {
     "data": {
      "text/html": [
       "<div>\n",
       "<style scoped>\n",
       "    .dataframe tbody tr th:only-of-type {\n",
       "        vertical-align: middle;\n",
       "    }\n",
       "\n",
       "    .dataframe tbody tr th {\n",
       "        vertical-align: top;\n",
       "    }\n",
       "\n",
       "    .dataframe thead th {\n",
       "        text-align: right;\n",
       "    }\n",
       "</style>\n",
       "<table border=\"1\" class=\"dataframe\">\n",
       "  <thead>\n",
       "    <tr style=\"text-align: right;\">\n",
       "      <th></th>\n",
       "      <th>Total</th>\n",
       "      <th>Percent</th>\n",
       "    </tr>\n",
       "  </thead>\n",
       "  <tbody>\n",
       "    <tr>\n",
       "      <th>status</th>\n",
       "      <td>6181</td>\n",
       "      <td>100.000000</td>\n",
       "    </tr>\n",
       "    <tr>\n",
       "      <th>notes</th>\n",
       "      <td>6181</td>\n",
       "      <td>100.000000</td>\n",
       "    </tr>\n",
       "    <tr>\n",
       "      <th>testreg</th>\n",
       "      <td>6181</td>\n",
       "      <td>100.000000</td>\n",
       "    </tr>\n",
       "    <tr>\n",
       "      <th>seatconfiguration</th>\n",
       "      <td>6181</td>\n",
       "      <td>100.000000</td>\n",
       "    </tr>\n",
       "    <tr>\n",
       "      <th>linenumber</th>\n",
       "      <td>6175</td>\n",
       "      <td>99.902928</td>\n",
       "    </tr>\n",
       "    <tr>\n",
       "      <th>registered</th>\n",
       "      <td>6174</td>\n",
       "      <td>99.886750</td>\n",
       "    </tr>\n",
       "    <tr>\n",
       "      <th>firstflightdate</th>\n",
       "      <td>6154</td>\n",
       "      <td>99.563177</td>\n",
       "    </tr>\n",
       "    <tr>\n",
       "      <th>operatoriata</th>\n",
       "      <td>4907</td>\n",
       "      <td>79.388448</td>\n",
       "    </tr>\n",
       "    <tr>\n",
       "      <th>operator</th>\n",
       "      <td>4829</td>\n",
       "      <td>78.126517</td>\n",
       "    </tr>\n",
       "    <tr>\n",
       "      <th>categoryDescription</th>\n",
       "      <td>1976</td>\n",
       "      <td>31.968937</td>\n",
       "    </tr>\n",
       "    <tr>\n",
       "      <th>built</th>\n",
       "      <td>791</td>\n",
       "      <td>12.797282</td>\n",
       "    </tr>\n",
       "    <tr>\n",
       "      <th>engines</th>\n",
       "      <td>767</td>\n",
       "      <td>12.408995</td>\n",
       "    </tr>\n",
       "    <tr>\n",
       "      <th>reguntil</th>\n",
       "      <td>672</td>\n",
       "      <td>10.872027</td>\n",
       "    </tr>\n",
       "    <tr>\n",
       "      <th>icaoaircrafttype</th>\n",
       "      <td>623</td>\n",
       "      <td>10.079275</td>\n",
       "    </tr>\n",
       "    <tr>\n",
       "      <th>manufacturericao</th>\n",
       "      <td>621</td>\n",
       "      <td>10.046918</td>\n",
       "    </tr>\n",
       "    <tr>\n",
       "      <th>typecode</th>\n",
       "      <td>604</td>\n",
       "      <td>9.771882</td>\n",
       "    </tr>\n",
       "    <tr>\n",
       "      <th>operatoricao</th>\n",
       "      <td>216</td>\n",
       "      <td>3.494580</td>\n",
       "    </tr>\n",
       "    <tr>\n",
       "      <th>operatorcallsign</th>\n",
       "      <td>216</td>\n",
       "      <td>3.494580</td>\n",
       "    </tr>\n",
       "    <tr>\n",
       "      <th>serialnumber</th>\n",
       "      <td>9</td>\n",
       "      <td>0.145608</td>\n",
       "    </tr>\n",
       "    <tr>\n",
       "      <th>manufacturername</th>\n",
       "      <td>8</td>\n",
       "      <td>0.129429</td>\n",
       "    </tr>\n",
       "  </tbody>\n",
       "</table>\n",
       "</div>"
      ],
      "text/plain": [
       "                     Total     Percent\n",
       "status                6181  100.000000\n",
       "notes                 6181  100.000000\n",
       "testreg               6181  100.000000\n",
       "seatconfiguration     6181  100.000000\n",
       "linenumber            6175   99.902928\n",
       "registered            6174   99.886750\n",
       "firstflightdate       6154   99.563177\n",
       "operatoriata          4907   79.388448\n",
       "operator              4829   78.126517\n",
       "categoryDescription   1976   31.968937\n",
       "built                  791   12.797282\n",
       "engines                767   12.408995\n",
       "reguntil               672   10.872027\n",
       "icaoaircrafttype       623   10.079275\n",
       "manufacturericao       621   10.046918\n",
       "typecode               604    9.771882\n",
       "operatoricao           216    3.494580\n",
       "operatorcallsign       216    3.494580\n",
       "serialnumber             9    0.145608\n",
       "manufacturername         8    0.129429"
      ]
     },
     "execution_count": 6,
     "metadata": {},
     "output_type": "execute_result"
    }
   ],
   "source": [
    "# missing data\n",
    "total = aircraft.isnull().sum().sort_values(ascending=False)\n",
    "percent = (aircraft.isnull().sum()/aircraft.isnull().count() * 100).sort_values(ascending=False)\n",
    "missing_data = pd.concat([total, percent], axis=1, keys=['Total', 'Percent'])\n",
    "missing_data.head(20)"
   ]
  },
  {
   "cell_type": "code",
   "execution_count": 7,
   "id": "56f27886-bfe5-430e-a6de-c53b890fda9e",
   "metadata": {},
   "outputs": [],
   "source": [
    "# drop unwanted features\n",
    "aircraft.drop(['status', 'notes', 'testreg', 'seatconfiguration', 'linenumber', 'registered', 'firstflightdate', 'operatoriata', 'operator', 'categoryDescription', 'engines', 'reguntil', 'icaoaircrafttype', 'manufacturericao', 'operatoricao', 'operatorcallsign', 'serialnumber', 'model', 'typecode', 'owner', 'modes', 'adsb', 'acars'], axis=1, inplace=True)"
   ]
  },
  {
   "cell_type": "code",
   "execution_count": 8,
   "id": "ac2d41a8-e5d7-4c38-bd02-a48873f78d4d",
   "metadata": {},
   "outputs": [
    {
     "data": {
      "text/html": [
       "<div>\n",
       "<style scoped>\n",
       "    .dataframe tbody tr th:only-of-type {\n",
       "        vertical-align: middle;\n",
       "    }\n",
       "\n",
       "    .dataframe tbody tr th {\n",
       "        vertical-align: top;\n",
       "    }\n",
       "\n",
       "    .dataframe thead th {\n",
       "        text-align: right;\n",
       "    }\n",
       "</style>\n",
       "<table border=\"1\" class=\"dataframe\">\n",
       "  <thead>\n",
       "    <tr style=\"text-align: right;\">\n",
       "      <th></th>\n",
       "      <th>icao24</th>\n",
       "      <th>registration</th>\n",
       "      <th>manufacturername</th>\n",
       "      <th>built</th>\n",
       "    </tr>\n",
       "  </thead>\n",
       "  <tbody>\n",
       "    <tr>\n",
       "      <th>0</th>\n",
       "      <td>a00b91</td>\n",
       "      <td>N10156</td>\n",
       "      <td>Embraer</td>\n",
       "      <td>2004-01-01</td>\n",
       "    </tr>\n",
       "    <tr>\n",
       "      <th>1</th>\n",
       "      <td>a008c9</td>\n",
       "      <td>N101DU</td>\n",
       "      <td>C Series Aircraft Ltd Ptnrsp</td>\n",
       "      <td>2018-01-01</td>\n",
       "    </tr>\n",
       "    <tr>\n",
       "      <th>2</th>\n",
       "      <td>a00929</td>\n",
       "      <td>N101HQ</td>\n",
       "      <td>Embraer-empresa Brasileira De</td>\n",
       "      <td>2007-01-01</td>\n",
       "    </tr>\n",
       "    <tr>\n",
       "      <th>3</th>\n",
       "      <td>a009a4</td>\n",
       "      <td>N101NN</td>\n",
       "      <td>Airbus Industrie</td>\n",
       "      <td>2013-01-01</td>\n",
       "    </tr>\n",
       "    <tr>\n",
       "      <th>4</th>\n",
       "      <td>a00c80</td>\n",
       "      <td>N102DU</td>\n",
       "      <td>C Series Aircraft Ltd Ptnrsp</td>\n",
       "      <td>NaN</td>\n",
       "    </tr>\n",
       "  </tbody>\n",
       "</table>\n",
       "</div>"
      ],
      "text/plain": [
       "   icao24 registration               manufacturername       built\n",
       "0  a00b91       N10156                        Embraer  2004-01-01\n",
       "1  a008c9       N101DU   C Series Aircraft Ltd Ptnrsp  2018-01-01\n",
       "2  a00929       N101HQ  Embraer-empresa Brasileira De  2007-01-01\n",
       "3  a009a4       N101NN               Airbus Industrie  2013-01-01\n",
       "4  a00c80       N102DU   C Series Aircraft Ltd Ptnrsp         NaN"
      ]
     },
     "execution_count": 8,
     "metadata": {},
     "output_type": "execute_result"
    }
   ],
   "source": [
    "aircraft.head()"
   ]
  },
  {
   "cell_type": "code",
   "execution_count": 9,
   "id": "b2731cda-6ae1-4ec3-98b4-db8e78dba1f3",
   "metadata": {},
   "outputs": [
    {
     "data": {
      "text/plain": [
       "(6181, 4)"
      ]
     },
     "execution_count": 9,
     "metadata": {},
     "output_type": "execute_result"
    }
   ],
   "source": [
    "aircraft.shape"
   ]
  },
  {
   "cell_type": "code",
   "execution_count": 10,
   "id": "dbbf69d7-cdbb-49ea-8315-1c236890a414",
   "metadata": {},
   "outputs": [],
   "source": [
    "aircraft.to_csv('aircraft.csv')"
   ]
  },
  {
   "cell_type": "code",
   "execution_count": null,
   "id": "85ef1014-ad24-4e9c-bdb8-e1b357425d45",
   "metadata": {},
   "outputs": [],
   "source": []
  }
 ],
 "metadata": {
  "kernelspec": {
   "display_name": "lhl_env",
   "language": "python",
   "name": "lhl_env"
  },
  "language_info": {
   "codemirror_mode": {
    "name": "ipython",
    "version": 3
   },
   "file_extension": ".py",
   "mimetype": "text/x-python",
   "name": "python",
   "nbconvert_exporter": "python",
   "pygments_lexer": "ipython3",
   "version": "3.8.2"
  }
 },
 "nbformat": 4,
 "nbformat_minor": 5
}
