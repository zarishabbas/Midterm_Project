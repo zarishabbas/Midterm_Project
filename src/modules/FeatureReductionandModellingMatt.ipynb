{
 "cells": [
  {
   "cell_type": "markdown",
   "id": "6c4fdf03-c582-4ac5-a678-29b6c59442f8",
   "metadata": {},
   "source": [
    "# Data Prep and Model Training"
   ]
  },
  {
   "cell_type": "markdown",
   "id": "ce13afd1-c6b4-4a39-a86f-5f4ed0c414cf",
   "metadata": {},
   "source": [
    "Polynomial Regression and Random Forest algos"
   ]
  },
  {
   "cell_type": "markdown",
   "id": "281f2c61-f4f1-4d21-9dce-5271a19a2d10",
   "metadata": {},
   "source": [
    "## Import and Prepare Data"
   ]
  },
  {
   "cell_type": "code",
   "execution_count": 1,
   "id": "31e63139-4308-4e47-82e9-1bd2d65d64bb",
   "metadata": {},
   "outputs": [],
   "source": [
    "import pandas as pd\n",
    "import numpy as np"
   ]
  },
  {
   "cell_type": "code",
   "execution_count": 2,
   "id": "42ccd0d2-58fd-4e40-a5f5-61525ce71a20",
   "metadata": {},
   "outputs": [],
   "source": [
    "# import training data\n",
    "\n",
    "df_train = pd.read_csv('Training/train_engineered_cleaned_merged_flights_Jan_1w.csv')"
   ]
  },
  {
   "cell_type": "code",
   "execution_count": 3,
   "id": "9545d061-5808-45fd-81cf-b7d9f89d3f32",
   "metadata": {},
   "outputs": [],
   "source": [
    "# import validation data\n",
    "\n",
    "df_val = pd.read_csv('Validation/vali_engineered_cleaned_merged_flights_Jan_1w.csv')"
   ]
  },
  {
   "cell_type": "code",
   "execution_count": 4,
   "id": "d2ffadb8-9fc3-477b-872a-866654fb523a",
   "metadata": {},
   "outputs": [
    {
     "data": {
      "text/plain": [
       "(224631, 92)"
      ]
     },
     "execution_count": 4,
     "metadata": {},
     "output_type": "execute_result"
    }
   ],
   "source": [
    "df_train.shape"
   ]
  },
  {
   "cell_type": "code",
   "execution_count": 5,
   "id": "fb4f8bd3-d90f-4c19-aae6-31d71e5e2904",
   "metadata": {},
   "outputs": [
    {
     "data": {
      "text/plain": [
       "(96233, 77)"
      ]
     },
     "execution_count": 5,
     "metadata": {},
     "output_type": "execute_result"
    }
   ],
   "source": [
    "df_val.shape"
   ]
  },
  {
   "cell_type": "code",
   "execution_count": 6,
   "id": "7bf1bff4-c4e2-4184-b46d-933dfd7d18f0",
   "metadata": {},
   "outputs": [],
   "source": [
    "# drop extra columns in validation that don't appear in train\n",
    "extra = df_train.columns.difference(df_val.columns).tolist()\n",
    "df_train.drop(extra, axis=1, inplace=True)"
   ]
  },
  {
   "cell_type": "code",
   "execution_count": 7,
   "id": "c1a36491-9a1d-4beb-b679-b574169cb659",
   "metadata": {},
   "outputs": [],
   "source": [
    "# drop extra columns in validation that don't appear in train\n",
    "extra = df_train.columns.difference(df_val.columns).tolist()\n",
    "df_train.drop(extra, axis=1, inplace=True)"
   ]
  },
  {
   "cell_type": "code",
   "execution_count": 8,
   "id": "03574ac2-94e9-4513-a6f0-86bf22b02f5f",
   "metadata": {
    "tags": []
   },
   "outputs": [
    {
     "data": {
      "text/html": [
       "<div>\n",
       "<style scoped>\n",
       "    .dataframe tbody tr th:only-of-type {\n",
       "        vertical-align: middle;\n",
       "    }\n",
       "\n",
       "    .dataframe tbody tr th {\n",
       "        vertical-align: top;\n",
       "    }\n",
       "\n",
       "    .dataframe thead th {\n",
       "        text-align: right;\n",
       "    }\n",
       "</style>\n",
       "<table border=\"1\" class=\"dataframe\">\n",
       "  <thead>\n",
       "    <tr style=\"text-align: right;\">\n",
       "      <th></th>\n",
       "      <th>dep_delay</th>\n",
       "      <th>arr_delay</th>\n",
       "      <th>distance</th>\n",
       "      <th>numflights</th>\n",
       "      <th>numstrikes</th>\n",
       "      <th>strikeprob</th>\n",
       "      <th>percentflights</th>\n",
       "      <th>region_N</th>\n",
       "      <th>region_O</th>\n",
       "      <th>region_S</th>\n",
       "      <th>...</th>\n",
       "      <th>DelayA_carrier</th>\n",
       "      <th>DelayA_origin</th>\n",
       "      <th>DelayA_dest</th>\n",
       "      <th>DelayA_hourly</th>\n",
       "      <th>num_flights_hourly</th>\n",
       "      <th>DelayD_hourly</th>\n",
       "      <th>DelayA_origin_hourly</th>\n",
       "      <th>DelayA_carrier_hourly</th>\n",
       "      <th>DelayD_origin_hourly</th>\n",
       "      <th>DelayD_carrier_hourly</th>\n",
       "    </tr>\n",
       "  </thead>\n",
       "  <tbody>\n",
       "    <tr>\n",
       "      <th>count</th>\n",
       "      <td>224631.000000</td>\n",
       "      <td>224631.000000</td>\n",
       "      <td>224631.000000</td>\n",
       "      <td>224631.000000</td>\n",
       "      <td>224631.000000</td>\n",
       "      <td>224631.000000</td>\n",
       "      <td>2.246310e+05</td>\n",
       "      <td>224631.00000</td>\n",
       "      <td>224631.000000</td>\n",
       "      <td>224631.000000</td>\n",
       "      <td>...</td>\n",
       "      <td>224631.000000</td>\n",
       "      <td>224631.000000</td>\n",
       "      <td>224631.000000</td>\n",
       "      <td>224631.000000</td>\n",
       "      <td>224631.000000</td>\n",
       "      <td>224631.000000</td>\n",
       "      <td>224631.000000</td>\n",
       "      <td>224631.000000</td>\n",
       "      <td>224631.000000</td>\n",
       "      <td>224631.000000</td>\n",
       "    </tr>\n",
       "    <tr>\n",
       "      <th>mean</th>\n",
       "      <td>12.528947</td>\n",
       "      <td>6.406938</td>\n",
       "      <td>783.442161</td>\n",
       "      <td>288357.645196</td>\n",
       "      <td>691.453228</td>\n",
       "      <td>0.015713</td>\n",
       "      <td>1.803150e-02</td>\n",
       "      <td>0.16552</td>\n",
       "      <td>0.026154</td>\n",
       "      <td>0.349088</td>\n",
       "      <td>...</td>\n",
       "      <td>6.406938</td>\n",
       "      <td>6.406938</td>\n",
       "      <td>6.406938</td>\n",
       "      <td>6.406938</td>\n",
       "      <td>12779.023612</td>\n",
       "      <td>12.528947</td>\n",
       "      <td>6.406938</td>\n",
       "      <td>6.406938</td>\n",
       "      <td>12.528947</td>\n",
       "      <td>12.528947</td>\n",
       "    </tr>\n",
       "    <tr>\n",
       "      <th>std</th>\n",
       "      <td>50.643821</td>\n",
       "      <td>53.735954</td>\n",
       "      <td>592.777500</td>\n",
       "      <td>233247.448155</td>\n",
       "      <td>821.962710</td>\n",
       "      <td>0.018678</td>\n",
       "      <td>1.458536e-02</td>\n",
       "      <td>0.37165</td>\n",
       "      <td>0.159593</td>\n",
       "      <td>0.476683</td>\n",
       "      <td>...</td>\n",
       "      <td>6.955052</td>\n",
       "      <td>6.351581</td>\n",
       "      <td>6.325939</td>\n",
       "      <td>3.656893</td>\n",
       "      <td>2581.570719</td>\n",
       "      <td>3.805771</td>\n",
       "      <td>11.400573</td>\n",
       "      <td>8.728639</td>\n",
       "      <td>10.772709</td>\n",
       "      <td>7.983616</td>\n",
       "    </tr>\n",
       "    <tr>\n",
       "      <th>min</th>\n",
       "      <td>-47.000000</td>\n",
       "      <td>-820.000000</td>\n",
       "      <td>31.000000</td>\n",
       "      <td>2.000000</td>\n",
       "      <td>0.000000</td>\n",
       "      <td>0.000000</td>\n",
       "      <td>1.250634e-07</td>\n",
       "      <td>0.00000</td>\n",
       "      <td>0.000000</td>\n",
       "      <td>0.000000</td>\n",
       "      <td>...</td>\n",
       "      <td>-4.758065</td>\n",
       "      <td>-18.555556</td>\n",
       "      <td>-73.111111</td>\n",
       "      <td>-0.837838</td>\n",
       "      <td>63.000000</td>\n",
       "      <td>4.657671</td>\n",
       "      <td>-51.000000</td>\n",
       "      <td>-49.000000</td>\n",
       "      <td>-44.000000</td>\n",
       "      <td>-18.333333</td>\n",
       "    </tr>\n",
       "    <tr>\n",
       "      <th>25%</th>\n",
       "      <td>-5.000000</td>\n",
       "      <td>-15.000000</td>\n",
       "      <td>347.000000</td>\n",
       "      <td>98562.000000</td>\n",
       "      <td>133.000000</td>\n",
       "      <td>0.003022</td>\n",
       "      <td>6.163251e-03</td>\n",
       "      <td>0.00000</td>\n",
       "      <td>0.000000</td>\n",
       "      <td>0.000000</td>\n",
       "      <td>...</td>\n",
       "      <td>2.892195</td>\n",
       "      <td>3.295014</td>\n",
       "      <td>2.474310</td>\n",
       "      <td>2.410936</td>\n",
       "      <td>12601.000000</td>\n",
       "      <td>9.060413</td>\n",
       "      <td>-0.049180</td>\n",
       "      <td>0.106383</td>\n",
       "      <td>6.300730</td>\n",
       "      <td>7.162420</td>\n",
       "    </tr>\n",
       "    <tr>\n",
       "      <th>50%</th>\n",
       "      <td>-1.000000</td>\n",
       "      <td>-5.000000</td>\n",
       "      <td>621.000000</td>\n",
       "      <td>257214.000000</td>\n",
       "      <td>410.000000</td>\n",
       "      <td>0.009317</td>\n",
       "      <td>1.608403e-02</td>\n",
       "      <td>0.00000</td>\n",
       "      <td>0.000000</td>\n",
       "      <td>0.000000</td>\n",
       "      <td>...</td>\n",
       "      <td>4.199796</td>\n",
       "      <td>4.950325</td>\n",
       "      <td>5.867170</td>\n",
       "      <td>6.940113</td>\n",
       "      <td>13855.000000</td>\n",
       "      <td>12.620264</td>\n",
       "      <td>4.922727</td>\n",
       "      <td>6.330658</td>\n",
       "      <td>10.874488</td>\n",
       "      <td>11.860668</td>\n",
       "    </tr>\n",
       "    <tr>\n",
       "      <th>75%</th>\n",
       "      <td>10.000000</td>\n",
       "      <td>10.000000</td>\n",
       "      <td>1023.000000</td>\n",
       "      <td>379367.000000</td>\n",
       "      <td>865.000000</td>\n",
       "      <td>0.019656</td>\n",
       "      <td>2.372247e-02</td>\n",
       "      <td>0.00000</td>\n",
       "      <td>0.000000</td>\n",
       "      <td>1.000000</td>\n",
       "      <td>...</td>\n",
       "      <td>7.170818</td>\n",
       "      <td>10.430909</td>\n",
       "      <td>8.244493</td>\n",
       "      <td>9.543925</td>\n",
       "      <td>14022.000000</td>\n",
       "      <td>16.007903</td>\n",
       "      <td>11.701439</td>\n",
       "      <td>10.125438</td>\n",
       "      <td>17.063401</td>\n",
       "      <td>16.536419</td>\n",
       "    </tr>\n",
       "    <tr>\n",
       "      <th>max</th>\n",
       "      <td>1752.000000</td>\n",
       "      <td>1778.000000</td>\n",
       "      <td>4983.000000</td>\n",
       "      <td>790253.000000</td>\n",
       "      <td>3799.000000</td>\n",
       "      <td>0.086329</td>\n",
       "      <td>4.941588e-02</td>\n",
       "      <td>1.00000</td>\n",
       "      <td>1.000000</td>\n",
       "      <td>1.000000</td>\n",
       "      <td>...</td>\n",
       "      <td>28.619673</td>\n",
       "      <td>151.363636</td>\n",
       "      <td>113.045455</td>\n",
       "      <td>41.925926</td>\n",
       "      <td>14507.000000</td>\n",
       "      <td>50.197531</td>\n",
       "      <td>536.333333</td>\n",
       "      <td>109.083333</td>\n",
       "      <td>546.666667</td>\n",
       "      <td>112.333333</td>\n",
       "    </tr>\n",
       "  </tbody>\n",
       "</table>\n",
       "<p>8 rows × 71 columns</p>\n",
       "</div>"
      ],
      "text/plain": [
       "           dep_delay      arr_delay       distance     numflights  \\\n",
       "count  224631.000000  224631.000000  224631.000000  224631.000000   \n",
       "mean       12.528947       6.406938     783.442161  288357.645196   \n",
       "std        50.643821      53.735954     592.777500  233247.448155   \n",
       "min       -47.000000    -820.000000      31.000000       2.000000   \n",
       "25%        -5.000000     -15.000000     347.000000   98562.000000   \n",
       "50%        -1.000000      -5.000000     621.000000  257214.000000   \n",
       "75%        10.000000      10.000000    1023.000000  379367.000000   \n",
       "max      1752.000000    1778.000000    4983.000000  790253.000000   \n",
       "\n",
       "          numstrikes     strikeprob  percentflights      region_N  \\\n",
       "count  224631.000000  224631.000000    2.246310e+05  224631.00000   \n",
       "mean      691.453228       0.015713    1.803150e-02       0.16552   \n",
       "std       821.962710       0.018678    1.458536e-02       0.37165   \n",
       "min         0.000000       0.000000    1.250634e-07       0.00000   \n",
       "25%       133.000000       0.003022    6.163251e-03       0.00000   \n",
       "50%       410.000000       0.009317    1.608403e-02       0.00000   \n",
       "75%       865.000000       0.019656    2.372247e-02       0.00000   \n",
       "max      3799.000000       0.086329    4.941588e-02       1.00000   \n",
       "\n",
       "            region_O       region_S  ...  DelayA_carrier  DelayA_origin  \\\n",
       "count  224631.000000  224631.000000  ...   224631.000000  224631.000000   \n",
       "mean        0.026154       0.349088  ...        6.406938       6.406938   \n",
       "std         0.159593       0.476683  ...        6.955052       6.351581   \n",
       "min         0.000000       0.000000  ...       -4.758065     -18.555556   \n",
       "25%         0.000000       0.000000  ...        2.892195       3.295014   \n",
       "50%         0.000000       0.000000  ...        4.199796       4.950325   \n",
       "75%         0.000000       1.000000  ...        7.170818      10.430909   \n",
       "max         1.000000       1.000000  ...       28.619673     151.363636   \n",
       "\n",
       "         DelayA_dest  DelayA_hourly  num_flights_hourly  DelayD_hourly  \\\n",
       "count  224631.000000  224631.000000       224631.000000  224631.000000   \n",
       "mean        6.406938       6.406938        12779.023612      12.528947   \n",
       "std         6.325939       3.656893         2581.570719       3.805771   \n",
       "min       -73.111111      -0.837838           63.000000       4.657671   \n",
       "25%         2.474310       2.410936        12601.000000       9.060413   \n",
       "50%         5.867170       6.940113        13855.000000      12.620264   \n",
       "75%         8.244493       9.543925        14022.000000      16.007903   \n",
       "max       113.045455      41.925926        14507.000000      50.197531   \n",
       "\n",
       "       DelayA_origin_hourly  DelayA_carrier_hourly  DelayD_origin_hourly  \\\n",
       "count         224631.000000          224631.000000         224631.000000   \n",
       "mean               6.406938               6.406938             12.528947   \n",
       "std               11.400573               8.728639             10.772709   \n",
       "min              -51.000000             -49.000000            -44.000000   \n",
       "25%               -0.049180               0.106383              6.300730   \n",
       "50%                4.922727               6.330658             10.874488   \n",
       "75%               11.701439              10.125438             17.063401   \n",
       "max              536.333333             109.083333            546.666667   \n",
       "\n",
       "       DelayD_carrier_hourly  \n",
       "count          224631.000000  \n",
       "mean               12.528947  \n",
       "std                 7.983616  \n",
       "min               -18.333333  \n",
       "25%                 7.162420  \n",
       "50%                11.860668  \n",
       "75%                16.536419  \n",
       "max               112.333333  \n",
       "\n",
       "[8 rows x 71 columns]"
      ]
     },
     "execution_count": 8,
     "metadata": {},
     "output_type": "execute_result"
    }
   ],
   "source": [
    "df_train.describe()"
   ]
  },
  {
   "cell_type": "code",
   "execution_count": 9,
   "id": "50923b1d-139d-4076-95cf-26ff99aa14e8",
   "metadata": {
    "tags": []
   },
   "outputs": [
    {
     "data": {
      "text/html": [
       "<div>\n",
       "<style scoped>\n",
       "    .dataframe tbody tr th:only-of-type {\n",
       "        vertical-align: middle;\n",
       "    }\n",
       "\n",
       "    .dataframe tbody tr th {\n",
       "        vertical-align: top;\n",
       "    }\n",
       "\n",
       "    .dataframe thead th {\n",
       "        text-align: right;\n",
       "    }\n",
       "</style>\n",
       "<table border=\"1\" class=\"dataframe\">\n",
       "  <thead>\n",
       "    <tr style=\"text-align: right;\">\n",
       "      <th></th>\n",
       "      <th>arr_delay</th>\n",
       "      <th>distance</th>\n",
       "      <th>numflights</th>\n",
       "      <th>numstrikes</th>\n",
       "      <th>strikeprob</th>\n",
       "      <th>percentflights</th>\n",
       "      <th>region_N</th>\n",
       "      <th>region_O</th>\n",
       "      <th>region_S</th>\n",
       "      <th>region_W</th>\n",
       "      <th>...</th>\n",
       "      <th>DelayA_carrier</th>\n",
       "      <th>DelayA_origin</th>\n",
       "      <th>DelayA_dest</th>\n",
       "      <th>DelayA_hourly</th>\n",
       "      <th>num_flights_hourly</th>\n",
       "      <th>DelayD_hourly</th>\n",
       "      <th>DelayA_origin_hourly</th>\n",
       "      <th>DelayA_carrier_hourly</th>\n",
       "      <th>DelayD_origin_hourly</th>\n",
       "      <th>DelayD_carrier_hourly</th>\n",
       "    </tr>\n",
       "  </thead>\n",
       "  <tbody>\n",
       "    <tr>\n",
       "      <th>count</th>\n",
       "      <td>96233.000000</td>\n",
       "      <td>96233.000000</td>\n",
       "      <td>96233.000000</td>\n",
       "      <td>96233.000000</td>\n",
       "      <td>96233.000000</td>\n",
       "      <td>96233.000000</td>\n",
       "      <td>96233.000000</td>\n",
       "      <td>96233.000000</td>\n",
       "      <td>96233.000000</td>\n",
       "      <td>96233.000000</td>\n",
       "      <td>...</td>\n",
       "      <td>96233.000000</td>\n",
       "      <td>96233.000000</td>\n",
       "      <td>96233.000000</td>\n",
       "      <td>96233.000000</td>\n",
       "      <td>96233.000000</td>\n",
       "      <td>96233.000000</td>\n",
       "      <td>96120.000000</td>\n",
       "      <td>96232.000000</td>\n",
       "      <td>96120.000000</td>\n",
       "      <td>96232.000000</td>\n",
       "    </tr>\n",
       "    <tr>\n",
       "      <th>mean</th>\n",
       "      <td>6.547733</td>\n",
       "      <td>786.857066</td>\n",
       "      <td>287400.572423</td>\n",
       "      <td>685.752341</td>\n",
       "      <td>0.015583</td>\n",
       "      <td>0.017972</td>\n",
       "      <td>0.166429</td>\n",
       "      <td>0.025792</td>\n",
       "      <td>0.348882</td>\n",
       "      <td>0.313500</td>\n",
       "      <td>...</td>\n",
       "      <td>6.373987</td>\n",
       "      <td>6.415250</td>\n",
       "      <td>6.408765</td>\n",
       "      <td>6.396742</td>\n",
       "      <td>5470.845479</td>\n",
       "      <td>12.517061</td>\n",
       "      <td>6.353939</td>\n",
       "      <td>6.360412</td>\n",
       "      <td>12.497816</td>\n",
       "      <td>12.491480</td>\n",
       "    </tr>\n",
       "    <tr>\n",
       "      <th>std</th>\n",
       "      <td>53.463693</td>\n",
       "      <td>597.496087</td>\n",
       "      <td>232622.709818</td>\n",
       "      <td>816.461342</td>\n",
       "      <td>0.018553</td>\n",
       "      <td>0.014546</td>\n",
       "      <td>0.372468</td>\n",
       "      <td>0.158514</td>\n",
       "      <td>0.476619</td>\n",
       "      <td>0.463918</td>\n",
       "      <td>...</td>\n",
       "      <td>6.943577</td>\n",
       "      <td>6.308101</td>\n",
       "      <td>6.391435</td>\n",
       "      <td>3.658411</td>\n",
       "      <td>1122.191313</td>\n",
       "      <td>3.809597</td>\n",
       "      <td>11.625051</td>\n",
       "      <td>8.695531</td>\n",
       "      <td>11.017661</td>\n",
       "      <td>7.944299</td>\n",
       "    </tr>\n",
       "    <tr>\n",
       "      <th>min</th>\n",
       "      <td>-699.000000</td>\n",
       "      <td>31.000000</td>\n",
       "      <td>45.000000</td>\n",
       "      <td>0.000000</td>\n",
       "      <td>0.000000</td>\n",
       "      <td>0.000003</td>\n",
       "      <td>0.000000</td>\n",
       "      <td>0.000000</td>\n",
       "      <td>0.000000</td>\n",
       "      <td>0.000000</td>\n",
       "      <td>...</td>\n",
       "      <td>-4.758065</td>\n",
       "      <td>-18.555556</td>\n",
       "      <td>-73.111111</td>\n",
       "      <td>-0.837838</td>\n",
       "      <td>33.000000</td>\n",
       "      <td>4.657671</td>\n",
       "      <td>-38.000000</td>\n",
       "      <td>-23.400000</td>\n",
       "      <td>-28.000000</td>\n",
       "      <td>-18.333333</td>\n",
       "    </tr>\n",
       "    <tr>\n",
       "      <th>25%</th>\n",
       "      <td>-15.000000</td>\n",
       "      <td>347.000000</td>\n",
       "      <td>98562.000000</td>\n",
       "      <td>133.000000</td>\n",
       "      <td>0.003022</td>\n",
       "      <td>0.006163</td>\n",
       "      <td>0.000000</td>\n",
       "      <td>0.000000</td>\n",
       "      <td>0.000000</td>\n",
       "      <td>0.000000</td>\n",
       "      <td>...</td>\n",
       "      <td>2.892195</td>\n",
       "      <td>3.295014</td>\n",
       "      <td>2.474310</td>\n",
       "      <td>2.410936</td>\n",
       "      <td>5324.000000</td>\n",
       "      <td>9.060413</td>\n",
       "      <td>-0.064516</td>\n",
       "      <td>0.038095</td>\n",
       "      <td>6.300730</td>\n",
       "      <td>7.116838</td>\n",
       "    </tr>\n",
       "    <tr>\n",
       "      <th>50%</th>\n",
       "      <td>-5.000000</td>\n",
       "      <td>621.000000</td>\n",
       "      <td>257214.000000</td>\n",
       "      <td>410.000000</td>\n",
       "      <td>0.009317</td>\n",
       "      <td>0.016084</td>\n",
       "      <td>0.000000</td>\n",
       "      <td>0.000000</td>\n",
       "      <td>0.000000</td>\n",
       "      <td>0.000000</td>\n",
       "      <td>...</td>\n",
       "      <td>4.199796</td>\n",
       "      <td>4.950325</td>\n",
       "      <td>5.867170</td>\n",
       "      <td>6.940113</td>\n",
       "      <td>5916.000000</td>\n",
       "      <td>12.620264</td>\n",
       "      <td>4.837748</td>\n",
       "      <td>6.168242</td>\n",
       "      <td>10.863158</td>\n",
       "      <td>11.700803</td>\n",
       "    </tr>\n",
       "    <tr>\n",
       "      <th>75%</th>\n",
       "      <td>10.000000</td>\n",
       "      <td>1024.000000</td>\n",
       "      <td>379367.000000</td>\n",
       "      <td>865.000000</td>\n",
       "      <td>0.019656</td>\n",
       "      <td>0.023722</td>\n",
       "      <td>0.000000</td>\n",
       "      <td>0.000000</td>\n",
       "      <td>1.000000</td>\n",
       "      <td>1.000000</td>\n",
       "      <td>...</td>\n",
       "      <td>7.170818</td>\n",
       "      <td>10.430909</td>\n",
       "      <td>8.244493</td>\n",
       "      <td>9.543925</td>\n",
       "      <td>6096.000000</td>\n",
       "      <td>16.007903</td>\n",
       "      <td>11.622034</td>\n",
       "      <td>10.245238</td>\n",
       "      <td>17.061728</td>\n",
       "      <td>16.536419</td>\n",
       "    </tr>\n",
       "    <tr>\n",
       "      <th>max</th>\n",
       "      <td>1638.000000</td>\n",
       "      <td>4983.000000</td>\n",
       "      <td>790253.000000</td>\n",
       "      <td>3799.000000</td>\n",
       "      <td>0.086329</td>\n",
       "      <td>0.049416</td>\n",
       "      <td>1.000000</td>\n",
       "      <td>1.000000</td>\n",
       "      <td>1.000000</td>\n",
       "      <td>1.000000</td>\n",
       "      <td>...</td>\n",
       "      <td>28.619673</td>\n",
       "      <td>151.363636</td>\n",
       "      <td>113.045455</td>\n",
       "      <td>41.925926</td>\n",
       "      <td>6207.000000</td>\n",
       "      <td>50.197531</td>\n",
       "      <td>536.333333</td>\n",
       "      <td>109.083333</td>\n",
       "      <td>546.666667</td>\n",
       "      <td>112.333333</td>\n",
       "    </tr>\n",
       "  </tbody>\n",
       "</table>\n",
       "<p>8 rows × 71 columns</p>\n",
       "</div>"
      ],
      "text/plain": [
       "          arr_delay      distance     numflights    numstrikes    strikeprob  \\\n",
       "count  96233.000000  96233.000000   96233.000000  96233.000000  96233.000000   \n",
       "mean       6.547733    786.857066  287400.572423    685.752341      0.015583   \n",
       "std       53.463693    597.496087  232622.709818    816.461342      0.018553   \n",
       "min     -699.000000     31.000000      45.000000      0.000000      0.000000   \n",
       "25%      -15.000000    347.000000   98562.000000    133.000000      0.003022   \n",
       "50%       -5.000000    621.000000  257214.000000    410.000000      0.009317   \n",
       "75%       10.000000   1024.000000  379367.000000    865.000000      0.019656   \n",
       "max     1638.000000   4983.000000  790253.000000   3799.000000      0.086329   \n",
       "\n",
       "       percentflights      region_N      region_O      region_S      region_W  \\\n",
       "count    96233.000000  96233.000000  96233.000000  96233.000000  96233.000000   \n",
       "mean         0.017972      0.166429      0.025792      0.348882      0.313500   \n",
       "std          0.014546      0.372468      0.158514      0.476619      0.463918   \n",
       "min          0.000003      0.000000      0.000000      0.000000      0.000000   \n",
       "25%          0.006163      0.000000      0.000000      0.000000      0.000000   \n",
       "50%          0.016084      0.000000      0.000000      0.000000      0.000000   \n",
       "75%          0.023722      0.000000      0.000000      1.000000      1.000000   \n",
       "max          0.049416      1.000000      1.000000      1.000000      1.000000   \n",
       "\n",
       "       ...  DelayA_carrier  DelayA_origin   DelayA_dest  DelayA_hourly  \\\n",
       "count  ...    96233.000000   96233.000000  96233.000000   96233.000000   \n",
       "mean   ...        6.373987       6.415250      6.408765       6.396742   \n",
       "std    ...        6.943577       6.308101      6.391435       3.658411   \n",
       "min    ...       -4.758065     -18.555556    -73.111111      -0.837838   \n",
       "25%    ...        2.892195       3.295014      2.474310       2.410936   \n",
       "50%    ...        4.199796       4.950325      5.867170       6.940113   \n",
       "75%    ...        7.170818      10.430909      8.244493       9.543925   \n",
       "max    ...       28.619673     151.363636    113.045455      41.925926   \n",
       "\n",
       "       num_flights_hourly  DelayD_hourly  DelayA_origin_hourly  \\\n",
       "count        96233.000000   96233.000000          96120.000000   \n",
       "mean          5470.845479      12.517061              6.353939   \n",
       "std           1122.191313       3.809597             11.625051   \n",
       "min             33.000000       4.657671            -38.000000   \n",
       "25%           5324.000000       9.060413             -0.064516   \n",
       "50%           5916.000000      12.620264              4.837748   \n",
       "75%           6096.000000      16.007903             11.622034   \n",
       "max           6207.000000      50.197531            536.333333   \n",
       "\n",
       "       DelayA_carrier_hourly  DelayD_origin_hourly  DelayD_carrier_hourly  \n",
       "count           96232.000000          96120.000000           96232.000000  \n",
       "mean                6.360412             12.497816              12.491480  \n",
       "std                 8.695531             11.017661               7.944299  \n",
       "min               -23.400000            -28.000000             -18.333333  \n",
       "25%                 0.038095              6.300730               7.116838  \n",
       "50%                 6.168242             10.863158              11.700803  \n",
       "75%                10.245238             17.061728              16.536419  \n",
       "max               109.083333            546.666667             112.333333  \n",
       "\n",
       "[8 rows x 71 columns]"
      ]
     },
     "execution_count": 9,
     "metadata": {},
     "output_type": "execute_result"
    }
   ],
   "source": [
    "df_val.describe()"
   ]
  },
  {
   "cell_type": "markdown",
   "id": "397d1dfd-4c55-4b25-bcc1-20a22ab165f6",
   "metadata": {},
   "source": [
    "### Explore Correlations"
   ]
  },
  {
   "cell_type": "code",
   "execution_count": 10,
   "id": "6978f084-16c1-4f00-a344-588bd42af5f9",
   "metadata": {
    "tags": []
   },
   "outputs": [
    {
     "data": {
      "text/plain": [
       "arr_delay                1.000000\n",
       "dep_delay                0.940981\n",
       "DelayA_origin_hourly     0.212159\n",
       "DelayD_origin_hourly     0.199803\n",
       "DelayA_carrier_hourly    0.162436\n",
       "DelayD_carrier_hourly    0.153988\n",
       "DelayA_carrier           0.129430\n",
       "DelayA_origin            0.118200\n",
       "DelayA_dest              0.117723\n",
       "DelayD_dest              0.111221\n",
       "Name: arr_delay, dtype: float64"
      ]
     },
     "execution_count": 10,
     "metadata": {},
     "output_type": "execute_result"
    }
   ],
   "source": [
    "# Top 10 correlated features\n",
    "\n",
    "df_train[df_train.columns[1:]].corr()['arr_delay'].nlargest(10)"
   ]
  },
  {
   "cell_type": "markdown",
   "id": "8bf0a43e-9fa8-4e97-806b-160f411c8f44",
   "metadata": {},
   "source": [
    "### Pearson Correlation"
   ]
  },
  {
   "cell_type": "code",
   "execution_count": 11,
   "id": "826e8bfc-8d30-4a58-adc8-ce3add52a295",
   "metadata": {},
   "outputs": [
    {
     "data": {
      "text/html": [
       "<div>\n",
       "<style scoped>\n",
       "    .dataframe tbody tr th:only-of-type {\n",
       "        vertical-align: middle;\n",
       "    }\n",
       "\n",
       "    .dataframe tbody tr th {\n",
       "        vertical-align: top;\n",
       "    }\n",
       "\n",
       "    .dataframe thead th {\n",
       "        text-align: right;\n",
       "    }\n",
       "</style>\n",
       "<table border=\"1\" class=\"dataframe\">\n",
       "  <thead>\n",
       "    <tr style=\"text-align: right;\">\n",
       "      <th></th>\n",
       "      <th>dep_delay</th>\n",
       "      <th>arr_delay</th>\n",
       "      <th>distance</th>\n",
       "      <th>numflights</th>\n",
       "      <th>numstrikes</th>\n",
       "      <th>strikeprob</th>\n",
       "      <th>percentflights</th>\n",
       "      <th>region_N</th>\n",
       "      <th>region_O</th>\n",
       "      <th>region_S</th>\n",
       "      <th>...</th>\n",
       "      <th>DelayA_carrier</th>\n",
       "      <th>DelayA_origin</th>\n",
       "      <th>DelayA_dest</th>\n",
       "      <th>DelayA_hourly</th>\n",
       "      <th>num_flights_hourly</th>\n",
       "      <th>DelayD_hourly</th>\n",
       "      <th>DelayA_origin_hourly</th>\n",
       "      <th>DelayA_carrier_hourly</th>\n",
       "      <th>DelayD_origin_hourly</th>\n",
       "      <th>DelayD_carrier_hourly</th>\n",
       "    </tr>\n",
       "  </thead>\n",
       "  <tbody>\n",
       "    <tr>\n",
       "      <th>dep_delay</th>\n",
       "      <td>1.000000</td>\n",
       "      <td>0.940981</td>\n",
       "      <td>0.015163</td>\n",
       "      <td>0.003701</td>\n",
       "      <td>0.006782</td>\n",
       "      <td>0.006782</td>\n",
       "      <td>0.003701</td>\n",
       "      <td>0.034838</td>\n",
       "      <td>0.017649</td>\n",
       "      <td>0.011968</td>\n",
       "      <td>...</td>\n",
       "      <td>0.111484</td>\n",
       "      <td>0.102305</td>\n",
       "      <td>0.097346</td>\n",
       "      <td>0.074430</td>\n",
       "      <td>0.009561</td>\n",
       "      <td>0.075148</td>\n",
       "      <td>0.200326</td>\n",
       "      <td>0.149444</td>\n",
       "      <td>0.212715</td>\n",
       "      <td>0.157642</td>\n",
       "    </tr>\n",
       "    <tr>\n",
       "      <th>arr_delay</th>\n",
       "      <td>0.940981</td>\n",
       "      <td>1.000000</td>\n",
       "      <td>0.015040</td>\n",
       "      <td>0.001107</td>\n",
       "      <td>0.000724</td>\n",
       "      <td>0.000724</td>\n",
       "      <td>0.001107</td>\n",
       "      <td>0.021674</td>\n",
       "      <td>0.001537</td>\n",
       "      <td>0.000118</td>\n",
       "      <td>...</td>\n",
       "      <td>0.129430</td>\n",
       "      <td>0.118200</td>\n",
       "      <td>0.117723</td>\n",
       "      <td>0.068053</td>\n",
       "      <td>0.006371</td>\n",
       "      <td>0.067403</td>\n",
       "      <td>0.212159</td>\n",
       "      <td>0.162436</td>\n",
       "      <td>0.199803</td>\n",
       "      <td>0.153988</td>\n",
       "    </tr>\n",
       "    <tr>\n",
       "      <th>distance</th>\n",
       "      <td>0.015163</td>\n",
       "      <td>0.015040</td>\n",
       "      <td>1.000000</td>\n",
       "      <td>0.078064</td>\n",
       "      <td>0.024147</td>\n",
       "      <td>0.024147</td>\n",
       "      <td>0.078064</td>\n",
       "      <td>0.023770</td>\n",
       "      <td>0.109518</td>\n",
       "      <td>0.091744</td>\n",
       "      <td>...</td>\n",
       "      <td>0.085974</td>\n",
       "      <td>0.035419</td>\n",
       "      <td>0.029891</td>\n",
       "      <td>0.025402</td>\n",
       "      <td>0.062502</td>\n",
       "      <td>0.022567</td>\n",
       "      <td>0.005876</td>\n",
       "      <td>0.073308</td>\n",
       "      <td>0.018450</td>\n",
       "      <td>0.037144</td>\n",
       "    </tr>\n",
       "    <tr>\n",
       "      <th>numflights</th>\n",
       "      <td>0.003701</td>\n",
       "      <td>0.001107</td>\n",
       "      <td>0.078064</td>\n",
       "      <td>1.000000</td>\n",
       "      <td>0.658315</td>\n",
       "      <td>0.658315</td>\n",
       "      <td>1.000000</td>\n",
       "      <td>0.114780</td>\n",
       "      <td>0.164544</td>\n",
       "      <td>0.056806</td>\n",
       "      <td>...</td>\n",
       "      <td>0.101161</td>\n",
       "      <td>0.009368</td>\n",
       "      <td>0.095866</td>\n",
       "      <td>0.074964</td>\n",
       "      <td>0.076406</td>\n",
       "      <td>0.092924</td>\n",
       "      <td>0.005219</td>\n",
       "      <td>0.068485</td>\n",
       "      <td>0.017401</td>\n",
       "      <td>0.024562</td>\n",
       "    </tr>\n",
       "    <tr>\n",
       "      <th>numstrikes</th>\n",
       "      <td>0.006782</td>\n",
       "      <td>0.000724</td>\n",
       "      <td>0.024147</td>\n",
       "      <td>0.658315</td>\n",
       "      <td>1.000000</td>\n",
       "      <td>1.000000</td>\n",
       "      <td>0.658315</td>\n",
       "      <td>0.117346</td>\n",
       "      <td>0.125166</td>\n",
       "      <td>0.031209</td>\n",
       "      <td>...</td>\n",
       "      <td>0.006919</td>\n",
       "      <td>0.006126</td>\n",
       "      <td>0.059944</td>\n",
       "      <td>0.055484</td>\n",
       "      <td>0.021237</td>\n",
       "      <td>0.068533</td>\n",
       "      <td>0.003413</td>\n",
       "      <td>0.001373</td>\n",
       "      <td>0.031884</td>\n",
       "      <td>0.032902</td>\n",
       "    </tr>\n",
       "    <tr>\n",
       "      <th>...</th>\n",
       "      <td>...</td>\n",
       "      <td>...</td>\n",
       "      <td>...</td>\n",
       "      <td>...</td>\n",
       "      <td>...</td>\n",
       "      <td>...</td>\n",
       "      <td>...</td>\n",
       "      <td>...</td>\n",
       "      <td>...</td>\n",
       "      <td>...</td>\n",
       "      <td>...</td>\n",
       "      <td>...</td>\n",
       "      <td>...</td>\n",
       "      <td>...</td>\n",
       "      <td>...</td>\n",
       "      <td>...</td>\n",
       "      <td>...</td>\n",
       "      <td>...</td>\n",
       "      <td>...</td>\n",
       "      <td>...</td>\n",
       "      <td>...</td>\n",
       "    </tr>\n",
       "    <tr>\n",
       "      <th>DelayD_hourly</th>\n",
       "      <td>0.075148</td>\n",
       "      <td>0.067403</td>\n",
       "      <td>0.022567</td>\n",
       "      <td>0.092924</td>\n",
       "      <td>0.068533</td>\n",
       "      <td>0.068533</td>\n",
       "      <td>0.092924</td>\n",
       "      <td>0.001873</td>\n",
       "      <td>0.034678</td>\n",
       "      <td>0.022263</td>\n",
       "      <td>...</td>\n",
       "      <td>0.018044</td>\n",
       "      <td>0.002920</td>\n",
       "      <td>0.028360</td>\n",
       "      <td>0.990449</td>\n",
       "      <td>0.127225</td>\n",
       "      <td>1.000000</td>\n",
       "      <td>0.317700</td>\n",
       "      <td>0.414952</td>\n",
       "      <td>0.353279</td>\n",
       "      <td>0.476698</td>\n",
       "    </tr>\n",
       "    <tr>\n",
       "      <th>DelayA_origin_hourly</th>\n",
       "      <td>0.200326</td>\n",
       "      <td>0.212159</td>\n",
       "      <td>0.005876</td>\n",
       "      <td>0.005219</td>\n",
       "      <td>0.003413</td>\n",
       "      <td>0.003413</td>\n",
       "      <td>0.005219</td>\n",
       "      <td>0.102158</td>\n",
       "      <td>0.007247</td>\n",
       "      <td>0.000557</td>\n",
       "      <td>...</td>\n",
       "      <td>0.179438</td>\n",
       "      <td>0.557128</td>\n",
       "      <td>0.109305</td>\n",
       "      <td>0.320764</td>\n",
       "      <td>0.030030</td>\n",
       "      <td>0.317700</td>\n",
       "      <td>1.000000</td>\n",
       "      <td>0.326625</td>\n",
       "      <td>0.941759</td>\n",
       "      <td>0.314434</td>\n",
       "    </tr>\n",
       "    <tr>\n",
       "      <th>DelayA_carrier_hourly</th>\n",
       "      <td>0.149444</td>\n",
       "      <td>0.162436</td>\n",
       "      <td>0.073308</td>\n",
       "      <td>0.068485</td>\n",
       "      <td>0.001373</td>\n",
       "      <td>0.001373</td>\n",
       "      <td>0.068485</td>\n",
       "      <td>0.090968</td>\n",
       "      <td>0.029288</td>\n",
       "      <td>0.049217</td>\n",
       "      <td>...</td>\n",
       "      <td>0.796808</td>\n",
       "      <td>0.209814</td>\n",
       "      <td>0.209199</td>\n",
       "      <td>0.418953</td>\n",
       "      <td>0.039223</td>\n",
       "      <td>0.414952</td>\n",
       "      <td>0.326625</td>\n",
       "      <td>1.000000</td>\n",
       "      <td>0.323718</td>\n",
       "      <td>0.947993</td>\n",
       "    </tr>\n",
       "    <tr>\n",
       "      <th>DelayD_origin_hourly</th>\n",
       "      <td>0.212715</td>\n",
       "      <td>0.199803</td>\n",
       "      <td>0.018450</td>\n",
       "      <td>0.017401</td>\n",
       "      <td>0.031884</td>\n",
       "      <td>0.031884</td>\n",
       "      <td>0.017401</td>\n",
       "      <td>0.163776</td>\n",
       "      <td>0.082970</td>\n",
       "      <td>0.056263</td>\n",
       "      <td>...</td>\n",
       "      <td>0.170351</td>\n",
       "      <td>0.480947</td>\n",
       "      <td>0.117264</td>\n",
       "      <td>0.349905</td>\n",
       "      <td>0.044946</td>\n",
       "      <td>0.353279</td>\n",
       "      <td>0.941759</td>\n",
       "      <td>0.323718</td>\n",
       "      <td>1.000000</td>\n",
       "      <td>0.350058</td>\n",
       "    </tr>\n",
       "    <tr>\n",
       "      <th>DelayD_carrier_hourly</th>\n",
       "      <td>0.157642</td>\n",
       "      <td>0.153988</td>\n",
       "      <td>0.037144</td>\n",
       "      <td>0.024562</td>\n",
       "      <td>0.032902</td>\n",
       "      <td>0.032902</td>\n",
       "      <td>0.024562</td>\n",
       "      <td>0.091519</td>\n",
       "      <td>0.081350</td>\n",
       "      <td>0.034305</td>\n",
       "      <td>...</td>\n",
       "      <td>0.707195</td>\n",
       "      <td>0.164945</td>\n",
       "      <td>0.193642</td>\n",
       "      <td>0.472145</td>\n",
       "      <td>0.060648</td>\n",
       "      <td>0.476698</td>\n",
       "      <td>0.314434</td>\n",
       "      <td>0.947993</td>\n",
       "      <td>0.350058</td>\n",
       "      <td>1.000000</td>\n",
       "    </tr>\n",
       "  </tbody>\n",
       "</table>\n",
       "<p>71 rows × 71 columns</p>\n",
       "</div>"
      ],
      "text/plain": [
       "                       dep_delay  arr_delay  distance  numflights  numstrikes  \\\n",
       "dep_delay               1.000000   0.940981  0.015163    0.003701    0.006782   \n",
       "arr_delay               0.940981   1.000000  0.015040    0.001107    0.000724   \n",
       "distance                0.015163   0.015040  1.000000    0.078064    0.024147   \n",
       "numflights              0.003701   0.001107  0.078064    1.000000    0.658315   \n",
       "numstrikes              0.006782   0.000724  0.024147    0.658315    1.000000   \n",
       "...                          ...        ...       ...         ...         ...   \n",
       "DelayD_hourly           0.075148   0.067403  0.022567    0.092924    0.068533   \n",
       "DelayA_origin_hourly    0.200326   0.212159  0.005876    0.005219    0.003413   \n",
       "DelayA_carrier_hourly   0.149444   0.162436  0.073308    0.068485    0.001373   \n",
       "DelayD_origin_hourly    0.212715   0.199803  0.018450    0.017401    0.031884   \n",
       "DelayD_carrier_hourly   0.157642   0.153988  0.037144    0.024562    0.032902   \n",
       "\n",
       "                       strikeprob  percentflights  region_N  region_O  \\\n",
       "dep_delay                0.006782        0.003701  0.034838  0.017649   \n",
       "arr_delay                0.000724        0.001107  0.021674  0.001537   \n",
       "distance                 0.024147        0.078064  0.023770  0.109518   \n",
       "numflights               0.658315        1.000000  0.114780  0.164544   \n",
       "numstrikes               1.000000        0.658315  0.117346  0.125166   \n",
       "...                           ...             ...       ...       ...   \n",
       "DelayD_hourly            0.068533        0.092924  0.001873  0.034678   \n",
       "DelayA_origin_hourly     0.003413        0.005219  0.102158  0.007247   \n",
       "DelayA_carrier_hourly    0.001373        0.068485  0.090968  0.029288   \n",
       "DelayD_origin_hourly     0.031884        0.017401  0.163776  0.082970   \n",
       "DelayD_carrier_hourly    0.032902        0.024562  0.091519  0.081350   \n",
       "\n",
       "                       region_S  ...  DelayA_carrier  DelayA_origin  \\\n",
       "dep_delay              0.011968  ...        0.111484       0.102305   \n",
       "arr_delay              0.000118  ...        0.129430       0.118200   \n",
       "distance               0.091744  ...        0.085974       0.035419   \n",
       "numflights             0.056806  ...        0.101161       0.009368   \n",
       "numstrikes             0.031209  ...        0.006919       0.006126   \n",
       "...                         ...  ...             ...            ...   \n",
       "DelayD_hourly          0.022263  ...        0.018044       0.002920   \n",
       "DelayA_origin_hourly   0.000557  ...        0.179438       0.557128   \n",
       "DelayA_carrier_hourly  0.049217  ...        0.796808       0.209814   \n",
       "DelayD_origin_hourly   0.056263  ...        0.170351       0.480947   \n",
       "DelayD_carrier_hourly  0.034305  ...        0.707195       0.164945   \n",
       "\n",
       "                       DelayA_dest  DelayA_hourly  num_flights_hourly  \\\n",
       "dep_delay                 0.097346       0.074430            0.009561   \n",
       "arr_delay                 0.117723       0.068053            0.006371   \n",
       "distance                  0.029891       0.025402            0.062502   \n",
       "numflights                0.095866       0.074964            0.076406   \n",
       "numstrikes                0.059944       0.055484            0.021237   \n",
       "...                            ...            ...                 ...   \n",
       "DelayD_hourly             0.028360       0.990449            0.127225   \n",
       "DelayA_origin_hourly      0.109305       0.320764            0.030030   \n",
       "DelayA_carrier_hourly     0.209199       0.418953            0.039223   \n",
       "DelayD_origin_hourly      0.117264       0.349905            0.044946   \n",
       "DelayD_carrier_hourly     0.193642       0.472145            0.060648   \n",
       "\n",
       "                       DelayD_hourly  DelayA_origin_hourly  \\\n",
       "dep_delay                   0.075148              0.200326   \n",
       "arr_delay                   0.067403              0.212159   \n",
       "distance                    0.022567              0.005876   \n",
       "numflights                  0.092924              0.005219   \n",
       "numstrikes                  0.068533              0.003413   \n",
       "...                              ...                   ...   \n",
       "DelayD_hourly               1.000000              0.317700   \n",
       "DelayA_origin_hourly        0.317700              1.000000   \n",
       "DelayA_carrier_hourly       0.414952              0.326625   \n",
       "DelayD_origin_hourly        0.353279              0.941759   \n",
       "DelayD_carrier_hourly       0.476698              0.314434   \n",
       "\n",
       "                       DelayA_carrier_hourly  DelayD_origin_hourly  \\\n",
       "dep_delay                           0.149444              0.212715   \n",
       "arr_delay                           0.162436              0.199803   \n",
       "distance                            0.073308              0.018450   \n",
       "numflights                          0.068485              0.017401   \n",
       "numstrikes                          0.001373              0.031884   \n",
       "...                                      ...                   ...   \n",
       "DelayD_hourly                       0.414952              0.353279   \n",
       "DelayA_origin_hourly                0.326625              0.941759   \n",
       "DelayA_carrier_hourly               1.000000              0.323718   \n",
       "DelayD_origin_hourly                0.323718              1.000000   \n",
       "DelayD_carrier_hourly               0.947993              0.350058   \n",
       "\n",
       "                       DelayD_carrier_hourly  \n",
       "dep_delay                           0.157642  \n",
       "arr_delay                           0.153988  \n",
       "distance                            0.037144  \n",
       "numflights                          0.024562  \n",
       "numstrikes                          0.032902  \n",
       "...                                      ...  \n",
       "DelayD_hourly                       0.476698  \n",
       "DelayA_origin_hourly                0.314434  \n",
       "DelayA_carrier_hourly               0.947993  \n",
       "DelayD_origin_hourly                0.350058  \n",
       "DelayD_carrier_hourly               1.000000  \n",
       "\n",
       "[71 rows x 71 columns]"
      ]
     },
     "execution_count": 11,
     "metadata": {},
     "output_type": "execute_result"
    }
   ],
   "source": [
    "\n",
    "# create correlation matrix\n",
    "\n",
    "corr = df_train.corr().abs()\n",
    "corr"
   ]
  },
  {
   "cell_type": "code",
   "execution_count": 12,
   "id": "4ca73c39-b8b5-4358-bf4a-187ab062c6fa",
   "metadata": {
    "tags": []
   },
   "outputs": [
    {
     "data": {
      "text/plain": [
       "<AxesSubplot:>"
      ]
     },
     "execution_count": 12,
     "metadata": {},
     "output_type": "execute_result"
    },
    {
     "data": {
      "image/png": "[encoded data removed]",
      "text/plain": [
       "<Figure size 1728x1728 with 2 Axes>"
      ]
     },
     "metadata": {
      "needs_background": "light"
     },
     "output_type": "display_data"
    }
   ],
   "source": [
    "# heatmap\n",
    "\n",
    "import seaborn as sns\n",
    "import matplotlib.pyplot as plt\n",
    "plt.figure(figsize=(24,24))\n",
    "sns.heatmap(corr)"
   ]
  },
  {
   "cell_type": "code",
   "execution_count": 13,
   "id": "3fc4027b-a6ce-48af-891c-c20d63da6e38",
   "metadata": {},
   "outputs": [
    {
     "data": {
      "image/png": "[encoded data removed]",
      "text/plain": [
       "<Figure size 1008x1008 with 2 Axes>"
      ]
     },
     "metadata": {
      "needs_background": "light"
     },
     "output_type": "display_data"
    }
   ],
   "source": [
    "# Features with >0.05 pearsons' correlation coefficient\n",
    "\n",
    "top_corr_features = corr.index[abs(corr[\"arr_delay\"])>0.05]\n",
    "plt.figure(figsize=(14,14))\n",
    "g = sns.heatmap(df_train[top_corr_features].corr(),annot=True)"
   ]
  },
  {
   "cell_type": "markdown",
   "id": "daf3010f-29a6-4b8a-89a3-a52d047ebba3",
   "metadata": {},
   "source": [
    "### Drop columns from daily scrum, object dtype, target columns I'm not using here"
   ]
  },
  {
   "cell_type": "code",
   "execution_count": 14,
   "id": "51419adc-b71a-488e-911a-4f59333ef67d",
   "metadata": {},
   "outputs": [],
   "source": [
    "droplist= ['crs_dep_time',\n",
    "         'crs_arr_time',\n",
    "         'numflights',\n",
    "         'numstrikes',\n",
    "         'weekday',\n",
    "         'crs_dep_time_hour',\n",
    "         'crs_dep_time_min',\n",
    "         'crs_arr_time_hour',\n",
    "         'crs_arr_time_min',\n",
    "         'fl_date',\n",
    "         'op_unique_carrier',\n",
    "         'origin',\n",
    "         'dest',\n",
    "         'dep_delay',\n",
    "        ]\n",
    "\n",
    "df_train.drop(droplist, axis=1, inplace=True)\n",
    "df_val.drop(droplist, axis=1, inplace=True)"
   ]
  },
  {
   "cell_type": "markdown",
   "id": "061a16e7-12db-45c0-881a-37a4faba6b42",
   "metadata": {
    "tags": []
   },
   "source": [
    "### Outlier Removal"
   ]
  },
  {
   "cell_type": "markdown",
   "id": "bf514e31-a1d5-42f7-9d48-dc3f6ac964fe",
   "metadata": {
    "tags": []
   },
   "source": [
    "### Drop NaN"
   ]
  },
  {
   "cell_type": "code",
   "execution_count": 15,
   "id": "6af5f2f9-e024-467f-9241-ec119e910c7a",
   "metadata": {},
   "outputs": [],
   "source": [
    "# drop rows with missing values\n",
    "\n",
    "df_val.dropna(inplace=True)\n",
    "df_train.dropna(inplace=True)"
   ]
  },
  {
   "cell_type": "markdown",
   "id": "e3211e49-3b59-4a62-b622-8230536c5907",
   "metadata": {},
   "source": [
    "### Split into X, y"
   ]
  },
  {
   "cell_type": "code",
   "execution_count": 16,
   "id": "598c29d1-f77a-42f0-a6b2-7812fd649a60",
   "metadata": {},
   "outputs": [],
   "source": [
    "# Create separate series for y values\n",
    "\n",
    "y_train = df_train.arr_delay\n",
    "y_val = df_val.arr_delay"
   ]
  },
  {
   "cell_type": "code",
   "execution_count": 17,
   "id": "3641ce5c-93d3-4543-86b5-7d1f0156257a",
   "metadata": {},
   "outputs": [],
   "source": [
    "# Drop target variables in both dataframes\n",
    "\n",
    "df_train.drop(['arr_delay'], axis=1, inplace=True)\n",
    "df_val.drop(['arr_delay'], axis=1, inplace=True)"
   ]
  },
  {
   "cell_type": "markdown",
   "id": "dfebc28f-78d9-4057-a540-e60ba08dbf5e",
   "metadata": {},
   "source": [
    "### Scaling"
   ]
  },
  {
   "cell_type": "code",
   "execution_count": 18,
   "id": "7746bdee-7494-40b5-aac0-b878a7955ded",
   "metadata": {},
   "outputs": [],
   "source": [
    "# select target features\n",
    "\n",
    "numfeats = ['distance',\n",
    "               'percentflights',\n",
    "               'aircraft_age',\n",
    "               'strikeprob',\n",
    "               'num_flights_carrier',\n",
    "               'DelayD_origin',\n",
    "               'num_flights_origin',\n",
    "               'DelayD_dest',\n",
    "               'num_flights_dest',\n",
    "               'DelayA_origin',\n",
    "               'DelayA_dest',\n",
    "               'DelayA_hourly',\n",
    "               'num_flights_hourly',\n",
    "               'DelayD_hourly',\n",
    "               'DelayA_origin_hourly',\n",
    "               'DelayA_carrier_hourly',\n",
    "               'DelayD_origin_hourly',\n",
    "               'DelayD_carrier_hourly'\n",
    "              ]"
   ]
  },
  {
   "cell_type": "code",
   "execution_count": 19,
   "id": "baa08cc2-072f-48b2-9fe9-d249b71648b3",
   "metadata": {},
   "outputs": [],
   "source": [
    "from sklearn.preprocessing import StandardScaler, MinMaxScaler"
   ]
  },
  {
   "cell_type": "code",
   "execution_count": 20,
   "id": "3a767080-e702-44f7-8335-5d832041cec3",
   "metadata": {
    "tags": []
   },
   "outputs": [],
   "source": [
    "# apply scaler\n",
    "\n",
    "scaler = MinMaxScaler()\n",
    "df_trainscaled = pd.DataFrame(scaler.fit_transform(df_train[numfeats].astype(float)), columns=numfeats)\n",
    "df_valscaled = pd.DataFrame(scaler.transform(df_val[numfeats].astype(float)), columns=numfeats)"
   ]
  },
  {
   "cell_type": "code",
   "execution_count": 21,
   "id": "0020c706-298e-493a-8c87-434b2428ac6b",
   "metadata": {},
   "outputs": [],
   "source": [
    "# drop unscaled features from original df\n",
    "\n",
    "df_val.drop(numfeats, axis=1, inplace=True)\n",
    "df_train.drop(numfeats, axis=1, inplace=True)"
   ]
  },
  {
   "cell_type": "code",
   "execution_count": 22,
   "id": "1d04d73a-099d-4b6d-abd4-c8c779a0c320",
   "metadata": {},
   "outputs": [],
   "source": [
    "# merge scaled columns back into df\n",
    "\n",
    "df_train = df_train.join(df_trainscaled)\n",
    "df_val = df_val.join(df_valscaled)"
   ]
  },
  {
   "cell_type": "markdown",
   "id": "25ab5ad2-70e4-4c1e-b6e1-dc10e76ac75c",
   "metadata": {},
   "source": [
    "## Feature selection"
   ]
  },
  {
   "cell_type": "code",
   "execution_count": 23,
   "id": "22ed99e2-d1db-4b80-9764-e7ce9e0fb6a5",
   "metadata": {},
   "outputs": [],
   "source": [
    "from sklearn.feature_selection import VarianceThreshold, SelectKBest, f_regression"
   ]
  },
  {
   "cell_type": "markdown",
   "id": "f5a29eff-c675-4033-b920-406a74c80d61",
   "metadata": {},
   "source": [
    "### Variance Threshold"
   ]
  },
  {
   "cell_type": "code",
   "execution_count": 24,
   "id": "f0b4a630-8e78-4591-a959-288a0845d07f",
   "metadata": {},
   "outputs": [],
   "source": [
    "# remove variables with variance < 0.1\n",
    "\n",
    "vt = VarianceThreshold(0.1)\n",
    "df_trainfilter = vt.fit_transform(df_train)"
   ]
  },
  {
   "cell_type": "code",
   "execution_count": 25,
   "id": "01a16089-60c8-406c-90f6-bff5edf90bc6",
   "metadata": {},
   "outputs": [],
   "source": [
    "# convert back to dataframe\n",
    "selected_columns = df_train.columns[vt.get_support()]\n",
    "df_trainfilter = pd.DataFrame(df_trainfilter, columns = selected_columns)"
   ]
  },
  {
   "cell_type": "code",
   "execution_count": 26,
   "id": "90a38396-8963-4d8f-8ff6-329610017035",
   "metadata": {},
   "outputs": [],
   "source": [
    "# mirror change into validation data\n",
    "\n",
    "columns = df_val.columns.difference(df_trainfilter.columns).tolist()\n",
    "df_valfilter = df_val.drop(columns, axis=1)"
   ]
  },
  {
   "cell_type": "markdown",
   "id": "1f0949cc-f257-410a-a1fd-bf4e2f788d0c",
   "metadata": {},
   "source": [
    "### Correlated Features"
   ]
  },
  {
   "cell_type": "code",
   "execution_count": 27,
   "id": "9dffd6c9-0cd8-4807-8f78-53f70135258c",
   "metadata": {},
   "outputs": [],
   "source": [
    "# create correlation matrix\n",
    "\n",
    "df_traincorr = df_trainfilter.corr().abs()\n",
    "df_valcorr = df_valfilter.corr().abs()"
   ]
  },
  {
   "cell_type": "code",
   "execution_count": 28,
   "id": "906e5ec0-21c3-4625-a0dc-be5b20bc5387",
   "metadata": {},
   "outputs": [],
   "source": [
    "# iterate thru and find pairs with correlation > 0.8\n",
    "\n",
    "trainindices = np.where(df_traincorr > 0.8) \n",
    "trainindices = [(df_traincorr.index[x], df_traincorr.columns[y]) \n",
    "for x, y in zip(*trainindices)\n",
    "    if x != y and x < y]\n",
    "\n",
    "valindices = np.where(df_valcorr > 0.8) \n",
    "valindices = [(df_valcorr.index[x], df_valcorr.columns[y]) \n",
    "for x, y in zip(*valindices)\n",
    "    if x != y and x < y]"
   ]
  },
  {
   "cell_type": "code",
   "execution_count": 29,
   "id": "45afe9aa-0fd7-4da7-80c3-52e2c71e1d58",
   "metadata": {},
   "outputs": [],
   "source": [
    "# drop pairs found in last step\n",
    "\n",
    "for idx in trainindices: #each pair\n",
    "    try:\n",
    "        df_trainfilter.drop(idx[1], axis = 1, inplace=True)\n",
    "    except KeyError:\n",
    "        pass\n",
    "    \n",
    "for idx in valindices: #each pair\n",
    "    try:\n",
    "        df_valfilter.drop(idx[1], axis = 1, inplace=True)\n",
    "    except KeyError:\n",
    "        pass"
   ]
  },
  {
   "cell_type": "code",
   "execution_count": 30,
   "id": "ef1f496a-86fb-40c0-af09-43b45922e469",
   "metadata": {},
   "outputs": [
    {
     "name": "stdout",
     "output_type": "stream",
     "text": [
      "True\n",
      "False\n",
      "False\n",
      "False\n"
     ]
    }
   ],
   "source": [
    "# this process introduces x rows of null values, so we have to drop those\n",
    "\n",
    "print(np.any(np.isnan(df_valfilter)))\n",
    "\n",
    "# make list of indexes of columns to drop\n",
    "nanindex = df_valfilter[df_valfilter.num_flights_carrier.isnull()].index.tolist()\n",
    "df_valfilter.dropna(inplace=True)\n",
    "y_val.drop(index=nanindex, inplace=True)\n",
    "\n",
    "print(np.any(np.isnan(df_valfilter)))\n",
    "\n",
    "print(np.any(np.isnan(df_trainfilter)))\n",
    "\n",
    "# make list of indexes of columns to drop\n",
    "nanindex = df_trainfilter[df_trainfilter.num_flights_carrier.isnull()].index.tolist()\n",
    "df_trainfilter.dropna(inplace=True)\n",
    "y_train.drop(index=nanindex, inplace=True)\n",
    "\n",
    "print(np.any(np.isnan(df_trainfilter)))"
   ]
  },
  {
   "cell_type": "markdown",
   "id": "32d54615-dd52-4ea0-b94c-a460168e6443",
   "metadata": {
    "tags": []
   },
   "source": [
    "### Forward Regression"
   ]
  },
  {
   "cell_type": "code",
   "execution_count": 31,
   "id": "62c269ad-7a48-458a-a072-2d3fd050e49f",
   "metadata": {},
   "outputs": [],
   "source": [
    "# fit forward regressor, select 10 best features from remaining\n",
    "\n",
    "skb = SelectKBest(f_regression, k=10)\n",
    "X_train = skb.fit_transform(df_trainfilter, y_train)\n",
    "X_val = skb.fit_transform(df_valfilter, y_val)"
   ]
  },
  {
   "cell_type": "code",
   "execution_count": 32,
   "id": "3530c561-aa96-4fca-9ad9-3d8d121b572c",
   "metadata": {},
   "outputs": [],
   "source": [
    "# convert back to dataframe\n",
    "\n",
    "# df_trainfilter.columns[skb.get_support()]\n",
    "X_train = pd.DataFrame(X_train,columns=df_trainfilter.columns[skb.get_support()])\n",
    "X_val = pd.DataFrame(X_val,columns=df_valfilter.columns[skb.get_support()])"
   ]
  },
  {
   "cell_type": "markdown",
   "id": "b887f51f-d2aa-4dbd-94bc-0591c11afbc3",
   "metadata": {},
   "source": [
    "# Modeling"
   ]
  },
  {
   "cell_type": "markdown",
   "id": "fed30ed6-8ad4-4685-812c-1cac56852160",
   "metadata": {},
   "source": [
    "### Linear Regression Baseline"
   ]
  },
  {
   "cell_type": "code",
   "execution_count": 33,
   "id": "2b4b7275-9b9c-443d-9927-7fe7b927766c",
   "metadata": {},
   "outputs": [],
   "source": [
    "from sklearn.linear_model import LinearRegression\n",
    "from sklearn import metrics"
   ]
  },
  {
   "cell_type": "code",
   "execution_count": 34,
   "id": "9ade6c1e-76b8-4448-a3c3-6573d94ea706",
   "metadata": {},
   "outputs": [
    {
     "data": {
      "text/plain": [
       "LinearRegression()"
      ]
     },
     "execution_count": 34,
     "metadata": {},
     "output_type": "execute_result"
    }
   ],
   "source": [
    "regressor = LinearRegression()\n",
    "regressor.fit(X_train, y_train)"
   ]
  },
  {
   "cell_type": "code",
   "execution_count": 35,
   "id": "a31fdfd5-8704-46b4-8a2d-af0e87e1de9b",
   "metadata": {},
   "outputs": [],
   "source": [
    "y_pred = regressor.predict(X_val)"
   ]
  },
  {
   "cell_type": "code",
   "execution_count": 36,
   "id": "61aa6822-43a1-4b3b-8884-02cf21ad262b",
   "metadata": {},
   "outputs": [],
   "source": [
    "mae = metrics.mean_absolute_error(y_val, y_pred)\n",
    "mse = metrics.mean_squared_error(y_val, y_pred)\n",
    "rmse = np.sqrt(mse) # or mse**(0.5)  \n",
    "r2 = metrics.r2_score(y_val,y_pred)"
   ]
  },
  {
   "cell_type": "code",
   "execution_count": 37,
   "id": "ab75b751-e911-4c55-be7a-d4116a365e33",
   "metadata": {},
   "outputs": [
    {
     "name": "stdout",
     "output_type": "stream",
     "text": [
      "\n",
      "MAE: 25.537586633206704\n",
      "MSE: 2805.581151576931\n",
      "RMSE: 52.96773689310249\n",
      "r^2: 0.019669983423224013\n",
      "\n"
     ]
    }
   ],
   "source": [
    "print(f'''\n",
    "MAE: {mae}\n",
    "MSE: {mse}\n",
    "RMSE: {rmse}\n",
    "r^2: {r2}\n",
    "''')"
   ]
  },
  {
   "cell_type": "markdown",
   "id": "f9a6be6d-5119-49ab-b301-05aba44e810b",
   "metadata": {},
   "source": [
    "### Polynomial Regression"
   ]
  },
  {
   "cell_type": "code",
   "execution_count": null,
   "id": "66128a57-085a-40ca-a8af-b715c66acc0f",
   "metadata": {},
   "outputs": [],
   "source": []
  },
  {
   "cell_type": "code",
   "execution_count": null,
   "id": "e478fd63-55bc-40ea-9e50-5702be02ca4d",
   "metadata": {},
   "outputs": [],
   "source": []
  },
  {
   "cell_type": "code",
   "execution_count": null,
   "id": "01a37916-80c7-4e3e-929a-42765e6eaa4c",
   "metadata": {},
   "outputs": [],
   "source": []
  },
  {
   "cell_type": "markdown",
   "id": "10493f99-b2d8-4e5e-a9c9-70165fa030b8",
   "metadata": {},
   "source": [
    "### RandomForest Regressor"
   ]
  },
  {
   "cell_type": "code",
   "execution_count": 38,
   "id": "9f64d038-a93f-47e2-a8f7-8ecb6cbf2093",
   "metadata": {},
   "outputs": [],
   "source": [
    "from sklearn import metrics\n",
    "from sklearn.ensemble import RandomForestRegressor"
   ]
  },
  {
   "cell_type": "code",
   "execution_count": 39,
   "id": "7b2afd3d-fed5-438b-a204-8b0bc3493aee",
   "metadata": {},
   "outputs": [],
   "source": [
    "X_train_arr = np.array(X_train)\n",
    "y_train_arr = np.array(y_train)\n",
    "X_val_arr = np.array(X_val)"
   ]
  },
  {
   "cell_type": "code",
   "execution_count": 40,
   "id": "59c15a87-e4fe-47d4-b0f7-cb34ac3bba40",
   "metadata": {},
   "outputs": [
    {
     "data": {
      "text/plain": [
       "RandomForestRegressor(max_depth=110, max_features=3, min_samples_leaf=5,\n",
       "                      min_samples_split=12, n_estimators=1000)"
      ]
     },
     "execution_count": 40,
     "metadata": {},
     "output_type": "execute_result"
    }
   ],
   "source": [
    "clf=RandomForestRegressor(n_estimators=1000, bootstrap=True, max_depth=110, max_features=3, min_samples_leaf=5, min_samples_split=12)\n",
    "clf.fit(X_train_arr,y_train_arr)"
   ]
  },
  {
   "cell_type": "code",
   "execution_count": 41,
   "id": "7438746a-32e9-4841-ad22-54ca3a6e7525",
   "metadata": {},
   "outputs": [],
   "source": [
    "y_pred = clf.predict(X_val_arr)"
   ]
  },
  {
   "cell_type": "code",
   "execution_count": 42,
   "id": "4433b7d8-18b5-4a9b-87c5-63771970fdea",
   "metadata": {},
   "outputs": [],
   "source": [
    "mae = metrics.mean_absolute_error(y_val, y_pred)\n",
    "mse = metrics.mean_squared_error(y_val, y_pred)\n",
    "rmse = np.sqrt(mse) # or mse**(0.5)  \n",
    "r2 = metrics.r2_score(y_val,y_pred)"
   ]
  },
  {
   "cell_type": "code",
   "execution_count": 43,
   "id": "b12cd511-9c6a-4de5-aceb-6d4fc08847e1",
   "metadata": {},
   "outputs": [
    {
     "name": "stdout",
     "output_type": "stream",
     "text": [
      "\n",
      "MAE: 25.150927351246782\n",
      "MSE: 2864.2844099108815\n",
      "RMSE: 53.51900979942437\n",
      "r^2: -0.0008421896726376055\n",
      "\n"
     ]
    }
   ],
   "source": [
    "print(f'''\n",
    "MAE: {mae}\n",
    "MSE: {mse}\n",
    "RMSE: {rmse}\n",
    "r^2: {r2}\n",
    "''')"
   ]
  },
  {
   "cell_type": "code",
   "execution_count": 44,
   "id": "5552c7ef-a6a5-4837-a0d7-5db488a0b4c5",
   "metadata": {},
   "outputs": [],
   "source": [
    "from sklearn.model_selection import GridSearchCV"
   ]
  },
  {
   "cell_type": "code",
   "execution_count": 45,
   "id": "39b93a48-4cca-4927-bf02-090aad2b7963",
   "metadata": {},
   "outputs": [],
   "source": [
    "rf = RandomForestRegressor()"
   ]
  },
  {
   "cell_type": "code",
   "execution_count": null,
   "id": "03b558ed-6d78-41e2-b8d0-7ea0bf5d4193",
   "metadata": {},
   "outputs": [],
   "source": [
    "parameter_candidates = {\n",
    "    'bootstrap': [True],\n",
    "    'max_depth': [80, 90, 100, 110],\n",
    "    'max_features': [2, 3],\n",
    "    'min_samples_leaf': [3, 4, 5],\n",
    "    'min_samples_split': [8, 10, 12],\n",
    "    'n_estimators': [100, 200, 300, 1000]\n",
    "}"
   ]
  },
  {
   "cell_type": "code",
   "execution_count": null,
   "id": "4b34c02e-ab42-42a7-85e5-babd3d5b861f",
   "metadata": {},
   "outputs": [],
   "source": [
    "grid_search = GridSearchCV(estimator = rf, param_grid = parameter_candidates, \n",
    "                          cv = 3, n_jobs = -1, verbose = 2)"
   ]
  },
  {
   "cell_type": "code",
   "execution_count": null,
   "id": "159e9cc3-036b-4252-b895-d77c71f93329",
   "metadata": {},
   "outputs": [],
   "source": [
    "grid_search.fit(X_train, y_train)"
   ]
  },
  {
   "cell_type": "code",
   "execution_count": null,
   "id": "0004334b-1471-48e2-85ea-0fe6a949ee31",
   "metadata": {},
   "outputs": [],
   "source": [
    "grid_search.best_params_"
   ]
  },
  {
   "cell_type": "markdown",
   "id": "02e2bee9-9149-489b-a60b-a84dec5c44fd",
   "metadata": {},
   "source": [
    "### SGD Regressor"
   ]
  },
  {
   "cell_type": "code",
   "execution_count": 27,
   "id": "7cbcfaa0-050f-473b-af9a-e7327134caa5",
   "metadata": {},
   "outputs": [],
   "source": [
    "from sklearn.linear_model import SGDRegressor"
   ]
  },
  {
   "cell_type": "code",
   "execution_count": 31,
   "id": "006e3c0f-c9ea-41b8-8f35-3efde7bcb247",
   "metadata": {},
   "outputs": [
    {
     "name": "stderr",
     "output_type": "stream",
     "text": [
      "/home/mcoffey/anaconda3/envs/lhl_env/lib/python3.8/site-packages/sklearn/linear_model/_stochastic_gradient.py:1503: ConvergenceWarning: Maximum number of iteration reached before convergence. Consider increasing max_iter to improve the fit.\n",
      "  warnings.warn(\n"
     ]
    },
    {
     "data": {
      "text/plain": [
       "SGDRegressor(alpha=0.01, learning_rate='optimal')"
      ]
     },
     "execution_count": 31,
     "metadata": {},
     "output_type": "execute_result"
    }
   ],
   "source": [
    "regressor = SGDRegressor(alpha=0.01, learning_rate='optimal', loss='squared_error', penalty='l2')\n",
    "regressor.fit(df_trainfilter, y_train)"
   ]
  },
  {
   "cell_type": "code",
   "execution_count": 34,
   "id": "7b38bd43-e23c-4335-abab-7d61dfcad813",
   "metadata": {},
   "outputs": [],
   "source": [
    "y_pred = regressor.predict(df_valfilter)"
   ]
  },
  {
   "cell_type": "code",
   "execution_count": 38,
   "id": "59aea106-0499-499a-91d8-4c9a62de9e08",
   "metadata": {},
   "outputs": [],
   "source": [
    "mae = metrics.mean_absolute_error(y_val, y_pred)\n",
    "mse = metrics.mean_squared_error(y_val, y_pred)\n",
    "rmse = np.sqrt(mse) # or mse**(0.5)  \n",
    "r2 = metrics.r2_score(y_val,y_pred)"
   ]
  },
  {
   "cell_type": "code",
   "execution_count": 39,
   "id": "9d35ec62-29c5-4afc-87ce-b42618b4a1fd",
   "metadata": {},
   "outputs": [
    {
     "name": "stdout",
     "output_type": "stream",
     "text": [
      "\n",
      "MAE: 737371.5477624245\n",
      "MSE: 2210834905621.5\n",
      "RMSE: 1486887.6573640322\n",
      "r^2: -772512966.0400873\n",
      "\n"
     ]
    }
   ],
   "source": [
    "print(f'''\n",
    "MAE: {mae}\n",
    "MSE: {mse}\n",
    "RMSE: {rmse}\n",
    "r^2: {r2}\n",
    "''')"
   ]
  },
  {
   "cell_type": "code",
   "execution_count": null,
   "id": "68b2e4c9-b08f-4cfc-9084-7221974a5e16",
   "metadata": {},
   "outputs": [],
   "source": [
    "param_grid = {\n",
    "    'alpha': 10.0 ** -np.arange(1, 7),\n",
    "    'loss': ['squared_loss', 'huber', 'epsilon_insensitive'],\n",
    "    'penalty': ['l2', 'l1', 'elasticnet'],\n",
    "    'learning_rate': ['constant', 'optimal', 'invscaling'],\n",
    "}"
   ]
  },
  {
   "cell_type": "code",
   "execution_count": null,
   "id": "ba3d4f09-caa3-4aaa-bb89-eeb15b71ee16",
   "metadata": {},
   "outputs": [],
   "source": [
    "grid_search = GridSearchCV(estimator = regressor, param_grid = param_grid,\n",
    "                          cv = 3, n_jobs = -1, verbose = 2)"
   ]
  },
  {
   "cell_type": "code",
   "execution_count": null,
   "id": "1a9a4b1a-bf3c-4737-b515-586d0c76b1df",
   "metadata": {},
   "outputs": [],
   "source": [
    "grid_search.fit(X_train, y_train)"
   ]
  },
  {
   "cell_type": "code",
   "execution_count": null,
   "id": "67e1a413-26d7-4d27-8672-94e59fc76cee",
   "metadata": {},
   "outputs": [],
   "source": [
    "grid_search.best_params_"
   ]
  },
  {
   "cell_type": "code",
   "execution_count": null,
   "id": "456252ba-629f-4926-a3b9-1395ec9eec36",
   "metadata": {},
   "outputs": [],
   "source": [
    "grid_search.best_score_"
   ]
  },
  {
   "cell_type": "code",
   "execution_count": null,
   "id": "426ab330-46a9-4e56-903c-c6a9281b7ade",
   "metadata": {},
   "outputs": [],
   "source": []
  }
 ],
 "metadata": {
  "kernelspec": {
   "display_name": "lhl_env",
   "language": "python",
   "name": "lhl_env"
  },
  "language_info": {
   "codemirror_mode": {
    "name": "ipython",
    "version": 3
   },
   "file_extension": ".py",
   "mimetype": "text/x-python",
   "name": "python",
   "nbconvert_exporter": "python",
   "pygments_lexer": "ipython3",
   "version": "3.8.2"
  }
 },
 "nbformat": 4,
 "nbformat_minor": 5
}
