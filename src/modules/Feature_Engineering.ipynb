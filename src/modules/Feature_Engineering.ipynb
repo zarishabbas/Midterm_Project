{
 "cells": [
  {
   "cell_type": "code",
   "execution_count": 1,
   "id": "91357e79-e024-4c4b-a33f-e67bad4f2d93",
   "metadata": {},
   "outputs": [],
   "source": [
    "import pandas as pd\n",
    "import numpy as np"
   ]
  },
  {
   "cell_type": "code",
   "execution_count": 36,
   "id": "464fcfcb-289f-499c-94bb-00d86376bfc5",
   "metadata": {},
   "outputs": [],
   "source": [
    "def round_hour(row, variable):\n",
    "    if int(row[variable + '_min']) > 30:\n",
    "        return int(row[variable +'_hour']) + 1\n",
    "    else:\n",
    "        return int(row[variable +'_hour'])"
   ]
  },
  {
   "cell_type": "code",
   "execution_count": 35,
   "id": "118d7521-8646-4cb8-8bf8-a08be72e14f4",
   "metadata": {},
   "outputs": [],
   "source": [
    "def get_cyclical_time(variable):\n",
    "    df[variable]= df[variable].replace([2400],0)\n",
    "    df[variable] = df[variable].astype(int).astype(str).str.zfill(4) \n",
    "    df[variable] = pd.to_datetime(df[variable], format='%H%M')\n",
    "    df[variable +'_hour'] = df[variable].dt.hour\n",
    "    df[variable + '_min'] = df[variable].dt.minute\n",
    "    df[variable +'_hour'] = df.apply(lambda x: round_hour(x, variable), axis=1)\n",
    "    df['sin_' + variable] = np.sin(df[variable +'_hour'])\n",
    "    df['cos_' + variable] = np.cos(df[variable +'_hour'])"
   ]
  },
  {
   "cell_type": "code",
   "execution_count": 42,
   "id": "45d3ab98-e9ce-4db3-889a-e0a62d8a872a",
   "metadata": {},
   "outputs": [],
   "source": [
    "def is_delayed(row):\n",
    "    if row['arr_delay'] <= 15:\n",
    "        return 0\n",
    "    else:\n",
    "        return 1\n",
    "\n",
    "def how_delayed(row):\n",
    "    if row['arr_delay'] <= 15:\n",
    "        return 0\n",
    "    else:\n",
    "        return row['arr_delay']"
   ]
  },
  {
   "cell_type": "code",
   "execution_count": 1,
   "id": "d486a9d6-9b1c-42aa-a86a-447e9280cff5",
   "metadata": {},
   "outputs": [],
   "source": [
    "def get_features(path, tvt, csv):\n",
    "    df = pd.read_csv(path + csv)\n",
    "    df['fl_date'] = pd.to_datetime(df['fl_date'])\n",
    "    df['date']= df['fl_date'].dt.day\n",
    "    df['weekday'] = df['fl_date'].dt.dayofweek\n",
    "    df['sin_weekday'] = np.sin(df['weekday'])\n",
    "    df['cos_weekday'] = np.cos(df['weekday'])\n",
    "    get_cyclical_time('crs_dep_time')\n",
    "    get_cyclical_time('dep_time')\n",
    "    get_cyclical_time('crs_arr_time')\n",
    "    get_cyclical_time('arr_time')\n",
    "    df['delayed'] = df.apply(lambda x: is_delayed(x), axis=1)\n",
    "    df['delay'] = df.apply(lambda x: how_delayed(x), axis=1)\n",
    "    # average departure delay and number of fligths per carrier\n",
    "    df = df.join(df.groupby('op_unique_carrier').mean()['dep_delay'], on='op_unique_carrier', rsuffix='carrier_dep_delay')\n",
    "    df = df.join(df.groupby('op_unique_carrier').count()['fl_date'], on='op_unique_carrier', rsuffix='carrier_flight_count')\n",
    "    # average departure delay and number of flights per origin\n",
    "    df = df.join(df.groupby('origin').mean()['dep_delay'], on='origin', rsuffix='origin_dep_delay')\n",
    "    df = df.join(df.groupby('origin').count()['fl_date'], on='origin', rsuffix='origin_flight_count')\n",
    "    # average departure delay and number of flights per destination\n",
    "    df = df.join(df.groupby('dest').mean()['dep_delay'], on='dest', rsuffix='dest_dep_delay')\n",
    "    df = df.join(df.groupby('dest').count()['fl_date'], on='dest', rsuffix='dest_flight_count')\n",
    "    # average arrival delay per carrier, origin and destination\n",
    "    df = df.join(df.groupby('op_unique_carrier').mean()['arr_delay'], on='op_unique_carrier', rsuffix='carrier_arr_delay')\n",
    "    df = df.join(df.groupby('origin').mean()['arr_delay'], on='origin', rsuffix='origin_arr_delay')\n",
    "    df = df.join(df.groupby('dest').mean()['arr_delay'], on='dest', rsuffix='dest_arr_delay')\n",
    "    # average arrival delay and number of flights per hour(Dep)\n",
    "    df = df.join(df.groupby('crs_dep_time_hour').mean()['arr_delay'], on='crs_dep_time_hour', rsuffix='hourly_arr_delay')\n",
    "    df = df.join(df.groupby('crs_dep_time_hour').count()['arr_delay'], on='crs_dep_time_hour', rsuffix='hourly_flight_count')\n",
    "    # average departure delay and number of flights per hour(Dep)\n",
    "    df = df.join(df.groupby('crs_dep_time_hour').mean()['dep_delay'], on='crs_dep_time_hour', rsuffix='hourly_dep_delay')\n",
    "    # average arrival delay and number of flights per hour (per origin and per carrier)\n",
    "    df = df.join(df.groupby(['crs_hour_dep', 'origin']).mean()['arr_delay'], on=['crs_hour_dep', 'origin'], rsuffix='dephourly_arrdelay_origin')\n",
    "    df = df.join(df.groupby(['crs_hour_dep', 'op_unique_carrier']).mean()['arr_delay'], on=['crs_hour_dep', 'op_unique_carrier'], rsuffix='dephourly_arrdelay_carrier')\n",
    "    # average arrival delay and number of flights per hour (per origin and per carrier)\n",
    "    df = df.join(df.groupby(['crs_hour_dep', 'origin']).mean()['dep_delay'], on=['crs_hour_dep', 'origin'], rsuffix='dephourly_depdelay_origin')\n",
    "    df = df.join(df.groupby(['crs_hour_dep', 'op_unique_carrier']).mean()['dep_delay'], on=['crs_hour_dep', 'op_unique_carrier'], rsuffix='dephourly_depdelay_carrier')\n",
    "    df.to_csv(f'{path}engineered_{csv}', index=None)"
   ]
  },
  {
   "cell_type": "code",
   "execution_count": 39,
   "id": "b84b4645-7ee3-4155-b106-7b45a30fe882",
   "metadata": {},
   "outputs": [],
   "source": []
  },
  {
   "cell_type": "code",
   "execution_count": 40,
   "id": "0afe6c94-a8fc-4e21-b222-ca163be0e5ef",
   "metadata": {},
   "outputs": [],
   "source": []
  },
  {
   "cell_type": "code",
   "execution_count": null,
   "id": "4d252029-7221-455b-a733-3b04216108ad",
   "metadata": {},
   "outputs": [],
   "source": []
  }
 ],
 "metadata": {
  "kernelspec": {
   "display_name": "Python 3 (ipykernel)",
   "language": "python",
   "name": "python3"
  },
  "language_info": {
   "codemirror_mode": {
    "name": "ipython",
    "version": 3
   },
   "file_extension": ".py",
   "mimetype": "text/x-python",
   "name": "python",
   "nbconvert_exporter": "python",
   "pygments_lexer": "ipython3",
   "version": "3.9.7"
  }
 },
 "nbformat": 4,
 "nbformat_minor": 5
}
