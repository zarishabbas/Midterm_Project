{
 "cells": [
  {
   "cell_type": "code",
   "execution_count": 2,
   "id": "c8e7ad42-e197-4657-957d-8730d0a3855b",
   "metadata": {},
   "outputs": [],
   "source": [
    "import pandas as pd\n",
    "import numpy as np\n",
    "import seaborn as sns\n",
    "import pickle\n",
    "import matplotlib.pyplot as plt\n",
    "%matplotlib inline\n",
    "from sklearn.preprocessing import StandardScaler\n",
    "from sklearn.linear_model import LinearRegression\n",
    "from sklearn.linear_model import Lasso\n",
    "from sklearn import svm\n",
    "from sklearn.metrics import mean_absolute_error, mean_squared_error, r2_score"
   ]
  },
  {
   "cell_type": "markdown",
   "id": "2b7e3414-9e6b-470a-bfe2-02cf0b9aa42a",
   "metadata": {},
   "source": [
    "#### loading data, dropping columns"
   ]
  },
  {
   "cell_type": "code",
   "execution_count": 3,
   "id": "41a8403b-5136-44f1-bd85-20513b06369e",
   "metadata": {},
   "outputs": [],
   "source": [
    "df_train = pd.read_csv('final2/Training/train_engineered_cleaned_merged_flights_Jan_2w.csv')\n",
    "df_test = pd.read_csv('final2/Validation/vali_engineered_cleaned_merged_flights_Jan_2w.csv')\n",
    "dftrain_cat = df_train[['op_unique_carrier', 'origin', 'dest']]\n",
    "dftest_cat = df_test[['op_unique_carrier', 'origin', 'dest']]\n",
    "df_train.drop(['arr_time_hour', 'arr_time_min', 'cos_arr_time', 'cos_dep_time',\n",
    "        'dep_time_hour', 'dep_time_min', 'sin_arr_time',\n",
    "       'sin_dep_time', 'op_unique_carrier', 'origin', 'dest', 'fl_date','crs_dep_time','dep_time','crs_arr_time','arr_time','numflights','numstrikes', 'weekday',\n",
    "        'crs_dep_time_hour','crs_dep_time_min','dep_time_hour','dep_time_min','crs_arr_time_hour',\n",
    "        'crs_arr_time_min','arr_time_hour','arr_time_min', 'dep_time', 'dep_delay', 'late_aircraft_delay', \n",
    "        'weather_delay', 'arr_delay'], axis=1, inplace=True)\n",
    "\n",
    "df_test.drop(['origin', 'dest', 'fl_date', \n",
    "       'numflights', 'numstrikes', 'crs_arr_time', 'crs_arr_time_hour', 'crs_arr_time_min', 'crs_dep_time',\n",
    "       'crs_dep_time_hour', 'crs_dep_time_min','op_unique_carrier', 'weekday'], axis=1, inplace=True)\n",
    "\n",
    "df_test.rename(columns={'dep_delay': 'DelayD_carrier'}, inplace=True)\n",
    "df_test = df_test.dropna()"
   ]
  },
  {
   "cell_type": "code",
   "execution_count": 91,
   "id": "d02db7ef-4412-4bec-85f7-fd44d57dbb25",
   "metadata": {},
   "outputs": [
    {
     "name": "stderr",
     "output_type": "stream",
     "text": [
      "/tmp/ipykernel_5230/1315710462.py:1: FutureWarning: Index.__xor__ operating as a set operation is deprecated, in the future this will be a logical operation matching Series.__xor__.  Use index.symmetric_difference(other) instead\n",
      "  (df_test.columns^df_train.columns)&df_train.columns\n",
      "/tmp/ipykernel_5230/1315710462.py:1: FutureWarning: Index.__and__ operating as a set operation is deprecated, in the future this will be a logical operation matching Series.__and__.  Use index.intersection(other) instead\n",
      "  (df_test.columns^df_train.columns)&df_train.columns\n"
     ]
    },
    {
     "data": {
      "text/plain": [
       "Index(['delay', 'delayed'], dtype='object')"
      ]
     },
     "execution_count": 91,
     "metadata": {},
     "output_type": "execute_result"
    }
   ],
   "source": [
    "(df_test.columns^df_train.columns)&df_train.columns"
   ]
  },
  {
   "cell_type": "markdown",
   "id": "aa5673f1-1939-4158-8585-9ceadbf4f91e",
   "metadata": {},
   "source": [
    "## test with delay instead of arr_delay"
   ]
  },
  {
   "cell_type": "code",
   "execution_count": 6,
   "id": "669bb91d-22e7-4c69-88ed-67f2dacf4394",
   "metadata": {},
   "outputs": [],
   "source": [
    "def how_delayed(row):\n",
    "    if row['arr_delay'] <= 15:\n",
    "        return 0\n",
    "    else:\n",
    "        return row['arr_delay']"
   ]
  },
  {
   "cell_type": "code",
   "execution_count": 7,
   "id": "39d84464-e79c-4c4f-bb26-20649037a5d3",
   "metadata": {},
   "outputs": [],
   "source": [
    "df_test['delay'] = df_test.apply(lambda x: how_delayed(x), axis=1)"
   ]
  },
  {
   "cell_type": "code",
   "execution_count": 108,
   "id": "94ea5194-d88a-4274-aa11-0879e1b0f2d2",
   "metadata": {},
   "outputs": [],
   "source": [
    "prerem = df_train.columns \n",
    "preremtest = df_test.columns "
   ]
  },
  {
   "cell_type": "markdown",
   "id": "8062ff9c-55de-4d23-8bed-830cbead643d",
   "metadata": {},
   "source": [
    "#### remove covarying features and transform to z-scores"
   ]
  },
  {
   "cell_type": "code",
   "execution_count": 8,
   "id": "29ad39e3-ee78-4739-afaa-8119f90993da",
   "metadata": {},
   "outputs": [],
   "source": [
    "columns_num =  ['delay', 'distance', 'num_flights_carrier', 'num_flights_origin', 'DelayD_origin_hourly',\n",
    "       'DelayD_carrier_hourly']\n",
    "df_train[columns_num] = df_train[columns_num].mask((df_train[columns_num]  - df_train[columns_num].mean()).abs() > 3 * df_train[columns_num].std())\n",
    "df_test[columns_num] = df_test[columns_num].mask((df_test[columns_num]  - df_test[columns_num].mean()).abs() > 3 * df_test[columns_num].std())\n",
    "df_train.dropna(inplace=True)\n",
    "df_test.dropna(inplace=True)\n",
    "df_trainfilter = df_train.copy()\n",
    "df_valfilter = df_test.copy()\n",
    "\n",
    "y_train = df_trainfilter['delay']\n",
    "y_test = df_valfilter['delay']\n",
    "df_trainfilter.drop(['delay', 'delayed'], axis=1, inplace=True)\n",
    "df_valfilter.drop(['arr_delay' ,'delay'], axis=1, inplace=True)\n",
    "\n",
    "# create correlation matrix\n",
    "\n",
    "df_traincorr = df_trainfilter.corr().abs()\n",
    "df_valcorr = df_valfilter.corr().abs()\n",
    "\n",
    "# iterate thru and find pairs with correlation > 0.8\n",
    "\n",
    "trainindices = np.where(df_traincorr > 0.8) \n",
    "trainindices = [(df_traincorr.index[x], df_traincorr.columns[y]) \n",
    "for x, y in zip(*trainindices)\n",
    "    if x != y and x < y]\n",
    "\n",
    "\n",
    "# drop pairs found in last step\n",
    "\n",
    "for idx in trainindices: #each pair\n",
    "    try:\n",
    "        df_trainfilter.drop(idx[1], axis = 1, inplace=True)\n",
    "        df_valfilter.drop(idx[1], axis = 1, inplace=True)\n",
    "    except KeyError:\n",
    "        pass\n",
    "    \n",
    "\n",
    "X_train = df_trainfilter\n",
    "X_test = df_valfilter\n",
    "\n",
    "scaler = StandardScaler()\n",
    "XZ_train = scaler.fit_transform(X_train)\n",
    "XZ_test = scaler.transform(X_test)"
   ]
  },
  {
   "cell_type": "code",
   "execution_count": 96,
   "id": "590dec42-ada5-4270-8c0b-ca9058a7833e",
   "metadata": {},
   "outputs": [
    {
     "data": {
      "text/html": [
       "<div>\n",
       "<style scoped>\n",
       "    .dataframe tbody tr th:only-of-type {\n",
       "        vertical-align: middle;\n",
       "    }\n",
       "\n",
       "    .dataframe tbody tr th {\n",
       "        vertical-align: top;\n",
       "    }\n",
       "\n",
       "    .dataframe thead th {\n",
       "        text-align: right;\n",
       "    }\n",
       "</style>\n",
       "<table border=\"1\" class=\"dataframe\">\n",
       "  <thead>\n",
       "    <tr style=\"text-align: right;\">\n",
       "      <th></th>\n",
       "      <th>distance</th>\n",
       "      <th>strikeprob</th>\n",
       "      <th>percentflights</th>\n",
       "      <th>region_N</th>\n",
       "      <th>region_O</th>\n",
       "      <th>region_S</th>\n",
       "      <th>region_W</th>\n",
       "      <th>man_Aerospatiale/alenia</th>\n",
       "      <th>man_Air Tractor Inc</th>\n",
       "      <th>man_Airbus</th>\n",
       "      <th>...</th>\n",
       "      <th>cos_crs_arr_time</th>\n",
       "      <th>DelayD_carrier</th>\n",
       "      <th>num_flights_carrier</th>\n",
       "      <th>DelayD_origin</th>\n",
       "      <th>DelayD_dest</th>\n",
       "      <th>num_flights_dest</th>\n",
       "      <th>DelayA_hourly</th>\n",
       "      <th>num_flights_hourly</th>\n",
       "      <th>DelayA_origin_hourly</th>\n",
       "      <th>DelayA_carrier_hourly</th>\n",
       "    </tr>\n",
       "  </thead>\n",
       "  <tbody>\n",
       "    <tr>\n",
       "      <th>0</th>\n",
       "      <td>828.0</td>\n",
       "      <td>0.004772</td>\n",
       "      <td>0.004266</td>\n",
       "      <td>0</td>\n",
       "      <td>0</td>\n",
       "      <td>1</td>\n",
       "      <td>0</td>\n",
       "      <td>0.0</td>\n",
       "      <td>0.0</td>\n",
       "      <td>0.0</td>\n",
       "      <td>...</td>\n",
       "      <td>0.136737</td>\n",
       "      <td>8.110217</td>\n",
       "      <td>10536</td>\n",
       "      <td>14.175439</td>\n",
       "      <td>24.569832</td>\n",
       "      <td>1465</td>\n",
       "      <td>5.101982</td>\n",
       "      <td>5916</td>\n",
       "      <td>8.911111</td>\n",
       "      <td>-2.111041</td>\n",
       "    </tr>\n",
       "    <tr>\n",
       "      <th>1</th>\n",
       "      <td>129.0</td>\n",
       "      <td>0.010067</td>\n",
       "      <td>0.023722</td>\n",
       "      <td>0</td>\n",
       "      <td>0</td>\n",
       "      <td>0</td>\n",
       "      <td>1</td>\n",
       "      <td>0.0</td>\n",
       "      <td>0.0</td>\n",
       "      <td>0.0</td>\n",
       "      <td>...</td>\n",
       "      <td>-0.145500</td>\n",
       "      <td>4.106047</td>\n",
       "      <td>1494</td>\n",
       "      <td>5.798352</td>\n",
       "      <td>6.771788</td>\n",
       "      <td>1101</td>\n",
       "      <td>1.618029</td>\n",
       "      <td>6207</td>\n",
       "      <td>-1.650847</td>\n",
       "      <td>2.559091</td>\n",
       "    </tr>\n",
       "    <tr>\n",
       "      <th>2</th>\n",
       "      <td>2500.0</td>\n",
       "      <td>0.019247</td>\n",
       "      <td>0.020046</td>\n",
       "      <td>1</td>\n",
       "      <td>0</td>\n",
       "      <td>0</td>\n",
       "      <td>0</td>\n",
       "      <td>0.0</td>\n",
       "      <td>0.0</td>\n",
       "      <td>0.0</td>\n",
       "      <td>...</td>\n",
       "      <td>-0.532833</td>\n",
       "      <td>10.985462</td>\n",
       "      <td>7576</td>\n",
       "      <td>20.626907</td>\n",
       "      <td>9.248412</td>\n",
       "      <td>694</td>\n",
       "      <td>11.809281</td>\n",
       "      <td>5007</td>\n",
       "      <td>19.674528</td>\n",
       "      <td>7.735955</td>\n",
       "    </tr>\n",
       "    <tr>\n",
       "      <th>3</th>\n",
       "      <td>448.0</td>\n",
       "      <td>0.007340</td>\n",
       "      <td>0.020279</td>\n",
       "      <td>0</td>\n",
       "      <td>0</td>\n",
       "      <td>0</td>\n",
       "      <td>0</td>\n",
       "      <td>0.0</td>\n",
       "      <td>0.0</td>\n",
       "      <td>0.0</td>\n",
       "      <td>...</td>\n",
       "      <td>0.753902</td>\n",
       "      <td>11.132506</td>\n",
       "      <td>17294</td>\n",
       "      <td>7.079280</td>\n",
       "      <td>12.018841</td>\n",
       "      <td>898</td>\n",
       "      <td>1.523037</td>\n",
       "      <td>6104</td>\n",
       "      <td>-10.666667</td>\n",
       "      <td>-5.161731</td>\n",
       "    </tr>\n",
       "    <tr>\n",
       "      <th>4</th>\n",
       "      <td>930.0</td>\n",
       "      <td>0.009317</td>\n",
       "      <td>0.004173</td>\n",
       "      <td>0</td>\n",
       "      <td>0</td>\n",
       "      <td>1</td>\n",
       "      <td>0</td>\n",
       "      <td>0.0</td>\n",
       "      <td>0.0</td>\n",
       "      <td>0.0</td>\n",
       "      <td>...</td>\n",
       "      <td>-0.957659</td>\n",
       "      <td>11.132506</td>\n",
       "      <td>17294</td>\n",
       "      <td>15.821835</td>\n",
       "      <td>10.932830</td>\n",
       "      <td>570</td>\n",
       "      <td>7.830983</td>\n",
       "      <td>5745</td>\n",
       "      <td>8.987654</td>\n",
       "      <td>6.345068</td>\n",
       "    </tr>\n",
       "    <tr>\n",
       "      <th>...</th>\n",
       "      <td>...</td>\n",
       "      <td>...</td>\n",
       "      <td>...</td>\n",
       "      <td>...</td>\n",
       "      <td>...</td>\n",
       "      <td>...</td>\n",
       "      <td>...</td>\n",
       "      <td>...</td>\n",
       "      <td>...</td>\n",
       "      <td>...</td>\n",
       "      <td>...</td>\n",
       "      <td>...</td>\n",
       "      <td>...</td>\n",
       "      <td>...</td>\n",
       "      <td>...</td>\n",
       "      <td>...</td>\n",
       "      <td>...</td>\n",
       "      <td>...</td>\n",
       "      <td>...</td>\n",
       "      <td>...</td>\n",
       "      <td>...</td>\n",
       "    </tr>\n",
       "    <tr>\n",
       "      <th>96228</th>\n",
       "      <td>573.0</td>\n",
       "      <td>0.003136</td>\n",
       "      <td>0.002652</td>\n",
       "      <td>0</td>\n",
       "      <td>0</td>\n",
       "      <td>0</td>\n",
       "      <td>1</td>\n",
       "      <td>0.0</td>\n",
       "      <td>0.0</td>\n",
       "      <td>0.0</td>\n",
       "      <td>...</td>\n",
       "      <td>-0.275163</td>\n",
       "      <td>7.628542</td>\n",
       "      <td>1248</td>\n",
       "      <td>18.282187</td>\n",
       "      <td>10.890298</td>\n",
       "      <td>1791</td>\n",
       "      <td>8.802185</td>\n",
       "      <td>5482</td>\n",
       "      <td>5.877551</td>\n",
       "      <td>15.395000</td>\n",
       "    </tr>\n",
       "    <tr>\n",
       "      <th>96229</th>\n",
       "      <td>1715.0</td>\n",
       "      <td>0.007817</td>\n",
       "      <td>0.008406</td>\n",
       "      <td>0</td>\n",
       "      <td>0</td>\n",
       "      <td>0</td>\n",
       "      <td>1</td>\n",
       "      <td>0.0</td>\n",
       "      <td>0.0</td>\n",
       "      <td>0.0</td>\n",
       "      <td>...</td>\n",
       "      <td>-0.957659</td>\n",
       "      <td>11.132506</td>\n",
       "      <td>17294</td>\n",
       "      <td>8.147135</td>\n",
       "      <td>12.018841</td>\n",
       "      <td>898</td>\n",
       "      <td>3.737804</td>\n",
       "      <td>6096</td>\n",
       "      <td>-2.739496</td>\n",
       "      <td>0.530988</td>\n",
       "    </tr>\n",
       "    <tr>\n",
       "      <th>96230</th>\n",
       "      <td>585.0</td>\n",
       "      <td>0.036745</td>\n",
       "      <td>0.049416</td>\n",
       "      <td>0</td>\n",
       "      <td>0</td>\n",
       "      <td>0</td>\n",
       "      <td>0</td>\n",
       "      <td>0.0</td>\n",
       "      <td>0.0</td>\n",
       "      <td>0.0</td>\n",
       "      <td>...</td>\n",
       "      <td>0.660317</td>\n",
       "      <td>15.475187</td>\n",
       "      <td>2582</td>\n",
       "      <td>18.685498</td>\n",
       "      <td>11.494275</td>\n",
       "      <td>216</td>\n",
       "      <td>8.802185</td>\n",
       "      <td>5482</td>\n",
       "      <td>15.768041</td>\n",
       "      <td>8.776961</td>\n",
       "    </tr>\n",
       "    <tr>\n",
       "      <th>96231</th>\n",
       "      <td>1107.0</td>\n",
       "      <td>0.000000</td>\n",
       "      <td>0.000393</td>\n",
       "      <td>0</td>\n",
       "      <td>1</td>\n",
       "      <td>0</td>\n",
       "      <td>0</td>\n",
       "      <td>0.0</td>\n",
       "      <td>0.0</td>\n",
       "      <td>0.0</td>\n",
       "      <td>...</td>\n",
       "      <td>0.988705</td>\n",
       "      <td>11.307594</td>\n",
       "      <td>11614</td>\n",
       "      <td>8.074468</td>\n",
       "      <td>10.314575</td>\n",
       "      <td>1265</td>\n",
       "      <td>10.809011</td>\n",
       "      <td>5874</td>\n",
       "      <td>-8.600000</td>\n",
       "      <td>7.512210</td>\n",
       "    </tr>\n",
       "    <tr>\n",
       "      <th>96232</th>\n",
       "      <td>1814.0</td>\n",
       "      <td>0.009067</td>\n",
       "      <td>0.006500</td>\n",
       "      <td>0</td>\n",
       "      <td>0</td>\n",
       "      <td>0</td>\n",
       "      <td>0</td>\n",
       "      <td>0.0</td>\n",
       "      <td>0.0</td>\n",
       "      <td>1.0</td>\n",
       "      <td>...</td>\n",
       "      <td>0.988705</td>\n",
       "      <td>11.307594</td>\n",
       "      <td>11614</td>\n",
       "      <td>11.278490</td>\n",
       "      <td>11.728183</td>\n",
       "      <td>3230</td>\n",
       "      <td>10.809011</td>\n",
       "      <td>5874</td>\n",
       "      <td>11.586207</td>\n",
       "      <td>7.512210</td>\n",
       "    </tr>\n",
       "  </tbody>\n",
       "</table>\n",
       "<p>90389 rows × 55 columns</p>\n",
       "</div>"
      ],
      "text/plain": [
       "       distance  strikeprob  percentflights  region_N  region_O  region_S  \\\n",
       "0         828.0    0.004772        0.004266         0         0         1   \n",
       "1         129.0    0.010067        0.023722         0         0         0   \n",
       "2        2500.0    0.019247        0.020046         1         0         0   \n",
       "3         448.0    0.007340        0.020279         0         0         0   \n",
       "4         930.0    0.009317        0.004173         0         0         1   \n",
       "...         ...         ...             ...       ...       ...       ...   \n",
       "96228     573.0    0.003136        0.002652         0         0         0   \n",
       "96229    1715.0    0.007817        0.008406         0         0         0   \n",
       "96230     585.0    0.036745        0.049416         0         0         0   \n",
       "96231    1107.0    0.000000        0.000393         0         1         0   \n",
       "96232    1814.0    0.009067        0.006500         0         0         0   \n",
       "\n",
       "       region_W  man_Aerospatiale/alenia  man_Air Tractor Inc  man_Airbus  \\\n",
       "0             0                      0.0                  0.0         0.0   \n",
       "1             1                      0.0                  0.0         0.0   \n",
       "2             0                      0.0                  0.0         0.0   \n",
       "3             0                      0.0                  0.0         0.0   \n",
       "4             0                      0.0                  0.0         0.0   \n",
       "...         ...                      ...                  ...         ...   \n",
       "96228         1                      0.0                  0.0         0.0   \n",
       "96229         1                      0.0                  0.0         0.0   \n",
       "96230         0                      0.0                  0.0         0.0   \n",
       "96231         0                      0.0                  0.0         0.0   \n",
       "96232         0                      0.0                  0.0         1.0   \n",
       "\n",
       "       ...  cos_crs_arr_time  DelayD_carrier  num_flights_carrier  \\\n",
       "0      ...          0.136737        8.110217                10536   \n",
       "1      ...         -0.145500        4.106047                 1494   \n",
       "2      ...         -0.532833       10.985462                 7576   \n",
       "3      ...          0.753902       11.132506                17294   \n",
       "4      ...         -0.957659       11.132506                17294   \n",
       "...    ...               ...             ...                  ...   \n",
       "96228  ...         -0.275163        7.628542                 1248   \n",
       "96229  ...         -0.957659       11.132506                17294   \n",
       "96230  ...          0.660317       15.475187                 2582   \n",
       "96231  ...          0.988705       11.307594                11614   \n",
       "96232  ...          0.988705       11.307594                11614   \n",
       "\n",
       "       DelayD_origin  DelayD_dest  num_flights_dest  DelayA_hourly  \\\n",
       "0          14.175439    24.569832              1465       5.101982   \n",
       "1           5.798352     6.771788              1101       1.618029   \n",
       "2          20.626907     9.248412               694      11.809281   \n",
       "3           7.079280    12.018841               898       1.523037   \n",
       "4          15.821835    10.932830               570       7.830983   \n",
       "...              ...          ...               ...            ...   \n",
       "96228      18.282187    10.890298              1791       8.802185   \n",
       "96229       8.147135    12.018841               898       3.737804   \n",
       "96230      18.685498    11.494275               216       8.802185   \n",
       "96231       8.074468    10.314575              1265      10.809011   \n",
       "96232      11.278490    11.728183              3230      10.809011   \n",
       "\n",
       "       num_flights_hourly  DelayA_origin_hourly  DelayA_carrier_hourly  \n",
       "0                    5916              8.911111              -2.111041  \n",
       "1                    6207             -1.650847               2.559091  \n",
       "2                    5007             19.674528               7.735955  \n",
       "3                    6104            -10.666667              -5.161731  \n",
       "4                    5745              8.987654               6.345068  \n",
       "...                   ...                   ...                    ...  \n",
       "96228                5482              5.877551              15.395000  \n",
       "96229                6096             -2.739496               0.530988  \n",
       "96230                5482             15.768041               8.776961  \n",
       "96231                5874             -8.600000               7.512210  \n",
       "96232                5874             11.586207               7.512210  \n",
       "\n",
       "[90389 rows x 55 columns]"
      ]
     },
     "execution_count": 96,
     "metadata": {},
     "output_type": "execute_result"
    }
   ],
   "source": [
    "X_test"
   ]
  },
  {
   "cell_type": "code",
   "execution_count": 56,
   "id": "47afb685-7605-4f0a-a6f1-422fce18bc04",
   "metadata": {},
   "outputs": [
    {
     "data": {
      "text/plain": [
       "Index(['distance', 'strikeprob', 'percentflights', 'region_N', 'region_O',\n",
       "       'region_S', 'region_W', 'man_Aerospatiale/alenia',\n",
       "       'man_Air Tractor Inc', 'man_Airbus', 'man_American Champion Aircraft',\n",
       "       'man_Atr-gie Avions De Transport', 'man_Avions De Transport Regional',\n",
       "       'man_Bell Helicopter Textron Canada', 'man_Benham John', 'man_Boeing',\n",
       "       'man_Bombardier', 'man_Canadair', 'man_Cessna',\n",
       "       'man_Cirrus Design Corp', 'man_Dassault', 'man_De Havilland Canada',\n",
       "       'man_Diamond Aircraft Ind Gmbh', 'man_Eads/alenia Atr',\n",
       "       'man_Ela Aviacion', 'man_Embraer', 'man_Grumman',\n",
       "       'man_Gulfstream Aerospace', 'man_Mcdonnell Douglas',\n",
       "       'man_Mooney Aircraft Corp.', 'man_Pilatus', 'man_Piper',\n",
       "       'man_Quest Aircraft Company Llc', 'man_Robinson Helicopter Co',\n",
       "       'man_Saab', 'man_Socata', 'man_Tremble Jason M', 'aircraft_age',\n",
       "       'type_large_airport', 'type_medium_airport', 'type_small_airport',\n",
       "       'date', 'sin_weekday', 'cos_weekday', 'sin_crs_dep_time',\n",
       "       'cos_crs_dep_time', 'sin_crs_arr_time', 'cos_crs_arr_time', 'delayed',\n",
       "       'delay', 'DelayD_carrier', 'num_flights_carrier', 'DelayD_origin',\n",
       "       'num_flights_origin', 'DelayD_dest', 'num_flights_dest',\n",
       "       'DelayA_carrier', 'DelayA_origin', 'DelayA_dest', 'DelayA_hourly',\n",
       "       'num_flights_hourly', 'DelayD_hourly', 'DelayA_origin_hourly',\n",
       "       'DelayA_carrier_hourly', 'DelayD_origin_hourly',\n",
       "       'DelayD_carrier_hourly'],\n",
       "      dtype='object')"
      ]
     },
     "execution_count": 56,
     "metadata": {},
     "output_type": "execute_result"
    }
   ],
   "source": [
    "prerem"
   ]
  },
  {
   "cell_type": "code",
   "execution_count": 97,
   "id": "8269d1ac-5ce5-4252-a37a-1aa23c6f6df4",
   "metadata": {},
   "outputs": [
    {
     "name": "stderr",
     "output_type": "stream",
     "text": [
      "/tmp/ipykernel_5230/913826926.py:1: FutureWarning: Index.__xor__ operating as a set operation is deprecated, in the future this will be a logical operation matching Series.__xor__.  Use index.symmetric_difference(other) instead\n",
      "  prerem ^df_trainfilter.columns\n"
     ]
    },
    {
     "data": {
      "text/plain": [
       "Index(['DelayA_carrier', 'DelayA_dest', 'DelayA_origin',\n",
       "       'DelayD_carrier_hourly', 'DelayD_hourly', 'DelayD_origin_hourly',\n",
       "       'delay', 'delayed', 'num_flights_origin', 'type_medium_airport'],\n",
       "      dtype='object')"
      ]
     },
     "execution_count": 97,
     "metadata": {},
     "output_type": "execute_result"
    }
   ],
   "source": [
    "prerem ^df_trainfilter.columns"
   ]
  },
  {
   "cell_type": "code",
   "execution_count": 80,
   "id": "dbbd342a-46d2-45ac-a924-10c0ac364e65",
   "metadata": {},
   "outputs": [
    {
     "name": "stderr",
     "output_type": "stream",
     "text": [
      "/tmp/ipykernel_5230/693546722.py:1: FutureWarning: Index.__xor__ operating as a set operation is deprecated, in the future this will be a logical operation matching Series.__xor__.  Use index.symmetric_difference(other) instead\n",
      "  (X_train.columns^X_test.columns)\n"
     ]
    },
    {
     "data": {
      "text/plain": [
       "Index([], dtype='object')"
      ]
     },
     "execution_count": 80,
     "metadata": {},
     "output_type": "execute_result"
    }
   ],
   "source": [
    "(X_train.columns^X_test.columns)"
   ]
  },
  {
   "cell_type": "markdown",
   "id": "6bc021a1-bcd6-4b00-8647-9d35956ae9dc",
   "metadata": {},
   "source": [
    "### linear regression"
   ]
  },
  {
   "cell_type": "code",
   "execution_count": 98,
   "id": "bd5ecaba-1084-4272-b9a2-d862de370ec8",
   "metadata": {},
   "outputs": [
    {
     "name": "stdout",
     "output_type": "stream",
     "text": [
      "MSE: 550.2060469958134\n",
      "MAE: 13.765561919128782\n",
      "R^2: 0.03136563952931848\n"
     ]
    },
    {
     "data": {
      "text/plain": [
       "<function matplotlib.pyplot.show(close=None, block=None)>"
      ]
     },
     "execution_count": 98,
     "metadata": {},
     "output_type": "execute_result"
    },
    {
     "data": {
      "image/png": "[encoded data removed]",
      "text/plain": [
       "<Figure size 432x288 with 1 Axes>"
      ]
     },
     "metadata": {
      "needs_background": "light"
     },
     "output_type": "display_data"
    }
   ],
   "source": [
    "#unstandardized\n",
    "lin_reg = LinearRegression()\n",
    "lin_reg.fit(X_train,y_train)\n",
    "y_pred = lin_reg.predict(X_test)\n",
    "print(\"MSE:\", mean_squared_error(y_test, y_pred))\n",
    "print(\"MAE:\", mean_absolute_error(y_test, y_pred))\n",
    "print(\"R^2:\", r2_score(y_test, y_pred))\n",
    "plt.hist(y_test, alpha=0.5)\n",
    "plt.hist(y_pred, color='r')\n",
    "plt.show"
   ]
  },
  {
   "cell_type": "code",
   "execution_count": 60,
   "id": "28d0f5a4-bb40-4b40-9f27-a9cff827a38a",
   "metadata": {},
   "outputs": [
    {
     "name": "stdout",
     "output_type": "stream",
     "text": [
      "MSE: 530.1927286199656\n",
      "MAE: 13.25071223016713\n",
      "R^2: 0.028639115907768242\n"
     ]
    },
    {
     "data": {
      "text/plain": [
       "<function matplotlib.pyplot.show(close=None, block=None)>"
      ]
     },
     "execution_count": 60,
     "metadata": {},
     "output_type": "execute_result"
    },
    {
     "data": {
      "image/png": "[encoded data removed]",
      "text/plain": [
       "<Figure size 432x288 with 1 Axes>"
      ]
     },
     "metadata": {
      "needs_background": "light"
     },
     "output_type": "display_data"
    }
   ],
   "source": [
    "#standardized\n",
    "lin_reg = LinearRegression()\n",
    "lin_reg.fit(XZ_train,y_train)\n",
    "y_pred = lin_reg.predict(XZ_test)\n",
    "print(\"MSE:\", mean_squared_error(y_test, y_pred))\n",
    "print(\"MAE:\", mean_absolute_error(y_test, y_pred))\n",
    "print(\"R^2:\", r2_score(y_test, y_pred))\n",
    "plt.hist(y_test, alpha=0.5)\n",
    "plt.hist(y_pred, color='r')\n",
    "plt.show"
   ]
  },
  {
   "cell_type": "markdown",
   "id": "e0ea2c2a-d521-4fdb-a984-a9f23b42498c",
   "metadata": {},
   "source": [
    "### Gradient Descent"
   ]
  },
  {
   "cell_type": "code",
   "execution_count": 74,
   "id": "82c7b705-4d6d-481d-91e3-635ae8e8364a",
   "metadata": {},
   "outputs": [
    {
     "name": "stdout",
     "output_type": "stream",
     "text": [
      "MSE: 1.3512322115168733e+22\n",
      "MAE: 3675298132.18735\n",
      "R^2: -2.4721807587111707e+19\n"
     ]
    },
    {
     "data": {
      "text/plain": [
       "<function matplotlib.pyplot.show(close=None, block=None)>"
      ]
     },
     "execution_count": 74,
     "metadata": {},
     "output_type": "execute_result"
    },
    {
     "data": {
      "image/png": "[encoded data removed]",
      "text/plain": [
       "<Figure size 432x288 with 1 Axes>"
      ]
     },
     "metadata": {
      "needs_background": "light"
     },
     "output_type": "display_data"
    }
   ],
   "source": [
    "from sklearn import linear_model\n",
    "SGDClf = linear_model.SGDRegressor()\n",
    "SGDClf.fit(XZ_train, y_train)\n",
    "y_pred = SGDClf.predict(XZ_test)\n",
    "print(\"MSE:\", mean_squared_error(y_test, y_pred))\n",
    "print(\"MAE:\", mean_absolute_error(y_test, y_pred))\n",
    "print(\"R^2:\", r2_score(y_test, y_pred))\n",
    "plt.hist(y_test, alpha=0.5)\n",
    "plt.hist(y_pred, color='r')\n",
    "plt.show"
   ]
  },
  {
   "cell_type": "markdown",
   "id": "d5aad3a3-86a9-4daa-b0de-159b0a9624ea",
   "metadata": {},
   "source": [
    "### Random Forest Regressor"
   ]
  },
  {
   "cell_type": "code",
   "execution_count": 61,
   "id": "49866776-407e-4790-9bca-15db9be4786d",
   "metadata": {},
   "outputs": [],
   "source": [
    "from sklearn.ensemble import RandomForestRegressor\n",
    "from sklearn import metrics"
   ]
  },
  {
   "cell_type": "code",
   "execution_count": 62,
   "id": "83328654-19ba-4dd7-9f1a-4869899f6dfb",
   "metadata": {},
   "outputs": [
    {
     "name": "stdout",
     "output_type": "stream",
     "text": [
      "\n",
      "MAE: 14.839406436394366\n",
      "MSE: 522.2351101077043\n",
      "RMSE: 22.85246398329301\n",
      "r^2: 0.04321819052740428\n",
      "\n"
     ]
    },
    {
     "data": {
      "text/plain": [
       "<function matplotlib.pyplot.show(close=None, block=None)>"
      ]
     },
     "execution_count": 62,
     "metadata": {},
     "output_type": "execute_result"
    },
    {
     "data": {
      "image/png": "[encoded data removed]",
      "text/plain": [
       "<Figure size 432x288 with 1 Axes>"
      ]
     },
     "metadata": {
      "needs_background": "light"
     },
     "output_type": "display_data"
    }
   ],
   "source": [
    "X_train_arr = np.array(XZ_train)\n",
    "y_train_arr = np.array(y_train)\n",
    "X_val_arr = np.array(XZ_test)\n",
    "\n",
    "clf=RandomForestRegressor(n_estimators=100)\n",
    "clf.fit(X_train_arr,y_train_arr)\n",
    "\n",
    "y_pred = clf.predict(X_val_arr)\n",
    "\n",
    "mae = metrics.mean_absolute_error(y_test, y_pred)\n",
    "mse = metrics.mean_squared_error(y_test, y_pred)\n",
    "rmse = np.sqrt(mse) # or mse**(0.5)  \n",
    "r2 = metrics.r2_score(y_test,y_pred)\n",
    "\n",
    "print(f'''\n",
    "MAE: {mae}\n",
    "MSE: {mse}\n",
    "RMSE: {rmse}\n",
    "r^2: {r2}\n",
    "''')\n",
    "plt.hist(y_test, alpha=0.5)\n",
    "plt.hist(y_pred, color='r')\n",
    "plt.show"
   ]
  },
  {
   "cell_type": "markdown",
   "id": "21ff7725-bd4f-460f-b4d7-5800dd100d1b",
   "metadata": {},
   "source": [
    "\n",
    "mae = metrics.mean_absolute_error(y_test, y_pred)\n",
    "mse = metrics.mean_squared_error(y_test, y_pred)\n",
    "rmse = np.sqrt(mse) # or mse**(0.5)  \n",
    "r2 = metrics.r2_score(y_test,y_pred)\n",
    "\n",
    "print(f'''\n",
    "MAE: {mae}\n",
    "MSE: {mse}\n",
    "RMSE: {rmse}\n",
    "r^2: {r2}\n",
    "''')\n",
    "plt.hist(y_test, alpha=0.5)\n",
    "plt.hist(y_pred, color='r')\n",
    "plt.show\n",
    "\n"
   ]
  },
  {
   "cell_type": "raw",
   "id": "2f8e1a13-4774-4220-80b7-af49c0a908a8",
   "metadata": {},
   "source": [
    "\n",
    "mae = metrics.mean_absolute_error(y_test, y_pred)\n",
    "mse = metrics.mean_squared_error(y_test, y_pred)\n",
    "rmse = np.sqrt(mse) # or mse**(0.5)  \n",
    "r2 = metrics.r2_score(y_test,y_pred)\n",
    "\n",
    "print(f'''\n",
    "MAE: {mae}\n",
    "MSE: {mse}\n",
    "RMSE: {rmse}\n",
    "r^2: {r2}\n",
    "''')\n",
    "plt.hist(y_test, alpha=0.5)\n",
    "plt.hist(y_pred, color='r')\n",
    "plt.show\n",
    "\n"
   ]
  },
  {
   "cell_type": "code",
   "execution_count": null,
   "id": "a20259f3-c2db-45b1-9c7d-86c77d440931",
   "metadata": {},
   "outputs": [],
   "source": [
    "from sklearn import linear_model\n",
    "from sklearn.pipeline import make_pipeline\n",
    "SGDClf = linear_model.SGDClassifier()\n",
    "SGDclf = make_pipeline(StandardScaler(),\n",
    "                   linear_model.SGDClassifier())\n",
    "SGDClf.fit(X_train, y_train)"
   ]
  },
  {
   "cell_type": "code",
   "execution_count": 122,
   "id": "a537dca8-303d-44d5-8496-1a601941dd70",
   "metadata": {},
   "outputs": [],
   "source": [
    "yz_test = scaler.fit_transform(np.array(y_test).reshape(-1, 1))"
   ]
  },
  {
   "cell_type": "code",
   "execution_count": 134,
   "id": "ae44ce91-4ff1-439c-a5aa-a5b3b31b50d3",
   "metadata": {},
   "outputs": [
    {
     "name": "stdout",
     "output_type": "stream",
     "text": [
      "MSE: 2.1679643346635897\n",
      "MAE: 0.6469795073213613\n",
      "R^2: -1.1679643346635897\n"
     ]
    },
    {
     "data": {
      "text/plain": [
       "<function matplotlib.pyplot.show(close=None, block=None)>"
      ]
     },
     "execution_count": 134,
     "metadata": {},
     "output_type": "execute_result"
    },
    {
     "data": {
      "image/png": "[encoded data removed]",
      "text/plain": [
       "<Figure size 432x288 with 1 Axes>"
      ]
     },
     "metadata": {
      "needs_background": "light"
     },
     "output_type": "display_data"
    }
   ],
   "source": [
    "y_pred = SGDClf.predict(XZ_test)\n",
    "print(\"MSE:\", mean_squared_error(yz_test, y_pred))\n",
    "print(\"MAE:\", mean_absolute_error(yz_test, y_pred))\n",
    "print(\"R^2:\", r2_score(yz_test, y_pred))\n",
    "plt.hist(yz_test, alpha=0.5)\n",
    "plt.hist(y_pred, color='r')\n",
    "plt.show"
   ]
  },
  {
   "cell_type": "code",
   "execution_count": 68,
   "id": "eab967ab-9eb8-4c19-b67c-1ca1783e7e2c",
   "metadata": {},
   "outputs": [
    {
     "ename": "NameError",
     "evalue": "name 'SGDClf' is not defined",
     "output_type": "error",
     "traceback": [
      "\u001b[0;31m---------------------------------------------------------------------------\u001b[0m",
      "\u001b[0;31mNameError\u001b[0m                                 Traceback (most recent call last)",
      "\u001b[0;32m/tmp/ipykernel_37702/2547490554.py\u001b[0m in \u001b[0;36m<module>\u001b[0;34m\u001b[0m\n\u001b[0;32m----> 1\u001b[0;31m \u001b[0my_pred\u001b[0m \u001b[0;34m=\u001b[0m \u001b[0mSGDClf\u001b[0m\u001b[0;34m.\u001b[0m\u001b[0mpredict\u001b[0m\u001b[0;34m(\u001b[0m\u001b[0mXZ_test\u001b[0m\u001b[0;34m)\u001b[0m\u001b[0;34m\u001b[0m\u001b[0;34m\u001b[0m\u001b[0m\n\u001b[0m\u001b[1;32m      2\u001b[0m \u001b[0mprint\u001b[0m\u001b[0;34m(\u001b[0m\u001b[0;34m\"MSE:\"\u001b[0m\u001b[0;34m,\u001b[0m \u001b[0mmean_squared_error\u001b[0m\u001b[0;34m(\u001b[0m\u001b[0my_test\u001b[0m\u001b[0;34m,\u001b[0m \u001b[0my_pred\u001b[0m\u001b[0;34m)\u001b[0m\u001b[0;34m)\u001b[0m\u001b[0;34m\u001b[0m\u001b[0;34m\u001b[0m\u001b[0m\n\u001b[1;32m      3\u001b[0m \u001b[0mprint\u001b[0m\u001b[0;34m(\u001b[0m\u001b[0;34m\"MAE:\"\u001b[0m\u001b[0;34m,\u001b[0m \u001b[0mmean_absolute_error\u001b[0m\u001b[0;34m(\u001b[0m\u001b[0my_test\u001b[0m\u001b[0;34m,\u001b[0m \u001b[0my_pred\u001b[0m\u001b[0;34m)\u001b[0m\u001b[0;34m)\u001b[0m\u001b[0;34m\u001b[0m\u001b[0;34m\u001b[0m\u001b[0m\n\u001b[1;32m      4\u001b[0m \u001b[0mprint\u001b[0m\u001b[0;34m(\u001b[0m\u001b[0;34m\"R^2:\"\u001b[0m\u001b[0;34m,\u001b[0m \u001b[0mr2_score\u001b[0m\u001b[0;34m(\u001b[0m\u001b[0my_test\u001b[0m\u001b[0;34m,\u001b[0m \u001b[0my_pred\u001b[0m\u001b[0;34m)\u001b[0m\u001b[0;34m)\u001b[0m\u001b[0;34m\u001b[0m\u001b[0;34m\u001b[0m\u001b[0m\n\u001b[1;32m      5\u001b[0m \u001b[0mplt\u001b[0m\u001b[0;34m.\u001b[0m\u001b[0mhist\u001b[0m\u001b[0;34m(\u001b[0m\u001b[0my_test\u001b[0m\u001b[0;34m,\u001b[0m \u001b[0malpha\u001b[0m\u001b[0;34m=\u001b[0m\u001b[0;36m0.5\u001b[0m\u001b[0;34m)\u001b[0m\u001b[0;34m\u001b[0m\u001b[0;34m\u001b[0m\u001b[0m\n",
      "\u001b[0;31mNameError\u001b[0m: name 'SGDClf' is not defined"
     ]
    }
   ],
   "source": [
    "y_pred = SGDClf.predict(XZ_test)\n",
    "print(\"MSE:\", mean_squared_error(y_test, y_pred))\n",
    "print(\"MAE:\", mean_absolute_error(y_test, y_pred))\n",
    "print(\"R^2:\", r2_score(y_test, y_pred))\n",
    "plt.hist(y_test, alpha=0.5)\n",
    "plt.hist(y_pred, color='r')\n",
    "plt.show"
   ]
  },
  {
   "cell_type": "code",
   "execution_count": 124,
   "id": "6062a7bc-90e0-4073-898c-77ff00266a28",
   "metadata": {},
   "outputs": [],
   "source": [
    "import matplotlib.pyplot as plt"
   ]
  },
  {
   "cell_type": "markdown",
   "id": "b05b67a6-f28b-4536-8ac1-070dda8e5fad",
   "metadata": {},
   "source": [
    "### Lasso Regression"
   ]
  },
  {
   "cell_type": "code",
   "execution_count": 67,
   "id": "10bc3319-be30-47f5-8a29-dd09dae7be0b",
   "metadata": {},
   "outputs": [
    {
     "name": "stdout",
     "output_type": "stream",
     "text": [
      "MSE: 544.2020304981953\n",
      "MAE: 14.42854473675977\n",
      "R^2: 0.004341535686970932\n"
     ]
    },
    {
     "data": {
      "text/plain": [
       "<function matplotlib.pyplot.show(close=None, block=None)>"
      ]
     },
     "execution_count": 67,
     "metadata": {},
     "output_type": "execute_result"
    },
    {
     "data": {
      "image/png": "[encoded data removed]",
      "text/plain": [
       "<Figure size 432x288 with 1 Axes>"
      ]
     },
     "metadata": {
      "needs_background": "light"
     },
     "output_type": "display_data"
    }
   ],
   "source": [
    "from sklearn.linear_model import Lasso\n",
    "clf = Lasso(alpha=3)\n",
    "clf.fit(XZ_train,y_train)\n",
    "y_pred = clf.predict(XZ_test)\n",
    "print(\"MSE:\", mean_squared_error(y_test, y_pred))\n",
    "print(\"MAE:\", mean_absolute_error(y_test, y_pred))\n",
    "print(\"R^2:\", r2_score(y_test, y_pred))\n",
    "plt.hist(y_test, alpha=0.5)\n",
    "plt.hist(y_pred, color='r')\n",
    "plt.show"
   ]
  },
  {
   "cell_type": "markdown",
   "id": "2f852e74-5a2b-43af-929c-15a69b33fca7",
   "metadata": {},
   "source": [
    "### SVR"
   ]
  },
  {
   "cell_type": "code",
   "execution_count": null,
   "id": "d5e59456-37d9-45e7-b3ca-f874c6241b45",
   "metadata": {},
   "outputs": [],
   "source": [
    "from sklearn import svm\n",
    "SVMclf = svm.SVR(kernel='poly')\n",
    "SVMclf.fit(XZ_train, y_train)\n",
    "y_pred = SVMclf.predict(XZ_test)\n",
    "print(\"MSE:\", mean_squared_error(y_test, y_pred))\n",
    "print(\"MAE:\", mean_absolute_error(y_test, y_pred))\n",
    "print(\"R^2:\", r2_score(y_test, y_pred))\n",
    "plt.hist(y_test, alpha=0.5)\n",
    "plt.hist(y_pred, color='r')\n",
    "plt.show"
   ]
  },
  {
   "cell_type": "code",
   "execution_count": 83,
   "id": "bcaf7be5-177e-4cdb-9143-2d61895460da",
   "metadata": {},
   "outputs": [
    {
     "data": {
      "text/plain": [
       "55"
      ]
     },
     "execution_count": 83,
     "metadata": {},
     "output_type": "execute_result"
    }
   ],
   "source": [
    "len(X_test.columns)"
   ]
  },
  {
   "cell_type": "markdown",
   "id": "2af3523d-8ff0-481d-8278-0bb18e15b1b9",
   "metadata": {},
   "source": [
    "### xgboost"
   ]
  },
  {
   "cell_type": "code",
   "execution_count": 9,
   "id": "f068da77-9315-4b25-870a-fd4f9dfc0e5b",
   "metadata": {},
   "outputs": [],
   "source": [
    "import xgboost as xgb"
   ]
  },
  {
   "cell_type": "code",
   "execution_count": 10,
   "id": "4678184c-b630-4f6c-80f2-2d996477b17a",
   "metadata": {},
   "outputs": [],
   "source": [
    "xg_reg = xgb.XGBRegressor(objective ='reg:squarederror', colsample_bytree = 0.3, learning_rate = 0.1,\n",
    "                max_depth = 15, alpha = 10, n_estimators = 200)"
   ]
  },
  {
   "cell_type": "code",
   "execution_count": 11,
   "id": "950c956d-2812-4ab8-a402-ae593a0ebf04",
   "metadata": {},
   "outputs": [
    {
     "name": "stdout",
     "output_type": "stream",
     "text": [
      "MSE: 499.02695193914394\n",
      "MAE: 13.210990530805613\n",
      "R^2: 0.08573762887474523\n"
     ]
    },
    {
     "data": {
      "text/plain": [
       "<function matplotlib.pyplot.show(close=None, block=None)>"
      ]
     },
     "execution_count": 11,
     "metadata": {},
     "output_type": "execute_result"
    },
    {
     "data": {
      "image/png": "[encoded data removed]",
      "text/plain": [
       "<Figure size 432x288 with 1 Axes>"
      ]
     },
     "metadata": {
      "needs_background": "light"
     },
     "output_type": "display_data"
    }
   ],
   "source": [
    "xg_reg.fit(XZ_train,y_train)\n",
    "y_pred = xg_reg.predict(XZ_test)\n",
    "print(\"MSE:\", mean_squared_error(y_test, y_pred))\n",
    "print(\"MAE:\", mean_absolute_error(y_test, y_pred))\n",
    "print(\"R^2:\", r2_score(y_test, y_pred))\n",
    "plt.hist(y_test, alpha=0.5)\n",
    "plt.hist(y_pred, color='r')\n",
    "plt.show"
   ]
  },
  {
   "cell_type": "code",
   "execution_count": null,
   "id": "3c567f7a-2f97-430b-9405-bc854e08921f",
   "metadata": {},
   "outputs": [],
   "source": []
  }
 ],
 "metadata": {
  "kernelspec": {
   "display_name": "Python 3 (ipykernel)",
   "language": "python",
   "name": "python3"
  },
  "language_info": {
   "codemirror_mode": {
    "name": "ipython",
    "version": 3
   },
   "file_extension": ".py",
   "mimetype": "text/x-python",
   "name": "python",
   "nbconvert_exporter": "python",
   "pygments_lexer": "ipython3",
   "version": "3.9.7"
  }
 },
 "nbformat": 4,
 "nbformat_minor": 5
}
