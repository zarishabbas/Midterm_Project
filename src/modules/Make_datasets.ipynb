{
 "cells": [
  {
   "cell_type": "code",
   "execution_count": 1,
   "id": "8acc6b00-e286-4b47-88bf-0b828b69f99d",
   "metadata": {},
   "outputs": [],
   "source": [
    "from sklearn.model_selection import train_test_split\n",
    "import pandas as pd\n",
    "import os"
   ]
  },
  {
   "cell_type": "code",
   "execution_count": 2,
   "id": "28c83f2c-f053-4e00-b43e-175fd0db19c8",
   "metadata": {},
   "outputs": [],
   "source": [
    "path = 'Datasets/flights.csv'\n",
    "filename = os.path.basename(path)"
   ]
  },
  {
   "cell_type": "code",
   "execution_count": 7,
   "id": "d59766c8-2f2e-4209-ab34-10f52e445ef7",
   "metadata": {},
   "outputs": [],
   "source": [
    "def get_data(path):\n",
    "    '''\n",
    "    Input: \n",
    "        path and filename for csv file containing raw data (sep = ',')\n",
    "    Returns:\n",
    "        Data split into training (70%) and validation (30%) subsets in the form\n",
    "        of 2 csv files\n",
    "    '''\n",
    "    filename = os.path.basename(path)\n",
    "    df = pd.read_csv(path, index_col=0)\n",
    "    #split the data into train and test set\n",
    "    train,test = train_test_split(df, test_size=0.30)\n",
    "    #save the data\n",
    "    train.to_csv(f'Datasets/Training/train_{filename}',index=False)\n",
    "    test.to_csv(f'Datasets/Validation/test_{filename}',index=False)"
   ]
  },
  {
   "cell_type": "code",
   "execution_count": null,
   "id": "bdf7dd6e-8770-42e5-b11c-d86ac6367f87",
   "metadata": {},
   "outputs": [],
   "source": [
    "get_data('Datasets/flights_Jan.csv')\n",
    "get_data('Datasets/flights_Jan_1w.csv')\n",
    "get_data('Datasets/flights_Jan_2w.csv')\n",
    "get_data('Datasets/flights_Dec.csv')\n",
    "get_data('Datasets/flights_Dec_Jan.csv')"
   ]
  },
  {
   "cell_type": "code",
   "execution_count": null,
   "id": "2e5952cb-6e81-4566-a7e0-4ecfff8a0024",
   "metadata": {},
   "outputs": [],
   "source": []
  }
 ],
 "metadata": {
  "kernelspec": {
   "display_name": "Python 3 (ipykernel)",
   "language": "python",
   "name": "python3"
  },
  "language_info": {
   "codemirror_mode": {
    "name": "ipython",
    "version": 3
   },
   "file_extension": ".py",
   "mimetype": "text/x-python",
   "name": "python",
   "nbconvert_exporter": "python",
   "pygments_lexer": "ipython3",
   "version": "3.8.12"
  }
 },
 "nbformat": 4,
 "nbformat_minor": 5
}
